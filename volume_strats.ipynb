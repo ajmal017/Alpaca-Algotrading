{
 "cells": [
  {
   "cell_type": "code",
   "execution_count": 1,
   "metadata": {},
   "outputs": [],
   "source": [
    "import backtrader as bt\n",
    "import alpaca_backtrader_api as api\n",
    "import alpaca_trade_api as tradeapi\n",
    "import sys\n",
    "sys.path.insert(0, '../')\n",
    "import pandas as pd\n",
    "import talib as ta\n",
    "import numpy as np\n",
    "from config import key_id, secret_key"
   ]
  },
  {
   "cell_type": "code",
   "execution_count": 2,
   "metadata": {},
   "outputs": [],
   "source": [
    "#import cross signal generator\n",
    "from cross_signal import *"
   ]
  },
  {
   "cell_type": "code",
   "execution_count": 3,
   "metadata": {},
   "outputs": [],
   "source": [
    "import random\n",
    "from datetime import datetime, timedelta\n",
    "\n",
    "\n",
    "# or a function\n",
    "def gen_datetime(min_year=1900, max_year=2019):\n",
    "    # generate a datetime in format yyyy-mm-dd hh:mm:ss.000000\n",
    "    start = datetime(min_year, 1, 1, 00, 00, 00)\n",
    "    years = max_year - min_year + 1\n",
    "    end = start + timedelta(days=365 * years)\n",
    "    return start + (end - start) * random.random()"
   ]
  },
  {
   "cell_type": "code",
   "execution_count": 4,
   "metadata": {},
   "outputs": [],
   "source": [
    "#trading data is called in the form of JSON\n",
    "#https://api.polygon.io/v2/aggs/ticker/AAPL/range/1/day/2019-01-01/2019-02-01?apiKey=\n",
    "\n",
    "\n",
    "api = tradeapi.REST(key_id, secret_key)"
   ]
  },
  {
   "cell_type": "code",
   "execution_count": 5,
   "metadata": {},
   "outputs": [],
   "source": [
    "#generate list of random days into list\n",
    "day_list=[]\n",
    "day_after_list=[]\n",
    "for i in range(500):\n",
    "    rand_day=gen_datetime(2009)\n",
    "    day_list.append(rand_day.strftime(\"%Y-%m-%d\"))\n",
    "    day_after=rand_day + timedelta(days=14)\n",
    "    day_after_list.append(day_after.strftime(\"%Y-%m-%d\"))"
   ]
  },
  {
   "cell_type": "code",
   "execution_count": 6,
   "metadata": {},
   "outputs": [
    {
     "data": {
      "text/plain": [
       "'2010-07-01'"
      ]
     },
     "execution_count": 6,
     "metadata": {},
     "output_type": "execute_result"
    }
   ],
   "source": [
    "day_list[0]"
   ]
  },
  {
   "cell_type": "code",
   "execution_count": 7,
   "metadata": {},
   "outputs": [],
   "source": [
    "#generate random list of symbols\n",
    "sym_list=['JACK']\n",
    "# ,'AAPL','TSLA','JACK'\n",
    "#for i in range(10):\n",
    "    #rand_sym=random.random(range=len(symbols.csv))\n",
    "    #symlist.append(rand_sym)"
   ]
  },
  {
   "cell_type": "code",
   "execution_count": 8,
   "metadata": {},
   "outputs": [],
   "source": [
    "#Generate random day data for\n",
    "df_list=[]\n",
    "for sym in sym_list: \n",
    "    data_day_list=[]\n",
    "    for i in range(len(day_list)):\n",
    "        data_sym = api.polygon.historic_agg_v2(sym, 1, 'minute', _from=day_list[i], to=day_after_list[i]).df\n",
    "        data_day_list.append(data_sym)\n",
    "    df_list.append(data_day_list)"
   ]
  },
  {
   "cell_type": "code",
   "execution_count": 9,
   "metadata": {},
   "outputs": [
    {
     "data": {
      "text/plain": [
       "False"
      ]
     },
     "execution_count": 9,
     "metadata": {},
     "output_type": "execute_result"
    }
   ],
   "source": [
    "cross_sign=crossed_below(df_list[0][0].high,60)\n",
    "cross_sign[0]"
   ]
  },
  {
   "cell_type": "markdown",
   "metadata": {},
   "source": [
    "# Testing"
   ]
  },
  {
   "cell_type": "code",
   "execution_count": 104,
   "metadata": {},
   "outputs": [],
   "source": [
    "#feed strat to cerebro\n",
    "\n",
    "class volumestrat(bt.Strategy):\n",
    "    \"\"\"\n",
    "        this strategy is based around the idea of generating a lot of potential buys and make tiny profits on each trade\n",
    "        we recommend to have at least 60 parallel trades at any time to cover non avoidable losses.\n",
    "        Recommended is to only sell based on ROI for this strategy\n",
    "    \"\"\" \n",
    "#populate a dataframe with indicators\n",
    "    \n",
    "    \n",
    "    \n",
    "#------------------------------------strategy starts here--------------------------------------------------------------    \n",
    "    def __init__(self):\n",
    "        #populate exponential moving averages\n",
    "        self.emahigh=bt.indicators.EMA(self.data.high, period=4)\n",
    "        self.emaclose=bt.indicators.EMA(self.data.close, period=4)\n",
    "        self.emalow=bt.indicators.EMA(self.data.low, period=4)\n",
    "        \n",
    "        \n",
    "        self.mfi=bt.talib.MFI(self.data.high,self.data.low,self.data.close,self.data.volume, timeperiod=14 )\n",
    "        self.ultosc=bt.talib.ULTOSC(self.data.high,self.data.low,self.data.close)\n",
    "        \n",
    "        self.minusdi=bt.talib.MINUS_DI(self.data.high,self.data.low,self.data.close)\n",
    "        self.plusdi=bt.talib.PLUS_DI(self.data.high,self.data.low,self.data.close)\n",
    "     \n",
    "        \n",
    "        #creat stochastic momentum indicators \n",
    "        #1 for down, -1 for up\n",
    "        #self.fastcross=bt.indicators.CrossOver(self.fastk, self.fastd)\n",
    "        \n",
    "        \n",
    "        #create Average Directional Movement Index\n",
    "        self.adx=bt.talib.ADX(self.data.high, self.data.low, self.data.close, timeperiod=14)\n",
    "        \n",
    "        \n",
    "# if open score is less than ema_low, adx is greater than 30, fastk fastd less than 30, then buy\n",
    "#uses indicators to determine buy and sell\n",
    "\n",
    "    def next(self):\n",
    "        if not self.position: #not in the market\n",
    "            if self.data.open < self.emalow and \\\n",
    "            self.mfi < 85 and \\\n",
    "            self.ultosc < 85 and \\\n",
    "            self.minusdi > 25: \\\n",
    "            #self.minusdi > self.plusdi:\n",
    "                self.buy(size=20)\n",
    "                \n",
    "                \n",
    "        else:\n",
    "            if self.data.open >= self.emahigh and \\\n",
    "            self.mfi > 85  and \\\n",
    "            self.ultosc > 85  and \\\n",
    "            self.plusdi > 25:\n",
    "                self.sell(size=20)\n"
   ]
  },
  {
   "cell_type": "code",
   "execution_count": 131,
   "metadata": {},
   "outputs": [],
   "source": [
    "#feed strat to cerebro\n",
    "\n",
    "class volumestrat4(bt.Strategy):\n",
    "    \"\"\"\n",
    "        this strategy is based around the idea of generating a lot of potential buys and make tiny profits on each trade\n",
    "        we recommend to have at least 60 parallel trades at any time to cover non avoidable losses.\n",
    "        Recommended is to only sell based on ROI for this strategy\n",
    "    \"\"\" \n",
    "#populate a dataframe with indicators\n",
    "    \n",
    "    \n",
    "    \n",
    "#------------------------------------strategy starts here--------------------------------------------------------------    \n",
    "    def __init__(self):\n",
    "        #populate exponential moving averages\n",
    "        self.emahigh=bt.indicators.EMA(self.data.high, period=4)\n",
    "        self.emaclose=bt.indicators.EMA(self.data.close, period=4)\n",
    "        self.emalow=bt.indicators.EMA(self.data.low, period=4)\n",
    "        \n",
    "        \n",
    "        self.mfi=bt.talib.MFI(self.data.high,self.data.low,self.data.close,self.data.volume, timeperiod=14 )\n",
    "        self.ultosc=bt.talib.ULTOSC(self.data.high,self.data.low,self.data.close)\n",
    "        \n",
    "        self.minusdi=bt.talib.MINUS_DI(self.data.high,self.data.low,self.data.close)\n",
    "        self.plusdi=bt.talib.PLUS_DI(self.data.high,self.data.low,self.data.close)\n",
    "     \n",
    "        \n",
    "        #creat stochastic momentum indicators \n",
    "        #1 for down, -1 for up\n",
    "        #self.fastcross=bt.indicators.CrossOver(self.fastk, self.fastd)\n",
    "        \n",
    "        \n",
    "        #create Average Directional Movement Index\n",
    "        self.adx=bt.talib.ADX(self.data.high, self.data.low, self.data.close, timeperiod=14)\n",
    "        \n",
    "        \n",
    "# if open score is less than ema_low, adx is greater than 30, fastk fastd less than 30, then buy\n",
    "#uses indicators to determine buy and sell\n",
    "\n",
    "    def next(self):\n",
    "        if not self.position: #not in the market\n",
    "            if self.data.open < self.emalow and \\\n",
    "            self.mfi < 30 and \\\n",
    "            self.ultosc < 30 and \\\n",
    "            self.minusdi > 20: \\\n",
    "            #self.minusdi > self.plusdi:\n",
    "                self.buy(size=20)\n",
    "                \n",
    "                \n",
    "        else:\n",
    "            if self.data.open >= self.emahigh and \\\n",
    "            self.mfi > 85  and \\\n",
    "            self.ultosc > 85  and \\\n",
    "            self.plusdi > 20:\n",
    "                self.sell(size=20)\n"
   ]
  },
  {
   "cell_type": "code",
   "execution_count": 148,
   "metadata": {},
   "outputs": [],
   "source": [
    "#feed strat to cerebro\n",
    "\n",
    "class volumestrat2(bt.Strategy):\n",
    "    \"\"\"\n",
    "        this strategy is based around the idea of generating a lot of potential buys and make tiny profits on each trade\n",
    "        we recommend to have at least 60 parallel trades at any time to cover non avoidable losses.\n",
    "        Recommended is to only sell based on ROI for this strategy\n",
    "    \"\"\" \n",
    "#populate a dataframe with indicators\n",
    "    \n",
    "    \n",
    "    \n",
    "#------------------------------------strategy starts here--------------------------------------------------------------    \n",
    "    def __init__(self):\n",
    "        #populate exponential moving averages\n",
    "        self.emahigh=bt.indicators.EMA(self.data.high, period=4)\n",
    "        self.emaclose=bt.indicators.EMA(self.data.close, period=4)\n",
    "        self.emalow=bt.indicators.EMA(self.data.low, period=4)\n",
    "        \n",
    "        \n",
    "        self.mfi=bt.talib.MFI(self.data.high,self.data.low,self.data.close,self.data.volume, timeperiod=14 )\n",
    "        self.ultosc=bt.talib.ULTOSC(self.data.high,self.data.low,self.data.close)\n",
    "        \n",
    "        self.minusdi=bt.talib.MINUS_DI(self.data.high,self.data.low,self.data.close)\n",
    "        self.plusdi=bt.talib.PLUS_DI(self.data.high,self.data.low,self.data.close)\n",
    "     \n",
    "        \n",
    "        #creat stochastic momentum indicators \n",
    "        #1 for down, -1 for up\n",
    "        #self.fastcross=bt.indicators.CrossOver(self.fastk, self.fastd)\n",
    "        \n",
    "        \n",
    "        #create Average Directional Movement Index\n",
    "        self.adx=bt.talib.ADX(self.data.high, self.data.low, self.data.close, timeperiod=14)\n",
    "        \n",
    "        \n",
    "# if open score is less than ema_low, adx is greater than 30, fastk fastd less than 30, then buy\n",
    "#uses indicators to determine buy and sell\n",
    "\n",
    "    def next(self):\n",
    "        if not self.position: #not in the market\n",
    "            if self.data.open < self.emalow and \\\n",
    "            self.mfi < 20 and \\\n",
    "            self.ultosc < 20 and \\\n",
    "            self.minusdi > 25 and \\\n",
    "            self.minusdi > self.plusdi:\n",
    "                self.buy(size=20)\n",
    "                \n",
    "                \n",
    "        else:\n",
    "            if self.data.open >= self.emahigh and \\\n",
    "            self.mfi > 80  and \\\n",
    "            self.ultosc > 80  and \\\n",
    "            self.minusdi > 25 and \\\n",
    "            self.minusdi < self.plusdi:\n",
    "                self.sell(size=20)\n"
   ]
  },
  {
   "cell_type": "code",
   "execution_count": 1,
   "metadata": {
    "scrolled": true
   },
   "outputs": [
    {
     "ename": "NameError",
     "evalue": "name 'bt' is not defined",
     "output_type": "error",
     "traceback": [
      "\u001b[1;31m---------------------------------------------------------------------------\u001b[0m",
      "\u001b[1;31mNameError\u001b[0m                                 Traceback (most recent call last)",
      "\u001b[1;32m<ipython-input-1-b1c3c5ccd533>\u001b[0m in \u001b[0;36m<module>\u001b[1;34m\u001b[0m\n\u001b[0;32m      1\u001b[0m \u001b[1;31m#feed strat to cerebro\u001b[0m\u001b[1;33m\u001b[0m\u001b[1;33m\u001b[0m\u001b[0m\n\u001b[0;32m      2\u001b[0m \u001b[1;33m\u001b[0m\u001b[0m\n\u001b[1;32m----> 3\u001b[1;33m \u001b[1;32mclass\u001b[0m \u001b[0mvolumestrat7\u001b[0m\u001b[1;33m(\u001b[0m\u001b[0mbt\u001b[0m\u001b[1;33m.\u001b[0m\u001b[0mStrategy\u001b[0m\u001b[1;33m)\u001b[0m\u001b[1;33m:\u001b[0m\u001b[1;33m\u001b[0m\u001b[0m\n\u001b[0m\u001b[0;32m      4\u001b[0m     \"\"\"\n\u001b[0;32m      5\u001b[0m         \u001b[0mthis\u001b[0m \u001b[0mstrategy\u001b[0m \u001b[1;32mis\u001b[0m \u001b[0mbased\u001b[0m \u001b[0maround\u001b[0m \u001b[0mthe\u001b[0m \u001b[0midea\u001b[0m \u001b[0mof\u001b[0m \u001b[0mgenerating\u001b[0m \u001b[0ma\u001b[0m \u001b[0mlot\u001b[0m \u001b[0mof\u001b[0m \u001b[0mpotential\u001b[0m \u001b[0mbuys\u001b[0m \u001b[1;32mand\u001b[0m \u001b[0mmake\u001b[0m \u001b[0mtiny\u001b[0m \u001b[0mprofits\u001b[0m \u001b[0mon\u001b[0m \u001b[0meach\u001b[0m \u001b[0mtrade\u001b[0m\u001b[1;33m\u001b[0m\u001b[0m\n",
      "\u001b[1;31mNameError\u001b[0m: name 'bt' is not defined"
     ]
    }
   ],
   "source": [
    "#feed strat to cerebro\n",
    "\n",
    "class volumestrat7(bt.Strategy):\n",
    "    \"\"\"\n",
    "        this strategy is based around the idea of generating a lot of potential buys and make tiny profits on each trade\n",
    "        we recommend to have at least 60 parallel trades at any time to cover non avoidable losses.\n",
    "        Recommended is to only sell based on ROI for this strategy\n",
    "    \"\"\" \n",
    "#populate a dataframe with indicators\n",
    "    \n",
    "    \n",
    "    \n",
    "#------------------------------------strategy starts here--------------------------------------------------------------    \n",
    "    def __init__(self):\n",
    "        #populate exponential moving averages\n",
    "        self.emahigh=bt.indicators.EMA(self.data.high, period=4)\n",
    "        self.emaclose=bt.indicators.EMA(self.data.close, period=4)\n",
    "        self.emalow=bt.indicators.EMA(self.data.low, period=4)\n",
    "        \n",
    "        \n",
    "        self.mfi=bt.talib.MFI(self.data.high,self.data.low,self.data.close,self.data.volume, timeperiod=14 )\n",
    "        self.ultosc=bt.talib.ULTOSC(self.data.high,self.data.low,self.data.close)\n",
    "        \n",
    "        self.minusdi=bt.talib.MINUS_DI(self.data.high,self.data.low,self.data.close)\n",
    "        self.plusdi=bt.talib.PLUS_DI(self.data.high,self.data.low,self.data.close)\n",
    "     \n",
    "        \n",
    "        #creat stochastic momentum indicators \n",
    "        #1 for down, -1 for up\n",
    "        #self.fastcross=bt.indicators.CrossOver(self.fastk, self.fastd)\n",
    "        \n",
    "        \n",
    "        #create Average Directional Movement Index\n",
    "        self.adx=bt.talib.ADX(self.data.high, self.data.low, self.data.close, timeperiod=14)\n",
    "        \n",
    "        \n",
    "# if open score is less than ema_low, adx is greater than 30, fastk fastd less than 30, then buy\n",
    "#uses indicators to determine buy and sell\n",
    "\n",
    "    def next(self):\n",
    "        if not self.position: #not in the market\n",
    "            if self.mfi < 20 and \\\n",
    "            self.ultosc < 20 and \\\n",
    "            self.minusdi > 25 and \\\n",
    "            self.minusdi > self.plusdi:\n",
    "                self.buy(size=20)\n",
    "                \n",
    "                \n",
    "        else:\n",
    "            if self.mfi > 80  and \\\n",
    "            self.ultosc > 80  and \\\n",
    "            self.minusdi > 25 and \\\n",
    "            self.minusdi < self.plusdi: \n",
    "                self.sell(size=20)\n"
   ]
  },
  {
   "cell_type": "code",
   "execution_count": 205,
   "metadata": {},
   "outputs": [],
   "source": [
    "#feed strat to cerebro\n",
    "\n",
    "class volumestrat4(bt.Strategy):\n",
    "    \"\"\"\n",
    "        this strategy is based around the idea of generating a lot of potential buys and make tiny profits on each trade\n",
    "        we recommend to have at least 60 parallel trades at any time to cover non avoidable losses.\n",
    "        Recommended is to only sell based on ROI for this strategy\n",
    "    \"\"\" \n",
    "#populate a dataframe with indicators\n",
    "    \n",
    "    \n",
    "    \n",
    "#------------------------------------strategy starts here--------------------------------------------------------------    \n",
    "    def __init__(self):\n",
    "        #populate exponential moving averages\n",
    "        self.emahigh=bt.indicators.EMA(self.data.high, period=4)\n",
    "        self.emaclose=bt.indicators.EMA(self.data.close, period=4)\n",
    "        self.emalow=bt.indicators.EMA(self.data.low, period=4)\n",
    "        \n",
    "        \n",
    "        self.mfi=bt.talib.MFI(self.data.high,self.data.low,self.data.close,self.data.volume, timeperiod=14 )\n",
    "        self.ultosc=bt.talib.ULTOSC(self.data.high,self.data.low,self.data.close)\n",
    "        \n",
    "        self.minusdi=bt.talib.MINUS_DI(self.data.high,self.data.low,self.data.close)\n",
    "        self.plusdi=bt.talib.PLUS_DI(self.data.high,self.data.low,self.data.close)\n",
    "     \n",
    "        \n",
    "        #creat stochastic momentum indicators \n",
    "        #1 for down, -1 for up\n",
    "        #self.fastcross=bt.indicators.CrossOver(self.fastk, self.fastd)\n",
    "        \n",
    "        \n",
    "        #create Average Directional Movement Index\n",
    "        self.adx=bt.talib.ADX(self.data.high, self.data.low, self.data.close, timeperiod=14)\n",
    "        \n",
    "        \n",
    "# if open score is less than ema_low, adx is greater than 30, fastk fastd less than 30, then buy\n",
    "#uses indicators to determine buy and sell\n",
    "\n",
    "    def next(self):\n",
    "        if not self.position: #not in the market\n",
    "            if self.data.open < self.emalow and \\\n",
    "            self.mfi < 25 and \\\n",
    "            self.ultosc < 25: \\\n",
    "            #self.minusdi > self.plusdi:\n",
    "                self.buy(size=20)\n",
    "                \n",
    "                \n",
    "        else:\n",
    "            if self.data.open >= self.emahigh and \\\n",
    "            self.mfi > 87  and \\\n",
    "            self.ultosc > 87:\n",
    "                self.sell(size=20)\n"
   ]
  },
  {
   "cell_type": "code",
   "execution_count": 221,
   "metadata": {},
   "outputs": [],
   "source": [
    "#feed strat to cerebro\n",
    "\n",
    "class volumestrat2(bt.Strategy):\n",
    "    \"\"\"\n",
    "        this strategy is based around the idea of generating a lot of potential buys and make tiny profits on each trade\n",
    "        we recommend to have at least 60 parallel trades at any time to cover non avoidable losses.\n",
    "        Recommended is to only sell based on ROI for this strategy\n",
    "    \"\"\" \n",
    "#populate a dataframe with indicators\n",
    "    \n",
    "    \n",
    "    \n",
    "#------------------------------------strategy starts here--------------------------------------------------------------    \n",
    "    def __init__(self):\n",
    "        #populate exponential moving averages\n",
    "        self.emahigh=bt.indicators.EMA(self.data.high, period=4)\n",
    "        self.emaclose=bt.indicators.EMA(self.data.close, period=4)\n",
    "        self.emalow=bt.indicators.EMA(self.data.low, period=4)\n",
    "        \n",
    "        \n",
    "        self.mfi=bt.talib.MFI(self.data.high,self.data.low,self.data.close,self.data.volume, timeperiod=14 )\n",
    "        self.ultosc=bt.talib.ULTOSC(self.data.high,self.data.low,self.data.close)\n",
    "        \n",
    "        self.minusdi=bt.talib.MINUS_DI(self.data.high,self.data.low,self.data.close)\n",
    "        self.plusdi=bt.talib.PLUS_DI(self.data.high,self.data.low,self.data.close)\n",
    "     \n",
    "        \n",
    "        #creat stochastic momentum indicators \n",
    "        #1 for down, -1 for up\n",
    "        #self.fastcross=bt.indicators.CrossOver(self.fastk, self.fastd)\n",
    "        \n",
    "        \n",
    "        #create Average Directional Movement Index\n",
    "        self.adx=bt.talib.ADX(self.data.high, self.data.low, self.data.close, timeperiod=14)\n",
    "        \n",
    "        \n",
    "# if open score is less than ema_low, adx is greater than 30, fastk fastd less than 30, then buy\n",
    "#uses indicators to determine buy and sell\n",
    "\n",
    "    def next(self):\n",
    "        if not self.position: #not in the market\n",
    "            if self.mfi < 15 and \\\n",
    "            self.ultosc < 25 and \\\n",
    "            self.minusdi > 25:\n",
    "                self.buy(size=20)\n",
    "                \n",
    "                \n",
    "        else:\n",
    "            if self.mfi > 90  and \\\n",
    "            self.ultosc > 80  and \\\n",
    "            self.minusdi > 25:\n",
    "                self.sell(size=20)\n"
   ]
  },
  {
   "cell_type": "code",
   "execution_count": 258,
   "metadata": {},
   "outputs": [],
   "source": [
    "#feed strat to cerebro\n",
    "\n",
    "class oscillator_mfi(bt.Strategy):\n",
    "    \"\"\"\n",
    "        this strategy is based around the idea of generating a lot of potential buys and make tiny profits on each trade\n",
    "        we recommend to have at least 60 parallel trades at any time to cover non avoidable losses.\n",
    "        Recommended is to only sell based on ROI for this strategy\n",
    "    \"\"\" \n",
    "#populate a dataframe with indicators\n",
    "    \n",
    "    \n",
    "    \n",
    "#------------------------------------strategy starts here--------------------------------------------------------------    \n",
    "    def __init__(self):\n",
    "        #populate exponential moving averages\n",
    "        self.emahigh=bt.indicators.EMA(self.data.high, period=4)\n",
    "        self.emaclose=bt.indicators.EMA(self.data.close, period=4)\n",
    "        self.emalow=bt.indicators.EMA(self.data.low, period=4)\n",
    "        \n",
    "        \n",
    "        \n",
    "        self.mfi=bt.talib.MFI(self.data.high,self.data.low,self.data.close,self.data.volume, timeperiod=14 )\n",
    "        \n",
    "        #crossing signal\n",
    "        self.adosc=bt.talib.ADOSC(self.data.high,self.data.low,self.data.close,self.data.volume, fastperiod=3, slowperiod=10) \n",
    "        #1 for down, -1 for up\n",
    "        self.cross_sig=bt.indicators.CrossOver(self.adosc, 0)\n",
    "        \n",
    "        \n",
    "        self.emalow=bt.indicators.EMA(self.data.low, period=4)\n",
    "        \n",
    "        self.minusdi=bt.talib.MINUS_DI(self.data.high,self.data.low,self.data.close)\n",
    "        self.plusdi=bt.talib.PLUS_DI(self.data.high,self.data.low,self.data.close)\n",
    "     \n",
    "        \n",
    "\n",
    "        \n",
    "        #create Average Directional Movement Index\n",
    "        self.adx=bt.talib.ADX(self.data.high, self.data.low, self.data.close, timeperiod=14)\n",
    "        \n",
    "        \n",
    "# if open score is less than ema_low, adx is greater than 30, fastk fastd less than 30, then buy\n",
    "#uses indicators to determine buy and sell\n",
    "\n",
    "    def next(self):\n",
    "        if not self.position: #not in the market\n",
    "            if self.cross_sig== -1 and \\\n",
    "            self.mfi < 30: \\\n",
    "            #self.minusdi > self.plusdi:\n",
    "                self.buy(size=20)\n",
    "                \n",
    "                \n",
    "        else:\n",
    "            if self.cross_sig== 1 and \\\n",
    "            self.mfi > 85:\n",
    "                self.sell(size=20)\n"
   ]
  },
  {
   "cell_type": "code",
   "execution_count": 254,
   "metadata": {},
   "outputs": [
    {
     "data": {
      "text/plain": [
       "'self.cross_sig_below=crossed_below(self.adosc,0)\\nself.cross_sig_above=crossed_above(self.adosc,0)\\n        \\n        \\n    def next(self):\\n        if not self.position: #not in the market\\n            if self.cross_sig_above== True and             self.mfi < 30:             #self.minusdi > self.plusdi:\\n                self.buy(size=20)\\n                \\n                \\n        else:\\n            if self.cross_sig_below== True and             self.mfi > 85:\\n                self.sell(size=20)'"
      ]
     },
     "execution_count": 254,
     "metadata": {},
     "output_type": "execute_result"
    }
   ],
   "source": [
    "\"\"\"self.cross_sig_below=crossed_below(self.adosc,0)\n",
    "self.cross_sig_above=crossed_above(self.adosc,0)\n",
    "        \n",
    "        \n",
    "    def next(self):\n",
    "        if not self.position: #not in the market\n",
    "            if self.cross_sig_above== True and \\\n",
    "            self.mfi < 30: \\\n",
    "            #self.minusdi > self.plusdi:\n",
    "                self.buy(size=20)\n",
    "                \n",
    "                \n",
    "        else:\n",
    "            if self.cross_sig_below== True and \\\n",
    "            self.mfi > 85:\n",
    "                self.sell(size=20)\"\"\""
   ]
  },
  {
   "cell_type": "code",
   "execution_count": 255,
   "metadata": {},
   "outputs": [
    {
     "data": {
      "text/plain": [
       "False"
      ]
     },
     "execution_count": 255,
     "metadata": {},
     "output_type": "execute_result"
    }
   ],
   "source": [
    "cross_sign=crossed_below(df_list[0][0].high,60)\n",
    "cross_sign[0]"
   ]
  },
  {
   "cell_type": "code",
   "execution_count": 256,
   "metadata": {},
   "outputs": [],
   "source": [
    "#feed strat to cerebro\n",
    "\n",
    "class Scalp4(bt.Strategy):\n",
    "    \"\"\"\n",
    "        this strategy is based around the idea of generating a lot of potential buys and make tiny profits on each trade\n",
    "        we recommend to have at least 60 parallel trades at any time to cover non avoidable losses.\n",
    "        Recommended is to only sell based on ROI for this strategy\n",
    "    \"\"\" \n",
    "#populate a dataframe with indicators\n",
    "    \n",
    "    \n",
    "    \n",
    "#------------------------------------strategy starts here--------------------------------------------------------------    \n",
    "    def __init__(self):\n",
    "        #populate exponential moving averages\n",
    "        self.emahigh=bt.indicators.EMA(self.data.high, period=5)\n",
    "        self.emaclose=bt.indicators.EMA(self.data.close, period=5)\n",
    "        self.emalow=bt.indicators.EMA(self.data.low, period=5)\n",
    "        self.rsi=bt.talib.RSI(self.data.close, timeperiod=14 )\n",
    "        self.cci=bt.talib.CCI(self.data.high,self.data.low,self.data.close, timeperiod=14 )\n",
    "        \n",
    "        #macd indicators\n",
    "        #self.macd_arr=bt.indicators.macd(self.data.close)\n",
    "        \n",
    "        #self.macd=self.macd_arr[0]\n",
    "        #self.macdsignal=self.macd_arr[1]\n",
    "        \n",
    "        \n",
    "        \n",
    "        #creat stochastic momentum indicators \n",
    "        self.stoch=bt.talib.STOCHF(self.data.high, self.data.low, self.data.close, \\\n",
    "                                   fastk_period=5, slowk_period=3, slowd_period=3)\n",
    "        self.fastk=self.stoch.fastk\n",
    "        self.fastd=self.stoch.fastd\n",
    "        #1 for down, -1 for up\n",
    "        self.fastcross=bt.indicators.CrossOver(self.fastk, self.fastd)\n",
    "        \n",
    "        \n",
    "        #create Average Directional Movement Index\n",
    "        self.adx=bt.talib.ADX(self.data.high, self.data.low, self.data.close, timeperiod=14)\n",
    "        \n",
    "        \n",
    "# if open score is less than ema_low, adx is greater than 30, fastk fastd less than 30, then buy\n",
    "#uses indicators to determine buy and sell\n",
    "\n",
    "    def next(self):\n",
    "        if not self.position: #not in the market\n",
    "            if self.data.open < self.emalow and \\\n",
    "            self.adx > 30 and \\\n",
    "            self.rsi < 29  and \\\n",
    "            self.fastd < 30 and \\\n",
    "            self.fastk > self.fastd and \\\n",
    "            self.fastk < 30:\n",
    "                self.buy(size=30)\n",
    "                \n",
    "                \n",
    "        else:\n",
    "            if self.data.open >= self.emahigh and \\\n",
    "            self.fastd > 70  and \\\n",
    "            self.rsi > 80  and \\\n",
    "            self.fastk > 70:\n",
    "                self.sell(size=30)\n"
   ]
  },
  {
   "cell_type": "code",
   "execution_count": 2,
   "metadata": {},
   "outputs": [
    {
     "ename": "NameError",
     "evalue": "name 'df_list' is not defined",
     "output_type": "error",
     "traceback": [
      "\u001b[1;31m---------------------------------------------------------------------------\u001b[0m",
      "\u001b[1;31mNameError\u001b[0m                                 Traceback (most recent call last)",
      "\u001b[1;32m<ipython-input-2-b3e151ece01a>\u001b[0m in \u001b[0;36m<module>\u001b[1;34m\u001b[0m\n\u001b[0;32m      6\u001b[0m \u001b[0mpnl_list\u001b[0m\u001b[1;33m=\u001b[0m\u001b[1;33m[\u001b[0m\u001b[1;33m]\u001b[0m\u001b[1;33m\u001b[0m\u001b[0m\n\u001b[0;32m      7\u001b[0m \u001b[1;33m\u001b[0m\u001b[0m\n\u001b[1;32m----> 8\u001b[1;33m \u001b[1;32mfor\u001b[0m \u001b[0mi\u001b[0m \u001b[1;32min\u001b[0m \u001b[0mrange\u001b[0m\u001b[1;33m(\u001b[0m\u001b[0mlen\u001b[0m\u001b[1;33m(\u001b[0m\u001b[0mdf_list\u001b[0m\u001b[1;33m[\u001b[0m\u001b[1;36m0\u001b[0m\u001b[1;33m]\u001b[0m\u001b[1;33m)\u001b[0m\u001b[1;33m)\u001b[0m\u001b[1;33m:\u001b[0m\u001b[1;33m\u001b[0m\u001b[0m\n\u001b[0m\u001b[0;32m      9\u001b[0m     \u001b[1;31m#create backtrader\u001b[0m\u001b[1;33m\u001b[0m\u001b[1;33m\u001b[0m\u001b[0m\n\u001b[0;32m     10\u001b[0m     \u001b[0mcerebro\u001b[0m \u001b[1;33m=\u001b[0m \u001b[0mbt\u001b[0m\u001b[1;33m.\u001b[0m\u001b[0mCerebro\u001b[0m\u001b[1;33m(\u001b[0m\u001b[1;33m)\u001b[0m\u001b[1;33m\u001b[0m\u001b[0m\n",
      "\u001b[1;31mNameError\u001b[0m: name 'df_list' is not defined"
     ]
    }
   ],
   "source": [
    "# Run over everything\n",
    "SQN_dict_list=[] \n",
    "tradeanalysis_dict_list=[]\n",
    "ret_dict_list=[]\n",
    "trans_dict_list=[]\n",
    "pnl_list=[]\n",
    "\n",
    "for i in range(len(df_list[0])):\n",
    "    #create backtrader\n",
    "    cerebro = bt.Cerebro()\n",
    "\n",
    "    #cerebro.addstrategy(SmaCross)\n",
    "    #cerebro.addstrategy(Scalp)\n",
    "\n",
    "    #Add slippage\n",
    "    cerebro.broker = bt.brokers.BackBroker(slip_perc=0.005) \n",
    "\n",
    "    #set up cerebro\n",
    "\n",
    "    cerebro.broker.setcash(100000)\n",
    "\n",
    "    cerebro.broker.setcommission(commission=0.0)\n",
    "    cerebro.addsizer(bt.sizers.PercentSizer, percents=50)\n",
    "\n",
    "    # Add the analyzers we are interested in\n",
    "    cerebro.addanalyzer(bt.analyzers.TradeAnalyzer, _name=\"ta\")\n",
    "    cerebro.addanalyzer(bt.analyzers.SQN, _name=\"sqn\")\n",
    "    cerebro.addanalyzer(bt.analyzers.Returns, _name=\"ret\")\n",
    "    cerebro.addanalyzer(bt.analyzers.PeriodStats, _name=\"pstat\")\n",
    "    cerebro.addanalyzer(bt.analyzers.Transactions, _name=\"trans\")\n",
    "\n",
    "\n",
    "    # Add the observers we are interested in \n",
    "    #this adds more things to the plot on top of the stocks chart\n",
    "    cerebro.addobserver(bt.observers.Broker)\n",
    "    cerebro.addobserver(bt.observers.BuySell)\n",
    "    \n",
    "    \n",
    "    \n",
    "    \n",
    "    cerebro.addstrategy(oscillator_mfi)\n",
    "    datacere = bt.feeds.PandasData(dataname=df_list[0][i])\n",
    "    cerebro.adddata(datacere,name=day_list[i])\n",
    "#    print(day_list[i]+' added')\n",
    "    test=cerebro.run()\n",
    "    \n",
    "    \n",
    "    \n",
    "    \n",
    "    \n",
    "    SQN_dict=test[0].analyzers.sqn.get_analysis() \n",
    "    SQN_dict_list.append(SQN_dict)\n",
    "    \n",
    "    tradeanalysis_dict=test[0].analyzers.ta.get_analysis()\n",
    "    tradeanalysis_dict_list.append(tradeanalysis_dict)\n",
    "    \n",
    "    ret_dict=test[0].analyzers.ret.get_analysis()\n",
    "    ret_dict_list.append(ret_dict)\n",
    "    \n",
    "    trans_dict=test[0].analyzers.trans.get_analysis()\n",
    "    trans_dict_list.append(trans_dict_list)\n",
    "    "
   ]
  },
  {
   "cell_type": "code",
   "execution_count": 3,
   "metadata": {},
   "outputs": [
    {
     "ename": "ZeroDivisionError",
     "evalue": "division by zero",
     "output_type": "error",
     "traceback": [
      "\u001b[1;31m---------------------------------------------------------------------------\u001b[0m",
      "\u001b[1;31mZeroDivisionError\u001b[0m                         Traceback (most recent call last)",
      "\u001b[1;32m<ipython-input-3-51bdda66465f>\u001b[0m in \u001b[0;36m<module>\u001b[1;34m\u001b[0m\n\u001b[0;32m      3\u001b[0m     \u001b[0mSQN_total\u001b[0m\u001b[1;33m=\u001b[0m\u001b[0mSQN_total\u001b[0m\u001b[1;33m+\u001b[0m\u001b[0mSQN_dict_list\u001b[0m\u001b[1;33m[\u001b[0m\u001b[0mi\u001b[0m\u001b[1;33m]\u001b[0m\u001b[1;33m[\u001b[0m\u001b[1;34m'sqn'\u001b[0m\u001b[1;33m]\u001b[0m\u001b[1;33m\u001b[0m\u001b[0m\n\u001b[0;32m      4\u001b[0m \u001b[1;33m\u001b[0m\u001b[0m\n\u001b[1;32m----> 5\u001b[1;33m \u001b[0mSQN_avg\u001b[0m\u001b[1;33m=\u001b[0m\u001b[0mSQN_total\u001b[0m\u001b[1;33m/\u001b[0m\u001b[0mlen\u001b[0m\u001b[1;33m(\u001b[0m\u001b[0mSQN_dict_list\u001b[0m\u001b[1;33m)\u001b[0m\u001b[1;33m\u001b[0m\u001b[0m\n\u001b[0m",
      "\u001b[1;31mZeroDivisionError\u001b[0m: division by zero"
     ]
    }
   ],
   "source": [
    "SQN_total=0\n",
    "for i in range(len(SQN_dict_list)):    \n",
    "    SQN_total=SQN_total+SQN_dict_list[i]['sqn']\n",
    "\n",
    "SQN_avg=SQN_total/len(SQN_dict_list)"
   ]
  },
  {
   "cell_type": "code",
   "execution_count": 4,
   "metadata": {},
   "outputs": [
    {
     "ename": "NameError",
     "evalue": "name 'SQN_avg' is not defined",
     "output_type": "error",
     "traceback": [
      "\u001b[1;31m---------------------------------------------------------------------------\u001b[0m",
      "\u001b[1;31mNameError\u001b[0m                                 Traceback (most recent call last)",
      "\u001b[1;32m<ipython-input-4-faf6dd80073e>\u001b[0m in \u001b[0;36m<module>\u001b[1;34m\u001b[0m\n\u001b[1;32m----> 1\u001b[1;33m \u001b[0mSQN_avg\u001b[0m\u001b[1;33m\u001b[0m\u001b[0m\n\u001b[0m",
      "\u001b[1;31mNameError\u001b[0m: name 'SQN_avg' is not defined"
     ]
    }
   ],
   "source": [
    "SQN_avg"
   ]
  },
  {
   "cell_type": "code",
   "execution_count": 5,
   "metadata": {},
   "outputs": [
    {
     "ename": "IndexError",
     "evalue": "list index out of range",
     "output_type": "error",
     "traceback": [
      "\u001b[1;31m---------------------------------------------------------------------------\u001b[0m",
      "\u001b[1;31mIndexError\u001b[0m                                Traceback (most recent call last)",
      "\u001b[1;32m<ipython-input-5-d69d388ae051>\u001b[0m in \u001b[0;36m<module>\u001b[1;34m\u001b[0m\n\u001b[1;32m----> 1\u001b[1;33m \u001b[0mtradeanalysis_dict_list\u001b[0m\u001b[1;33m[\u001b[0m\u001b[1;36m0\u001b[0m\u001b[1;33m]\u001b[0m\u001b[1;33m\u001b[0m\u001b[0m\n\u001b[0m",
      "\u001b[1;31mIndexError\u001b[0m: list index out of range"
     ]
    }
   ],
   "source": [
    "tradeanalysis_dict_list[0]"
   ]
  },
  {
   "cell_type": "code",
   "execution_count": 6,
   "metadata": {},
   "outputs": [
    {
     "ename": "NameError",
     "evalue": "name 'df_list' is not defined",
     "output_type": "error",
     "traceback": [
      "\u001b[1;31m---------------------------------------------------------------------------\u001b[0m",
      "\u001b[1;31mNameError\u001b[0m                                 Traceback (most recent call last)",
      "\u001b[1;32m<ipython-input-6-5e19c331ae22>\u001b[0m in \u001b[0;36m<module>\u001b[1;34m\u001b[0m\n\u001b[0;32m     10\u001b[0m \u001b[0mtotal_avg\u001b[0m\u001b[1;33m=\u001b[0m\u001b[1;36m0\u001b[0m\u001b[1;33m\u001b[0m\u001b[0m\n\u001b[0;32m     11\u001b[0m \u001b[1;33m\u001b[0m\u001b[0m\n\u001b[1;32m---> 12\u001b[1;33m \u001b[1;32mfor\u001b[0m \u001b[0mi\u001b[0m \u001b[1;32min\u001b[0m \u001b[0mrange\u001b[0m\u001b[1;33m(\u001b[0m\u001b[0mlen\u001b[0m\u001b[1;33m(\u001b[0m\u001b[0mdf_list\u001b[0m\u001b[1;33m[\u001b[0m\u001b[1;36m0\u001b[0m\u001b[1;33m]\u001b[0m\u001b[1;33m)\u001b[0m\u001b[1;33m)\u001b[0m\u001b[1;33m:\u001b[0m\u001b[1;33m\u001b[0m\u001b[0m\n\u001b[0m\u001b[0;32m     13\u001b[0m     \u001b[1;32mtry\u001b[0m\u001b[1;33m:\u001b[0m\u001b[1;33m\u001b[0m\u001b[0m\n\u001b[0;32m     14\u001b[0m         \u001b[0mwin_total\u001b[0m\u001b[1;33m=\u001b[0m\u001b[0mwin_total\u001b[0m\u001b[1;33m+\u001b[0m\u001b[0mtradeanalysis_dict_list\u001b[0m\u001b[1;33m[\u001b[0m\u001b[0mi\u001b[0m\u001b[1;33m]\u001b[0m\u001b[1;33m[\u001b[0m\u001b[1;34m'won'\u001b[0m\u001b[1;33m]\u001b[0m\u001b[1;33m[\u001b[0m\u001b[1;34m'total'\u001b[0m\u001b[1;33m]\u001b[0m\u001b[1;33m\u001b[0m\u001b[0m\n",
      "\u001b[1;31mNameError\u001b[0m: name 'df_list' is not defined"
     ]
    }
   ],
   "source": [
    "win_total=0\n",
    "total_won_pnl=0\n",
    "avg_won=0\n",
    "\n",
    "lost_total=0\n",
    "total_lost_pnl=0\n",
    "avg_lost=0\n",
    "\n",
    "total_pnl=0\n",
    "total_avg=0\n",
    "\n",
    "for i in range(len(df_list[0])):\n",
    "    try:\n",
    "        win_total=win_total+tradeanalysis_dict_list[i]['won']['total']\n",
    "        total_won_pnl=total_won_pnl+tradeanalysis_dict_list[i]['won']['pnl']['total']\n",
    "        avg_won=avg_won+tradeanalysis_dict_list[i]['won']['pnl']['average']\n",
    "\n",
    "        lost_total=lost_total+tradeanalysis_dict_list[i]['lost']['total']\n",
    "        total_lost_pnl=total_lost_pnl+tradeanalysis_dict_list[i]['lost']['pnl']['total']\n",
    "        avg_lost=avg_lost+tradeanalysis_dict_list[i]['lost']['pnl']['average']\n",
    "\n",
    "        total_pnl=total_pnl+tradeanalysis_dict_list[i]['pnl']['gross']['total']\n",
    "        total_avg=total_avg+tradeanalysis_dict_list[i]['pnl']['gross']['average']\n",
    "    except:\n",
    "        pass\n"
   ]
  },
  {
   "cell_type": "code",
   "execution_count": 7,
   "metadata": {},
   "outputs": [
    {
     "data": {
      "text/plain": [
       "(0, 0, 0)"
      ]
     },
     "execution_count": 7,
     "metadata": {},
     "output_type": "execute_result"
    }
   ],
   "source": [
    "win_total , total_won_pnl , avg_won "
   ]
  },
  {
   "cell_type": "code",
   "execution_count": 265,
   "metadata": {},
   "outputs": [
    {
     "data": {
      "text/plain": [
       "(988, -26461.072000000004, -12481.48570000001)"
      ]
     },
     "execution_count": 265,
     "metadata": {},
     "output_type": "execute_result"
    }
   ],
   "source": [
    "lost_total , total_lost_pnl , avg_lost"
   ]
  },
  {
   "cell_type": "code",
   "execution_count": 266,
   "metadata": {
    "scrolled": false
   },
   "outputs": [
    {
     "data": {
      "text/plain": [
       "(7083.223999999994, 863.2129500000007)"
      ]
     },
     "execution_count": 266,
     "metadata": {},
     "output_type": "execute_result"
    }
   ],
   "source": [
    "total_pnl , total_avg"
   ]
  },
  {
   "cell_type": "code",
   "execution_count": 267,
   "metadata": {},
   "outputs": [
    {
     "data": {
      "text/plain": [
       "0.6055888223552894"
      ]
     },
     "execution_count": 267,
     "metadata": {},
     "output_type": "execute_result"
    }
   ],
   "source": [
    "win_total/(win_total+lost_total)"
   ]
  },
  {
   "cell_type": "code",
   "execution_count": 268,
   "metadata": {},
   "outputs": [
    {
     "data": {
      "text/plain": [
       "0.8775898178516666"
      ]
     },
     "execution_count": 268,
     "metadata": {},
     "output_type": "execute_result"
    }
   ],
   "source": [
    "total_pnl/(total_pnl+lost_total)"
   ]
  },
  {
   "cell_type": "code",
   "execution_count": 269,
   "metadata": {},
   "outputs": [
    {
     "data": {
      "text/plain": [
       "0.8635478203235784"
      ]
     },
     "execution_count": 269,
     "metadata": {},
     "output_type": "execute_result"
    }
   ],
   "source": [
    "avg_won/(-avg_lost)"
   ]
  },
  {
   "cell_type": "code",
   "execution_count": 270,
   "metadata": {},
   "outputs": [],
   "source": [
    "# print the SQN analyzers  SystemQualityNumber\n",
    "#test[0] is the first strategy used. For multiple strategies, use corresponding number in the list.\n",
    "#SQN_dict=test[0].analyzers.sqn.get_analysis() \n",
    "#tradeanalysis_dict=test[0].analyzers.ta.get_analysis()\n",
    "#ret_dict=test[0].analyzers.ret.get_analysis()\n",
    "#trans_dict=test[0].analyzers.trans.get_analysis()\n"
   ]
  },
  {
   "cell_type": "code",
   "execution_count": 271,
   "metadata": {
    "scrolled": true
   },
   "outputs": [
    {
     "data": {
      "text/plain": [
       "OrderedDict([(datetime.datetime(2011, 11, 21, 21, 46),\n",
       "              [[20, 52.6329, 0, '2011-11-19', -1052.658]]),\n",
       "             (datetime.datetime(2011, 11, 21, 22, 12),\n",
       "              [[-20, 52.7157, 0, '2011-11-19', 1054.3139999999999]]),\n",
       "             (datetime.datetime(2011, 11, 21, 23, 11),\n",
       "              [[20, 52.7157, 0, '2011-11-19', -1054.3139999999999]]),\n",
       "             (datetime.datetime(2011, 11, 22, 14, 31),\n",
       "              [[-20, 53.1186, 0, '2011-11-19', 1062.372]]),\n",
       "             (datetime.datetime(2011, 11, 22, 16, 5),\n",
       "              [[20, 53.1146, 0, '2011-11-19', -1062.2920000000001]]),\n",
       "             (datetime.datetime(2011, 11, 29, 19, 37),\n",
       "              [[-20, 53.4643, 0, '2011-11-19', 1069.286]]),\n",
       "             (datetime.datetime(2011, 11, 29, 21, 51),\n",
       "              [[20, 53.2143, 0, '2011-11-19', -1064.286]])])"
      ]
     },
     "execution_count": 271,
     "metadata": {},
     "output_type": "execute_result"
    }
   ],
   "source": [
    "trans_dict"
   ]
  },
  {
   "cell_type": "code",
   "execution_count": 272,
   "metadata": {},
   "outputs": [
    {
     "data": {
      "text/plain": [
       "7"
      ]
     },
     "execution_count": 272,
     "metadata": {},
     "output_type": "execute_result"
    }
   ],
   "source": [
    "len(trans_dict)"
   ]
  },
  {
   "cell_type": "code",
   "execution_count": null,
   "metadata": {},
   "outputs": [],
   "source": []
  },
  {
   "cell_type": "code",
   "execution_count": null,
   "metadata": {},
   "outputs": [],
   "source": []
  },
  {
   "cell_type": "code",
   "execution_count": null,
   "metadata": {},
   "outputs": [],
   "source": []
  },
  {
   "cell_type": "code",
   "execution_count": null,
   "metadata": {},
   "outputs": [],
   "source": []
  }
 ],
 "metadata": {
  "kernelspec": {
   "display_name": "Python 3",
   "language": "python",
   "name": "python3"
  },
  "language_info": {
   "codemirror_mode": {
    "name": "ipython",
    "version": 3
   },
   "file_extension": ".py",
   "mimetype": "text/x-python",
   "name": "python",
   "nbconvert_exporter": "python",
   "pygments_lexer": "ipython3",
   "version": "3.6.5"
  }
 },
 "nbformat": 4,
 "nbformat_minor": 4
}
