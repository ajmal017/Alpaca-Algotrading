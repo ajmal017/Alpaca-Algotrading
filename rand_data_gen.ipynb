{
 "cells": [
  {
   "cell_type": "code",
   "execution_count": 8,
   "metadata": {},
   "outputs": [],
   "source": [
    "import backtrader as bt\n",
    "import alpaca_backtrader_api as api\n",
    "import alpaca_trade_api as tradeapi\n",
    "import sys\n",
    "sys.path.insert(0, '../')\n",
    "import pandas as pd\n",
    "import talib as ta\n",
    "import numpy as np\n",
    "from config import key_id, secret_key"
   ]
  },
  {
   "cell_type": "code",
   "execution_count": 9,
   "metadata": {},
   "outputs": [],
   "source": [
    "#import cross signal generator\n",
    "from cross_signal import *"
   ]
  },
  {
   "cell_type": "code",
   "execution_count": 10,
   "metadata": {},
   "outputs": [],
   "source": [
    "import random\n",
    "from datetime import datetime, timedelta\n",
    "\n",
    "\n",
    "# or a function\n",
    "def gen_datetime(min_year=1900, max_year=2019):\n",
    "    # generate a datetime in format yyyy-mm-dd hh:mm:ss.000000\n",
    "    start = datetime(min_year, 1, 1, 00, 00, 00)\n",
    "    years = max_year - min_year + 1\n",
    "    end = start + timedelta(days=365 * years)\n",
    "    return start + (end - start) * random.random()"
   ]
  },
  {
   "cell_type": "code",
   "execution_count": 4,
   "metadata": {},
   "outputs": [],
   "source": [
    "#trading data is called in the form of JSON\n",
    "#https://api.polygon.io/v2/aggs/ticker/AAPL/range/1/day/2019-01-01/2019-02-01?apiKey=\n",
    "\n",
    "\n",
    "api = tradeapi.REST(key_id, secret_key)"
   ]
  },
  {
   "cell_type": "code",
   "execution_count": 5,
   "metadata": {},
   "outputs": [],
   "source": [
    "#generate list of random days into list\n",
    "day_list=[]\n",
    "day_after_list=[]\n",
    "for i in range(199):\n",
    "    rand_day=gen_datetime(2009)\n",
    "    day_list.append(rand_day.strftime(\"%Y-%m-%d\"))\n",
    "    day_after=rand_day + timedelta(days=14)\n",
    "    day_after_list.append(day_after.strftime(\"%Y-%m-%d\"))"
   ]
  },
  {
   "cell_type": "code",
   "execution_count": 6,
   "metadata": {},
   "outputs": [
    {
     "data": {
      "text/plain": [
       "'2016-01-24'"
      ]
     },
     "execution_count": 6,
     "metadata": {},
     "output_type": "execute_result"
    }
   ],
   "source": [
    "day_list[0]"
   ]
  },
  {
   "cell_type": "code",
   "execution_count": 7,
   "metadata": {},
   "outputs": [],
   "source": [
    "#generate random list of symbols\n",
    "sym_list=['JACK']\n",
    "# ,'AAPL','TSLA','JACK'\n",
    "#for i in range(10):\n",
    "    #rand_sym=random.random(range=len(symbols.csv))\n",
    "    #symlist.append(rand_sym)"
   ]
  },
  {
   "cell_type": "code",
   "execution_count": 8,
   "metadata": {},
   "outputs": [],
   "source": [
    "#Generate random day data for\n",
    "df_list=[]\n",
    "for sym in sym_list: \n",
    "    data_day_list=[]\n",
    "    for i in range(len(day_list)):\n",
    "        data_sym = api.polygon.historic_agg_v2(sym, 1, 'minute', _from=day_list[i], to=day_after_list[i]).df\n",
    "        data_day_list.append(data_sym)\n",
    "    df_list.append(data_day_list)"
   ]
  },
  {
   "cell_type": "code",
   "execution_count": 7,
   "metadata": {},
   "outputs": [
    {
     "ename": "NameError",
     "evalue": "name 'df_list' is not defined",
     "output_type": "error",
     "traceback": [
      "\u001b[1;31m---------------------------------------------------------------------------\u001b[0m",
      "\u001b[1;31mNameError\u001b[0m                                 Traceback (most recent call last)",
      "\u001b[1;32m<ipython-input-7-9b9ece03c35b>\u001b[0m in \u001b[0;36m<module>\u001b[1;34m\u001b[0m\n\u001b[1;32m----> 1\u001b[1;33m \u001b[0mcross_sign\u001b[0m\u001b[1;33m=\u001b[0m\u001b[0mcrossed_below\u001b[0m\u001b[1;33m(\u001b[0m\u001b[0mdf_list\u001b[0m\u001b[1;33m[\u001b[0m\u001b[1;36m0\u001b[0m\u001b[1;33m]\u001b[0m\u001b[1;33m[\u001b[0m\u001b[1;36m0\u001b[0m\u001b[1;33m]\u001b[0m\u001b[1;33m.\u001b[0m\u001b[0mhigh\u001b[0m\u001b[1;33m,\u001b[0m\u001b[1;36m60\u001b[0m\u001b[1;33m)\u001b[0m\u001b[1;33m\u001b[0m\u001b[0m\n\u001b[0m\u001b[0;32m      2\u001b[0m \u001b[0mcross_sign\u001b[0m\u001b[1;33m\u001b[0m\u001b[0m\n",
      "\u001b[1;31mNameError\u001b[0m: name 'df_list' is not defined"
     ]
    }
   ],
   "source": [
    "cross_sign=crossed_below(df_list[0][0].high,60)\n",
    "cross_sign"
   ]
  },
  {
   "cell_type": "code",
   "execution_count": 10,
   "metadata": {},
   "outputs": [
    {
     "name": "stdout",
     "output_type": "stream",
     "text": [
      "cross\n",
      "cross\n",
      "cross\n",
      "cross\n",
      "cross\n",
      "cross\n",
      "cross\n",
      "cross\n",
      "cross\n"
     ]
    }
   ],
   "source": [
    "for i in range(len(df_list[0])):\n",
    "    if cross_sign[i]== True:\n",
    "        print(\"cross\")"
   ]
  },
  {
   "cell_type": "markdown",
   "metadata": {},
   "source": [
    "# Testing"
   ]
  },
  {
   "cell_type": "code",
   "execution_count": 11,
   "metadata": {},
   "outputs": [],
   "source": [
    "#feed strat to cerebro\n",
    "\n",
    "class Scalp(bt.Strategy):\n",
    "    \"\"\"\n",
    "        this strategy is based around the idea of generating a lot of potential buys and make tiny profits on each trade\n",
    "        we recommend to have at least 60 parallel trades at any time to cover non avoidable losses.\n",
    "        Recommended is to only sell based on ROI for this strategy\n",
    "    \"\"\" \n",
    "#populate a dataframe with indicators\n",
    "    \n",
    "    \n",
    "    \n",
    "#------------------------------------strategy starts here--------------------------------------------------------------    \n",
    "    def __init__(self):\n",
    "        #populate exponential moving averages\n",
    "        self.emahigh=bt.indicators.EMA(self.data.high, period=10)\n",
    "        self.emaclose=bt.indicators.EMA(self.data.close, period=10)\n",
    "        self.emalow=bt.indicators.EMA(self.data.low, period=10)\n",
    "        self.rsi=bt.talib.RSI(self.data.close, timeperiod=14 )\n",
    "        self.cci=bt.talib.CCI(self.data.high,self.data.low,self.data.close, timeperiod=14 )\n",
    "        \n",
    "        #macd indicators\n",
    "        #self.macd_arr=bt.indicators.macd(self.data.close)\n",
    "        \n",
    "        #self.macd=self.macd_arr[0]\n",
    "        #self.macdsignal=self.macd_arr[1]\n",
    "        \n",
    "        \n",
    "        \n",
    "        #creat stochastic momentum indicators \n",
    "        self.stoch=bt.talib.STOCHF(self.data.high, self.data.low, self.data.close, \\\n",
    "                                   fastk_period=14, slowk_period=4, slowd_period=4)\n",
    "        self.fastk=self.stoch.fastk\n",
    "        self.fastd=self.stoch.fastd\n",
    "        #1 for down, -1 for up\n",
    "        self.fastcross=bt.indicators.CrossOver(self.fastk, self.fastd)\n",
    "        \n",
    "        \n",
    "        #create Average Directional Movement Index\n",
    "        self.adx=bt.talib.ADX(self.data.high, self.data.low, self.data.close, timeperiod=14)\n",
    "        \n",
    "        \n",
    "# if open score is less than ema_low, adx is greater than 30, fastk fastd less than 30, then buy\n",
    "#uses indicators to determine buy and sell\n",
    "\n",
    "    def next(self):\n",
    "        if not self.position: #not in the market\n",
    "            if self.data.open < self.emalow and \\\n",
    "            self.adx > 30 and \\\n",
    "            self.fastd < 30 and \\\n",
    "            self.fastk < 30:\n",
    "                self.buy(size=30)\n",
    "                \n",
    "                \n",
    "        else:\n",
    "            if self.data.open >= self.emahigh and \\\n",
    "            self.fastd > 70  and \\\n",
    "            self.rsi > 87  and \\\n",
    "            self.fastk > 70:\n",
    "                self.sell(size=30)\n"
   ]
  },
  {
   "cell_type": "code",
   "execution_count": 12,
   "metadata": {},
   "outputs": [],
   "source": [
    "#feed strat to cerebro\n",
    "\n",
    "class Scalp4(bt.Strategy):\n",
    "    \"\"\"\n",
    "        this strategy is based around the idea of generating a lot of potential buys and make tiny profits on each trade\n",
    "        we recommend to have at least 60 parallel trades at any time to cover non avoidable losses.\n",
    "        Recommended is to only sell based on ROI for this strategy\n",
    "    \"\"\" \n",
    "#populate a dataframe with indicators\n",
    "    \n",
    "    \n",
    "    \n",
    "#------------------------------------strategy starts here--------------------------------------------------------------    \n",
    "    def __init__(self):\n",
    "        #populate exponential moving averages\n",
    "        self.emahigh=bt.indicators.EMA(self.data.high, period=5)\n",
    "        self.emaclose=bt.indicators.EMA(self.data.close, period=5)\n",
    "        self.emalow=bt.indicators.EMA(self.data.low, period=5)\n",
    "        self.rsi=bt.talib.RSI(self.data.close, timeperiod=14 )\n",
    "        self.cci=bt.talib.CCI(self.data.high,self.data.low,self.data.close, timeperiod=14 )\n",
    "        \n",
    "        #macd indicators\n",
    "        #self.macd_arr=bt.indicators.macd(self.data.close)\n",
    "        \n",
    "        #self.macd=self.macd_arr[0]\n",
    "        #self.macdsignal=self.macd_arr[1]\n",
    "        \n",
    "        \n",
    "        \n",
    "        #creat stochastic momentum indicators \n",
    "        self.stoch=bt.talib.STOCHF(self.data.high, self.data.low, self.data.close, \\\n",
    "                                   fastk_period=5, slowk_period=3, slowd_period=3)\n",
    "        self.fastk=self.stoch.fastk\n",
    "        self.fastd=self.stoch.fastd\n",
    "        #1 for down, -1 for up\n",
    "        self.fastcross=bt.indicators.CrossOver(self.fastk, self.fastd)\n",
    "        \n",
    "        \n",
    "        #create Average Directional Movement Index\n",
    "        self.adx=bt.talib.ADX(self.data.high, self.data.low, self.data.close, timeperiod=14)\n",
    "        \n",
    "        \n",
    "# if open score is less than ema_low, adx is greater than 30, fastk fastd less than 30, then buy\n",
    "#uses indicators to determine buy and sell\n",
    "\n",
    "    def next(self):\n",
    "        if not self.position: #not in the market\n",
    "            if self.data.open < self.emalow and \\\n",
    "            self.adx > 30 and \\\n",
    "            self.rsi < 29  and \\\n",
    "            self.fastd < 30 and \\\n",
    "            self.fastk > self.fastd and \\\n",
    "            self.fastk < 30:\n",
    "                self.buy(size=30)\n",
    "                \n",
    "                \n",
    "        else:\n",
    "            if self.data.open >= self.emahigh and \\\n",
    "            self.fastd > 70  and \\\n",
    "            self.rsi > 80  and \\\n",
    "            self.fastk > 70:\n",
    "                self.sell(size=30)\n"
   ]
  },
  {
   "cell_type": "code",
   "execution_count": 13,
   "metadata": {},
   "outputs": [],
   "source": [
    "#feed strat to cerebro\n",
    "\n",
    "class Scalpy(bt.Strategy):\n",
    "    \"\"\"\n",
    "        this strategy is based around the idea of generating a lot of potential buys and make tiny profits on each trade\n",
    "        we recommend to have at least 60 parallel trades at any time to cover non avoidable losses.\n",
    "        Recommended is to only sell based on ROI for this strategy\n",
    "    \"\"\" \n",
    "#populate a dataframe with indicators\n",
    "    \n",
    "    \n",
    "    \n",
    "#------------------------------------strategy starts here--------------------------------------------------------------    \n",
    "    def __init__(self):\n",
    "        #populate exponential moving averages\n",
    "        self.emahigh=bt.indicators.EMA(self.data.high, period=10)\n",
    "        self.emaclose=bt.indicators.EMA(self.data.close, period=10)\n",
    "        self.emalow=bt.indicators.EMA(self.data.low, period=10)\n",
    "        \n",
    "        self.cci=bt.talib.CCI(self.data.high,self.data.low,self.data.close, timeperiod=14 )\n",
    "        self.mfi=bt.talib.MFI(self.data.high , self.data.low ,self.data.close ,self.data.volume, timeperiod=14 )\n",
    "        self.rsi=bt.talib.RSI(self.data.close, timeperiod=14 )\n",
    "        \n",
    "        \n",
    "        \n",
    "        #macd indicators\n",
    "        #self.macd_arr=bt.indicators.macd(self.data.close)\n",
    "        \n",
    "        #self.macd=self.macd_arr[0]\n",
    "        #self.macdsignal=self.macd_arr[1]\n",
    "        \n",
    "        \n",
    "        \n",
    "        #creat stochastic momentum indicators \n",
    "        self.stoch=bt.talib.STOCHF(self.data.high, self.data.low, self.data.close, \\\n",
    "                                   fastk_period=14, slowk_period=4, slowd_period=4)\n",
    "        self.fastk=self.stoch.fastk\n",
    "        self.fastd=self.stoch.fastd\n",
    "        #create Average Directional Movement Index\n",
    "        self.adx=bt.talib.ADX(self.data.high, self.data.low, self.data.close, timeperiod=14)\n",
    "        \n",
    "        \n",
    "# if open score is less than ema_low, adx is greater than 30, fastk fastd less than 30, then buy\n",
    "#uses indicators to determine buy and sell\n",
    "\n",
    "    def next(self):\n",
    "        if not self.position: #not in the market\n",
    "            if self.data.open < self.emalow and \\\n",
    "            self.adx > 30 and \\\n",
    "            self.fastk < 30 and \\\n",
    "            self.rsi < 25 and \\\n",
    "            self.cci <= -120.0:\n",
    "                self.buy(size=30)\n",
    "                \n",
    "                \n",
    "        else:\n",
    "            if self.data.open >= self.emahigh and \\\n",
    "            self.fastk > 70 and \\\n",
    "            self.fastd > 70  and \\\n",
    "            self.rsi > 83  and \\\n",
    "            self.cci >= 120.0 :\n",
    "                self.sell(size=30)\n"
   ]
  },
  {
   "cell_type": "code",
   "execution_count": 14,
   "metadata": {},
   "outputs": [],
   "source": [
    "#feed strat to cerebro\n",
    "\n",
    "class Scalpy3(bt.Strategy):\n",
    "    \"\"\"\n",
    "        this strategy is based around the idea of generating a lot of potential buys and make tiny profits on each trade\n",
    "        we recommend to have at least 60 parallel trades at any time to cover non avoidable losses.\n",
    "        Recommended is to only sell based on ROI for this strategy\n",
    "    \"\"\" \n",
    "#populate a dataframe with indicators\n",
    "    \n",
    "    \n",
    "    \n",
    "#------------------------------------strategy starts here--------------------------------------------------------------    \n",
    "    def __init__(self):\n",
    "        #populate exponential moving averages\n",
    "        self.emahigh=bt.indicators.EMA(self.data.high, period=10)\n",
    "        self.emaclose=bt.indicators.EMA(self.data.close, period=10)\n",
    "        self.emalow=bt.indicators.EMA(self.data.low, period=10)\n",
    "        \n",
    "        self.cci=bt.talib.CCI(self.data.high,self.data.low,self.data.close, timeperiod=14 )\n",
    "        #macd indicators\n",
    "        #self.macd_arr=bt.indicators.macd(self.data.close)\n",
    "        \n",
    "        #self.macd=self.macd_arr[0]\n",
    "        #self.macdsignal=self.macd_arr[1]\n",
    "        \n",
    "        \n",
    "        \n",
    "        #creat stochastic momentum indicators \n",
    "        self.stoch=bt.talib.STOCHF(self.data.high, self.data.low, self.data.close, \\\n",
    "                                   fastk_period=14, slowk_period=4, slowd_period=4)\n",
    "        self.fastk=self.stoch.fastk\n",
    "        self.fastd=self.stoch.fastd\n",
    "        #create Average Directional Movement Index\n",
    "        self.adx=bt.talib.ADX(self.data.high, self.data.low, self.data.close, timeperiod=14)\n",
    "        \n",
    "        \n",
    "# if open score is less than ema_low, adx is greater than 30, fastk fastd less than 30, then buy\n",
    "#uses indicators to determine buy and sell\n",
    "\n",
    "    def next(self):\n",
    "        if not self.position: #not in the market\n",
    "            if self.data.open < self.emalow and \\\n",
    "            self.adx > 20 and \\\n",
    "            self.fastk < 20 and \\\n",
    "            self.fastd < 20 and \\\n",
    "            self.cci <= -150.0:\n",
    "                self.buy(size=30)\n",
    "                \n",
    "                \n",
    "        else:\n",
    "            if self.data.open >= self.emahigh and \\\n",
    "            self.fastk > 95 and \\\n",
    "            self.fastd > 95  and \\\n",
    "            self.cci >= 150.0 :\n",
    "                self.sell(size=30)\n"
   ]
  },
  {
   "cell_type": "code",
   "execution_count": 15,
   "metadata": {},
   "outputs": [
    {
     "data": {
      "text/plain": [
       "'            self.mfi < 30 and self.cci <= -100.0 and             '"
      ]
     },
     "execution_count": 15,
     "metadata": {},
     "output_type": "execute_result"
    }
   ],
   "source": [
    "'''            self.mfi < 30 and \\\n",
    "self.cci <= -100.0 and \\\n",
    "            '''"
   ]
  },
  {
   "cell_type": "code",
   "execution_count": 16,
   "metadata": {},
   "outputs": [],
   "source": [
    "#feed strat to cerebro\n",
    "\n",
    "class Scalpy2(bt.Strategy):\n",
    "    \"\"\"\n",
    "        this strategy is based around the idea of generating a lot of potential buys and make tiny profits on each trade\n",
    "        we recommend to have at least 60 parallel trades at any time to cover non avoidable losses.\n",
    "        Recommended is to only sell based on ROI for this strategy\n",
    "    \"\"\" \n",
    "#populate a dataframe with indicators\n",
    "    \n",
    "    \n",
    "    \n",
    "#------------------------------------strategy starts here--------------------------------------------------------------    \n",
    "    def __init__(self):\n",
    "        #populate exponential moving averages\n",
    "        self.emahigh=bt.indicators.EMA(self.data.high, period=10)\n",
    "        self.emaclose=bt.indicators.EMA(self.data.close, period=10)\n",
    "        self.emalow=bt.indicators.EMA(self.data.low, period=10)\n",
    "        \n",
    "        self.cci=bt.talib.CCI(self.data.high,self.data.low,self.data.close, timeperiod=14 )\n",
    "        self.mfi=bt.talib.MFI(self.data.high , self.data.low ,self.data.close ,self.data.volume, timeperiod=14 )\n",
    "        self.rsi=bt.talib.RSI(self.data.close, timeperiod=14 )\n",
    "        \n",
    "        \n",
    "        \n",
    "        #macd indicators\n",
    "        #self.macd_arr=bt.indicators.macd(self.data.close)\n",
    "        \n",
    "        #self.macd=self.macd_arr[0]\n",
    "        #self.macdsignal=self.macd_arr[1]\n",
    "        \n",
    "        \n",
    "        \n",
    "        #creat stochastic momentum indicators \n",
    "        self.stoch=bt.talib.STOCHF(self.data.high, self.data.low, self.data.close, \\\n",
    "                                   fastk_period=14, slowk_period=4, slowd_period=4)\n",
    "        self.fastk=self.stoch.fastk\n",
    "        self.fastd=self.stoch.fastd\n",
    "        #create Average Directional Movement Index\n",
    "        self.adx=bt.talib.ADX(self.data.high, self.data.low, self.data.close, timeperiod=14)\n",
    "        \n",
    "        \n",
    "# if open score is less than ema_low, adx is greater than 30, fastk fastd less than 30, then buy\n",
    "#uses indicators to determine buy and sell\n",
    "\n",
    "    def next(self):\n",
    "        if not self.position: #not in the market\n",
    "            if self.data.open < self.emalow and \\\n",
    "            self.adx > 30 and \\\n",
    "            self.fastk < 30 and \\\n",
    "            self.fastd < 30 and \\\n",
    "            self.cci <= -130.0:\n",
    "                self.buy(size=30)\n",
    "                \n",
    "                \n",
    "        else:\n",
    "            if self.data.open >= self.emahigh and \\\n",
    "            self.fastk > 75 and \\\n",
    "            self.fastd > 75  and \\\n",
    "            self.rsi > 85  and \\\n",
    "            self.cci >= 100.0 :\n",
    "                self.sell(size=30)\n"
   ]
  },
  {
   "cell_type": "code",
   "execution_count": 17,
   "metadata": {},
   "outputs": [],
   "source": [
    "#feed strat to cerebro\n",
    "\n",
    "class Scalp2(bt.Strategy):\n",
    "    \"\"\"\n",
    "        this strategy is based around the idea of generating a lot of potential buys and make tiny profits on each trade\n",
    "        we recommend to have at least 60 parallel trades at any time to cover non avoidable losses.\n",
    "        Recommended is to only sell based on ROI for this strategy\n",
    "    \"\"\" \n",
    "#populate a dataframe with indicators\n",
    "    \n",
    "    \n",
    "    \n",
    "#------------------------------------strategy starts here--------------------------------------------------------------    \n",
    "    def __init__(self):\n",
    "        #populate exponential moving averages\n",
    "        self.emahigh=bt.indicators.EMA(self.data.high, period=10)\n",
    "        self.emaclose=bt.indicators.EMA(self.data.close, period=10)\n",
    "        self.emalow=bt.indicators.EMA(self.data.low, period=10)\n",
    "        self.rsi=bt.talib.RSI(self.data.close, timeperiod=14 )\n",
    "        self.cci=bt.talib.CCI(self.data.high,self.data.low,self.data.close, timeperiod=14 )\n",
    "        \n",
    "        #macd indicators\n",
    "        #self.macd_arr=bt.indicators.macd(self.data.close)\n",
    "        \n",
    "        #self.macd=self.macd_arr[0]\n",
    "        #self.macdsignal=self.macd_arr[1]\n",
    "        \n",
    "        \n",
    "        \n",
    "        #creat stochastic momentum indicators \n",
    "        self.stoch=bt.talib.STOCHF(self.data.high, self.data.low, self.data.close, \\\n",
    "                                   fastk_period=14, slowk_period=4, slowd_period=4)\n",
    "        self.fastk=self.stoch.fastk\n",
    "        self.fastd=self.stoch.fastd\n",
    "        #1 for down, -1 for up\n",
    "        self.fastcross=bt.indicators.CrossOver(self.fastk, self.fastd)\n",
    "        \n",
    "        \n",
    "        #create Average Directional Movement Index\n",
    "        self.adx=bt.talib.ADX(self.data.high, self.data.low, self.data.close, timeperiod=14)\n",
    "        \n",
    "        \n",
    "# if open score is less than ema_low, adx is greater than 30, fastk fastd less than 30, then buy\n",
    "#uses indicators to determine buy and sell\n",
    "\n",
    "    def next(self):\n",
    "        if not self.position: #not in the market\n",
    "            if self.data.open < self.emalow and \\\n",
    "            self.adx > 30 and \\\n",
    "            self.fastd < 30 and \\\n",
    "            self.fastk < 30:\n",
    "                self.buy(size=30)\n",
    "                \n",
    "                \n",
    "        else:\n",
    "            if self.data.open >= self.emahigh and \\\n",
    "            self.fastd > 70  and \\\n",
    "            self.rsi > 90  and \\\n",
    "            self.fastk > 70:\n",
    "                self.sell(size=30)\n"
   ]
  },
  {
   "cell_type": "code",
   "execution_count": 18,
   "metadata": {},
   "outputs": [],
   "source": [
    "# Run over everything\n",
    "SQN_dict_list=[] \n",
    "tradeanalysis_dict_list=[]\n",
    "ret_dict_list=[]\n",
    "trans_dict_list=[]\n",
    "pnl_list=[]\n",
    "\n",
    "for i in range(len(df_list[0])):\n",
    "    #create backtrader\n",
    "    cerebro = bt.Cerebro()\n",
    "\n",
    "    #cerebro.addstrategy(SmaCross)\n",
    "    #cerebro.addstrategy(Scalp)\n",
    "\n",
    "    #Add slippage\n",
    "    cerebro.broker = bt.brokers.BackBroker(slip_perc=0.005) \n",
    "\n",
    "    #set up cerebro\n",
    "\n",
    "    cerebro.broker.setcash(100000)\n",
    "\n",
    "    cerebro.broker.setcommission(commission=0.0)\n",
    "    cerebro.addsizer(bt.sizers.PercentSizer, percents=50)\n",
    "\n",
    "    # Add the analyzers we are interested in\n",
    "    cerebro.addanalyzer(bt.analyzers.TradeAnalyzer, _name=\"ta\")\n",
    "    cerebro.addanalyzer(bt.analyzers.SQN, _name=\"sqn\")\n",
    "    cerebro.addanalyzer(bt.analyzers.Returns, _name=\"ret\")\n",
    "    cerebro.addanalyzer(bt.analyzers.PeriodStats, _name=\"pstat\")\n",
    "    cerebro.addanalyzer(bt.analyzers.Transactions, _name=\"trans\")\n",
    "\n",
    "\n",
    "    # Add the observers we are interested in \n",
    "    #this adds more things to the plot on top of the stocks chart\n",
    "    cerebro.addobserver(bt.observers.Broker)\n",
    "    cerebro.addobserver(bt.observers.BuySell)\n",
    "    \n",
    "    \n",
    "    \n",
    "    \n",
    "    cerebro.addstrategy(Scalp)\n",
    "    datacere = bt.feeds.PandasData(dataname=df_list[0][i])\n",
    "    cerebro.adddata(datacere,name=day_list[i])\n",
    "#    print(day_list[i]+' added')\n",
    "    test=cerebro.run()\n",
    "    \n",
    "    \n",
    "    \n",
    "    \n",
    "    \n",
    "    SQN_dict=test[0].analyzers.sqn.get_analysis() \n",
    "    SQN_dict_list.append(SQN_dict)\n",
    "    \n",
    "    tradeanalysis_dict=test[0].analyzers.ta.get_analysis()\n",
    "    tradeanalysis_dict_list.append(tradeanalysis_dict)\n",
    "    \n",
    "    ret_dict=test[0].analyzers.ret.get_analysis()\n",
    "    ret_dict_list.append(ret_dict)\n",
    "    \n",
    "    trans_dict=test[0].analyzers.trans.get_analysis()\n",
    "    trans_dict_list.append(trans_dict_list)\n",
    "    "
   ]
  },
  {
   "cell_type": "code",
   "execution_count": 19,
   "metadata": {},
   "outputs": [],
   "source": [
    "SQN_total=0\n",
    "for i in range(len(SQN_dict_list)):    \n",
    "    SQN_total=SQN_total+SQN_dict_list[i]['sqn']\n",
    "\n",
    "SQN_avg=SQN_total/len(SQN_dict_list)"
   ]
  },
  {
   "cell_type": "code",
   "execution_count": 20,
   "metadata": {},
   "outputs": [
    {
     "data": {
      "text/plain": [
       "0.9448794005361731"
      ]
     },
     "execution_count": 20,
     "metadata": {},
     "output_type": "execute_result"
    }
   ],
   "source": [
    "SQN_avg"
   ]
  },
  {
   "cell_type": "code",
   "execution_count": 21,
   "metadata": {},
   "outputs": [
    {
     "data": {
      "text/plain": [
       "AutoOrderedDict([('total',\n",
       "                  AutoOrderedDict([('total', 2), ('open', 1), ('closed', 1)])),\n",
       "                 ('streak',\n",
       "                  AutoOrderedDict([('won',\n",
       "                                    AutoOrderedDict([('current', 1),\n",
       "                                                     ('longest', 1)])),\n",
       "                                   ('lost',\n",
       "                                    AutoOrderedDict([('current', 0),\n",
       "                                                     ('longest', 0)]))])),\n",
       "                 ('pnl',\n",
       "                  AutoOrderedDict([('gross',\n",
       "                                    AutoOrderedDict([('total',\n",
       "                                                      21.51900000000026),\n",
       "                                                     ('average',\n",
       "                                                      21.51900000000026)])),\n",
       "                                   ('net',\n",
       "                                    AutoOrderedDict([('total',\n",
       "                                                      21.51900000000026),\n",
       "                                                     ('average',\n",
       "                                                      21.51900000000026)]))])),\n",
       "                 ('won',\n",
       "                  AutoOrderedDict([('total', 1),\n",
       "                                   ('pnl',\n",
       "                                    AutoOrderedDict([('total',\n",
       "                                                      21.51900000000026),\n",
       "                                                     ('average',\n",
       "                                                      21.51900000000026),\n",
       "                                                     ('max',\n",
       "                                                      21.51900000000026)]))])),\n",
       "                 ('lost',\n",
       "                  AutoOrderedDict([('total', 0),\n",
       "                                   ('pnl',\n",
       "                                    AutoOrderedDict([('total', 0.0),\n",
       "                                                     ('average', 0.0),\n",
       "                                                     ('max', 0.0)]))])),\n",
       "                 ('long',\n",
       "                  AutoOrderedDict([('total', 1),\n",
       "                                   ('pnl',\n",
       "                                    AutoOrderedDict([('total',\n",
       "                                                      21.51900000000026),\n",
       "                                                     ('average',\n",
       "                                                      21.51900000000026),\n",
       "                                                     ('won',\n",
       "                                                      AutoOrderedDict([('total',\n",
       "                                                                        21.51900000000026),\n",
       "                                                                       ('average',\n",
       "                                                                        21.51900000000026),\n",
       "                                                                       ('max',\n",
       "                                                                        21.51900000000026)])),\n",
       "                                                     ('lost',\n",
       "                                                      AutoOrderedDict([('total',\n",
       "                                                                        0.0),\n",
       "                                                                       ('average',\n",
       "                                                                        0.0),\n",
       "                                                                       ('max',\n",
       "                                                                        0.0)]))])),\n",
       "                                   ('won', 1),\n",
       "                                   ('lost', 0)])),\n",
       "                 ('short',\n",
       "                  AutoOrderedDict([('total', 0),\n",
       "                                   ('pnl',\n",
       "                                    AutoOrderedDict([('total', 0.0),\n",
       "                                                     ('average', 0.0),\n",
       "                                                     ('won',\n",
       "                                                      AutoOrderedDict([('total',\n",
       "                                                                        0.0),\n",
       "                                                                       ('average',\n",
       "                                                                        0.0),\n",
       "                                                                       ('max',\n",
       "                                                                        0.0)])),\n",
       "                                                     ('lost',\n",
       "                                                      AutoOrderedDict([('total',\n",
       "                                                                        0.0),\n",
       "                                                                       ('average',\n",
       "                                                                        0.0),\n",
       "                                                                       ('max',\n",
       "                                                                        0.0)]))])),\n",
       "                                   ('won', 0),\n",
       "                                   ('lost', 0)])),\n",
       "                 ('len',\n",
       "                  AutoOrderedDict([('total', 410),\n",
       "                                   ('average', 410.0),\n",
       "                                   ('max', 410),\n",
       "                                   ('min', 410),\n",
       "                                   ('won',\n",
       "                                    AutoOrderedDict([('total', 410),\n",
       "                                                     ('average', 410.0),\n",
       "                                                     ('max', 410),\n",
       "                                                     ('min', 410)])),\n",
       "                                   ('lost',\n",
       "                                    AutoOrderedDict([('total', 0),\n",
       "                                                     ('average', 0.0),\n",
       "                                                     ('max', 0)])),\n",
       "                                   ('long',\n",
       "                                    AutoOrderedDict([('total', 410),\n",
       "                                                     ('average', 410.0),\n",
       "                                                     ('max', 410),\n",
       "                                                     ('min', 410),\n",
       "                                                     ('won',\n",
       "                                                      AutoOrderedDict([('total',\n",
       "                                                                        410),\n",
       "                                                                       ('average',\n",
       "                                                                        410.0),\n",
       "                                                                       ('max',\n",
       "                                                                        410),\n",
       "                                                                       ('min',\n",
       "                                                                        410)])),\n",
       "                                                     ('lost',\n",
       "                                                      AutoOrderedDict([('total',\n",
       "                                                                        0),\n",
       "                                                                       ('average',\n",
       "                                                                        0.0),\n",
       "                                                                       ('max',\n",
       "                                                                        0),\n",
       "                                                                       ('min',\n",
       "                                                                        9223372036854775807)]))])),\n",
       "                                   ('short',\n",
       "                                    AutoOrderedDict([('total', 0),\n",
       "                                                     ('average', 0.0),\n",
       "                                                     ('max', 0),\n",
       "                                                     ('min',\n",
       "                                                      9223372036854775807),\n",
       "                                                     ('won',\n",
       "                                                      AutoOrderedDict([('total',\n",
       "                                                                        0),\n",
       "                                                                       ('average',\n",
       "                                                                        0.0),\n",
       "                                                                       ('max',\n",
       "                                                                        0),\n",
       "                                                                       ('min',\n",
       "                                                                        9223372036854775807)])),\n",
       "                                                     ('lost',\n",
       "                                                      AutoOrderedDict([('total',\n",
       "                                                                        0),\n",
       "                                                                       ('average',\n",
       "                                                                        0.0),\n",
       "                                                                       ('max',\n",
       "                                                                        0),\n",
       "                                                                       ('min',\n",
       "                                                                        9223372036854775807)]))]))]))])"
      ]
     },
     "execution_count": 21,
     "metadata": {},
     "output_type": "execute_result"
    }
   ],
   "source": [
    "tradeanalysis_dict_list[0]"
   ]
  },
  {
   "cell_type": "code",
   "execution_count": 22,
   "metadata": {},
   "outputs": [],
   "source": [
    "win_total=0\n",
    "total_won_pnl=0\n",
    "avg_won=0\n",
    "\n",
    "lost_total=0\n",
    "total_lost_pnl=0\n",
    "avg_lost=0\n",
    "\n",
    "total_pnl=0\n",
    "total_avg=0\n",
    "\n",
    "for i in range(len(df_list[0])):\n",
    "    try:\n",
    "        win_total=win_total+tradeanalysis_dict_list[i]['won']['total']\n",
    "        total_won_pnl=total_won_pnl+tradeanalysis_dict_list[i]['won']['pnl']['total']\n",
    "        avg_won=avg_won+tradeanalysis_dict_list[i]['won']['pnl']['average']\n",
    "\n",
    "        lost_total=lost_total+tradeanalysis_dict_list[i]['lost']['total']\n",
    "        total_lost_pnl=total_lost_pnl+tradeanalysis_dict_list[i]['lost']['pnl']['total']\n",
    "        avg_lost=avg_lost+tradeanalysis_dict_list[i]['lost']['pnl']['average']\n",
    "\n",
    "        total_pnl=total_pnl+tradeanalysis_dict_list[i]['pnl']['gross']['total']\n",
    "        total_avg=total_avg+tradeanalysis_dict_list[i]['pnl']['gross']['average']\n",
    "    except:\n",
    "        pass\n"
   ]
  },
  {
   "cell_type": "code",
   "execution_count": 23,
   "metadata": {},
   "outputs": [
    {
     "data": {
      "text/plain": [
       "(242, 14352.141, 9104.528149999998)"
      ]
     },
     "execution_count": 23,
     "metadata": {},
     "output_type": "execute_result"
    }
   ],
   "source": [
    "win_total , total_won_pnl , avg_won "
   ]
  },
  {
   "cell_type": "code",
   "execution_count": 24,
   "metadata": {},
   "outputs": [
    {
     "data": {
      "text/plain": [
       "(110, -5318.97, -4406.675)"
      ]
     },
     "execution_count": 24,
     "metadata": {},
     "output_type": "execute_result"
    }
   ],
   "source": [
    "lost_total , total_lost_pnl , avg_lost"
   ]
  },
  {
   "cell_type": "code",
   "execution_count": 25,
   "metadata": {
    "scrolled": false
   },
   "outputs": [
    {
     "data": {
      "text/plain": [
       "(9033.170999999997, 4957.5534499999985)"
      ]
     },
     "execution_count": 25,
     "metadata": {},
     "output_type": "execute_result"
    }
   ],
   "source": [
    "total_pnl , total_avg"
   ]
  },
  {
   "cell_type": "code",
   "execution_count": 26,
   "metadata": {},
   "outputs": [
    {
     "data": {
      "text/plain": [
       "0.6875"
      ]
     },
     "execution_count": 26,
     "metadata": {},
     "output_type": "execute_result"
    }
   ],
   "source": [
    "win_total/(win_total+lost_total)"
   ]
  },
  {
   "cell_type": "code",
   "execution_count": 27,
   "metadata": {},
   "outputs": [
    {
     "data": {
      "text/plain": [
       "0.9879691629960765"
      ]
     },
     "execution_count": 27,
     "metadata": {},
     "output_type": "execute_result"
    }
   ],
   "source": [
    "total_pnl/(total_pnl+lost_total)"
   ]
  },
  {
   "cell_type": "code",
   "execution_count": 28,
   "metadata": {},
   "outputs": [
    {
     "data": {
      "text/plain": [
       "2.0660766110502813"
      ]
     },
     "execution_count": 28,
     "metadata": {},
     "output_type": "execute_result"
    }
   ],
   "source": [
    "avg_won/(-avg_lost)"
   ]
  },
  {
   "cell_type": "code",
   "execution_count": 29,
   "metadata": {},
   "outputs": [],
   "source": [
    "# print the SQN analyzers  SystemQualityNumber\n",
    "#test[0] is the first strategy used. For multiple strategies, use corresponding number in the list.\n",
    "#SQN_dict=test[0].analyzers.sqn.get_analysis() \n",
    "#tradeanalysis_dict=test[0].analyzers.ta.get_analysis()\n",
    "#ret_dict=test[0].analyzers.ret.get_analysis()\n",
    "#trans_dict=test[0].analyzers.trans.get_analysis()\n"
   ]
  },
  {
   "cell_type": "code",
   "execution_count": 30,
   "metadata": {
    "scrolled": true
   },
   "outputs": [
    {
     "data": {
      "text/plain": [
       "OrderedDict([(datetime.datetime(2014, 3, 26, 16, 20),\n",
       "              [[30, 77.9607, 0, '2014-03-26', -2338.821]]),\n",
       "             (datetime.datetime(2014, 3, 28, 9, 42),\n",
       "              [[-30, 77.1, 0, '2014-03-26', 2313.0]]),\n",
       "             (datetime.datetime(2014, 3, 28, 11, 20),\n",
       "              [[30, 77.1071, 0, '2014-03-26', -2313.213]]),\n",
       "             (datetime.datetime(2014, 3, 28, 20, 4),\n",
       "              [[-30, 76.7186, 0, '2014-03-26', 2301.558]]),\n",
       "             (datetime.datetime(2014, 3, 31, 15, 13),\n",
       "              [[30, 76.7935, 0, '2014-03-26', -2303.805]])])"
      ]
     },
     "execution_count": 30,
     "metadata": {},
     "output_type": "execute_result"
    }
   ],
   "source": [
    "trans_dict"
   ]
  },
  {
   "cell_type": "code",
   "execution_count": 31,
   "metadata": {},
   "outputs": [
    {
     "data": {
      "text/plain": [
       "5"
      ]
     },
     "execution_count": 31,
     "metadata": {},
     "output_type": "execute_result"
    }
   ],
   "source": [
    "len(trans_dict)"
   ]
  },
  {
   "cell_type": "code",
   "execution_count": null,
   "metadata": {},
   "outputs": [],
   "source": []
  },
  {
   "cell_type": "code",
   "execution_count": null,
   "metadata": {},
   "outputs": [],
   "source": []
  },
  {
   "cell_type": "code",
   "execution_count": null,
   "metadata": {},
   "outputs": [],
   "source": []
  },
  {
   "cell_type": "code",
   "execution_count": null,
   "metadata": {},
   "outputs": [],
   "source": []
  }
 ],
 "metadata": {
  "kernelspec": {
   "display_name": "Python 3",
   "language": "python",
   "name": "python3"
  },
  "language_info": {
   "codemirror_mode": {
    "name": "ipython",
    "version": 3
   },
   "file_extension": ".py",
   "mimetype": "text/x-python",
   "name": "python",
   "nbconvert_exporter": "python",
   "pygments_lexer": "ipython3",
   "version": "3.6.5"
  }
 },
 "nbformat": 4,
 "nbformat_minor": 4
}
