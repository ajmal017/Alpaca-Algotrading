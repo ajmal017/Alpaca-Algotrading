{
 "cells": [
  {
   "cell_type": "markdown",
   "metadata": {},
   "source": [
    "# Still not working\n",
    "To do\n",
    "- Got to get requests for date and data"
   ]
  },
  {
   "cell_type": "code",
   "execution_count": 28,
   "metadata": {},
   "outputs": [],
   "source": [
    "# Importing packages\n",
    "\n",
    "import matplotlib.pyplot as plt\n",
    "from datetime import datetime\n",
    "import alpaca_trade_api as tradeapi\n",
    "import numpy as np\n",
    "import loader\n",
    "\n",
    "#API keys in gitignored folder\n",
    "from config import key_id, secret_key"
   ]
  },
  {
   "cell_type": "code",
   "execution_count": 29,
   "metadata": {},
   "outputs": [
    {
     "data": {
      "text/plain": [
       "[]"
      ]
     },
     "execution_count": 29,
     "metadata": {},
     "output_type": "execute_result"
    }
   ],
   "source": [
    "#API keys, accounts, apis\n",
    "api = tradeapi.REST(key_id,secret_key)\n",
    "account = api.get_account()\n",
    "api.list_positions()"
   ]
  },
  {
   "cell_type": "code",
   "execution_count": 19,
   "metadata": {},
   "outputs": [],
   "source": [
    "#custom backtester \n",
    "#Requires Orders to be in dict format\n",
    "\n",
    "\n",
    "class positionHandler:\n",
    "    def __init__(self,startingBalance=10000,liveTrading=False):\n",
    "        self.cashBalance = startingBalance\n",
    "        self.livePositions = {} # Dictionary of currently open positions\n",
    "        self.openOrders = [] # List of open orders\n",
    "        self.positionHistory = [] # List of items [Symbol, new position size]\n",
    "        self.tradeHistory = [] # List of filled trades\t\t\n",
    "        self.liveTrading = liveTrading\n",
    "\n",
    "        \n",
    "    def placeOrder(self, symbol, quantity, side, orderType, time_in_force, limit_price=None, stop_price=None, client_order_id=None):\n",
    "\n",
    "        if self.liveTrading:\n",
    "            returned = api.submit_order(symbol, qty, side, orderType, time_in_force, limit_price, stop_price, client_order_id)\n",
    "            self.tradeHistory.append(returned) # You'll probably want to make a simpler custom order dict format\n",
    "        else:\n",
    "            self.tradeHistory.append(order_dict) \n",
    "            #Change from dict to whatever format you use later\n",
    "\n",
    "        if orderType == \"market\":\n",
    "            try:\n",
    "                if side == \"buy\":\n",
    "                    fillPrice = data[symbol][\"close\"] # You'll need to make adjustments to the backtest fill price assumptions\n",
    "\n",
    "                    self.livePositions[symbol][size] = self.livePositions[symbol][size] + quantity\n",
    "                    self.cashBalance -= quantity * fillPrice\n",
    "                elif side == \"sell\":\n",
    "                    fillPrice = data[symbol][\"close\"]\n",
    "\n",
    "                    self.livePositions[symbol][size] = self.livePositions[symbol][size] - quantity\n",
    "                    self.cashBalance += quantity * fillPrice\n",
    "\n",
    "\n",
    "                if self.livePositions[symbol][size] == 0:\n",
    "                    del self.livePositions[symbol]\n",
    "\n",
    "            except:\n",
    "                self.livePositions[symbol] = {}\n",
    "\n",
    "                if side == \"buy\":\n",
    "                    self.livePositions[symbol][size] = quantity\n",
    "                elif side == \"sell\":\n",
    "                    self.livePositions[symbol][size] = -quantity\n",
    "\n",
    "            self.positionHistory.append([symbol,self.livePositions[symbol]])\n",
    "        else:\n",
    "            self.openOrders.append(order_dict) # You'll probably want to make a simpler custom order dict format\n",
    "\n",
    "    def processOpenOrders(self):\n",
    "\n",
    "        for order in self.openOrders:\n",
    "            symbol = order[\"symbol\"]\n",
    "\n",
    "            if self.liveTrading:\n",
    "                returned = api.get_order(order[\"order_id\"])\n",
    "\n",
    "                # Process the live order status into your storage format as necessary\n",
    "\n",
    "            else:\n",
    "                # Historical data input has to be adjusted for your own data pipeline setup\n",
    "                timeStepMin = data[symbol][\"low\"] # Reads the minimum trade price since last data point\n",
    "                timeStepMax = data[symbol][\"high\"] # Reads the maximum trade price since last data point\n",
    "\n",
    "                if order[\"orderType\"] == \"limit\":\n",
    "                    try:\n",
    "                        if order[\"side\"] == \"buy\" and order[\"limit\"] > timeStepMin:\n",
    "                            # You'll need to make adjustments to the backtest fill price assumptions\n",
    "                            fillPrice = data[symbol][\"close\"] \n",
    "\n",
    "                            self.livePositions[symbol][size] = self.livePositions[symbol][size] + quantity\n",
    "                            self.cashBalance -= quantity * fillPrice\n",
    "                            self.positionHistory.append([symbol,self.livePositions[symbol]])\n",
    "                        elif order[\"side\"] == \"sell\" and order[\"limit\"] < timeStepMax:\n",
    "                            fillPrice = data[symbol][\"close\"]\n",
    "\n",
    "                            self.livePositions[symbol][size] = self.livePositions[symbol][size] - quantity\n",
    "                            self.cashBalance += quantity * fillPrice\n",
    "                            self.positionHistory.append([symbol,self.livePositions[symbol]])\n",
    "\n",
    "                    except:\n",
    "                        self.livePositions[symbol] = {}\n",
    "\n",
    "                        if order[\"side\"] == \"buy\" and order[\"limit\"] > timeStepMin:\n",
    "                            fillPrice = data[symbol][\"close\"]\n",
    "\n",
    "                            self.livePositions[symbol][size] = quantity\n",
    "                            self.cashBalance -= quantity * fillPrice\n",
    "                            self.positionHistory.append([symbol,self.livePositions[symbol]])\n",
    "                        elif order[\"side\"] == \"sell\" and order[\"limit\"] < timeStepMax:\n",
    "                            fillPrice = data[symbol][\"close\"]\n",
    "\n",
    "                            self.livePositions[symbol][size] = -quantity\n",
    "                            self.cashBalance += quantity * fillPrice\n",
    "                            self.positionHistory.append([symbol,self.livePositions[symbol]])\n",
    "\n",
    "                #elif \n",
    "                # Add any other processing for other required order types\n",
    "\n",
    "                \n",
    "    def returnOpenPosition(self,symbol):\n",
    "        try:\n",
    "            return self.livePositions[symbol]\n",
    "        except:\n",
    "            return 0"
   ]
  },
  {
   "cell_type": "code",
   "execution_count": 22,
   "metadata": {},
   "outputs": [
    {
     "data": {
      "text/plain": [
       "<__main__.positionHandler at 0x2d52b01d9b0>"
      ]
     },
     "execution_count": 22,
     "metadata": {},
     "output_type": "execute_result"
    }
   ],
   "source": [
    "# Use position handler \n",
    "backtester = positionHandler(startingBalance=10000, liveTrading=False)\n",
    "\n",
    "backtestSymbolList = [\"SPY\", \"AAPL\", \"BBRY\"]\n",
    "positionSizing = 0.33\n",
    "\n",
    "cashBalanceList = []\n",
    "\n",
    "#Load Data\n",
    "data=api.get_barset('AAPL', 'minute', limit=500).df\n",
    "dateList = api.get_barset('AAPL', 'minute', limit=500).df\n"
   ]
  },
  {
   "cell_type": "code",
   "execution_count": 24,
   "metadata": {},
   "outputs": [],
   "source": [
    "# It can be helpful to have a list of the dates associated with their\n",
    "# respective bars\n",
    "\n",
    "timeSteps =len(dateList)\n",
    "barIterator = 0\n"
   ]
  },
  {
   "cell_type": "code",
   "execution_count": 25,
   "metadata": {},
   "outputs": [
    {
     "ename": "AttributeError",
     "evalue": "module 'loader' has no attribute 'get_data'",
     "output_type": "error",
     "traceback": [
      "\u001b[1;31m---------------------------------------------------------------------------\u001b[0m",
      "\u001b[1;31mAttributeError\u001b[0m                            Traceback (most recent call last)",
      "\u001b[1;32m<ipython-input-25-f5286c73806e>\u001b[0m in \u001b[0;36m<module>\u001b[1;34m\u001b[0m\n\u001b[0;32m      1\u001b[0m \u001b[1;32mwhile\u001b[0m \u001b[0mbarIterator\u001b[0m \u001b[1;33m<\u001b[0m \u001b[0mtimeSteps\u001b[0m\u001b[1;33m:\u001b[0m\u001b[1;33m\u001b[0m\u001b[1;33m\u001b[0m\u001b[0m\n\u001b[1;32m----> 2\u001b[1;33m     \u001b[0mdata\u001b[0m \u001b[1;33m=\u001b[0m \u001b[0mloader\u001b[0m\u001b[1;33m.\u001b[0m\u001b[0mget_data\u001b[0m\u001b[1;33m(\u001b[0m\u001b[0mbarIterator\u001b[0m\u001b[1;33m)\u001b[0m\u001b[1;33m\u001b[0m\u001b[1;33m\u001b[0m\u001b[0m\n\u001b[0m\u001b[0;32m      3\u001b[0m     \u001b[1;32mfor\u001b[0m \u001b[0msymbol\u001b[0m \u001b[1;32min\u001b[0m \u001b[0mbacktestSymbolList\u001b[0m\u001b[1;33m:\u001b[0m\u001b[1;33m\u001b[0m\u001b[1;33m\u001b[0m\u001b[0m\n\u001b[0;32m      4\u001b[0m         \u001b[1;31m# Historical data input has to be adjusted for your own data pipeline\u001b[0m\u001b[1;33m\u001b[0m\u001b[1;33m\u001b[0m\u001b[1;33m\u001b[0m\u001b[0m\n\u001b[0;32m      5\u001b[0m         \u001b[1;31m# Simple moving average cross strategy\u001b[0m\u001b[1;33m\u001b[0m\u001b[1;33m\u001b[0m\u001b[1;33m\u001b[0m\u001b[0m\n",
      "\u001b[1;31mAttributeError\u001b[0m: module 'loader' has no attribute 'get_data'"
     ]
    }
   ],
   "source": [
    "while barIterator < timeSteps:\n",
    "    data = data\n",
    "    for symbol in backtestSymbolList:\n",
    "        # Historical data input has to be adjusted for your own data pipeline\n",
    "        # Simple moving average cross strategy\n",
    "        price = data[symbol][\"close\"]\n",
    "        SMA20 = data[symbol][\"SMA20\"]\n",
    "        SMA50 = data[symbol][\"SMA50\"]\n",
    "\n",
    "        if SMA20 > SMA50:\n",
    "            openPosition = backtester.returnOpenPosition(symbol)\n",
    "\n",
    "            if openPosition == 0:\n",
    "                cashBalance = backtester.cashBalance\n",
    "\n",
    "                # Calculates required position size\n",
    "                targetPositionSize = int(cashBalance / (price / positionSizing))\n",
    "\n",
    "                backtester.placeOrder(\n",
    "                    symbol,\n",
    "                    targetPositionSize,\n",
    "                    \"buy\",\n",
    "                    \"market\",\n",
    "                    \"gtc\")  # Market order to open position\n",
    "\n",
    "        else:\n",
    "            openPosition = backtester.returnOpenPosition(symbol)\n",
    "\n",
    "            # Market order to fully close position\n",
    "            backtester.placeOrder(\n",
    "                symbol, openPosition, \"sell\", \"market\", \"gtc\")\n",
    "    cashBalance.append(backtester.cashBalance)\n",
    "\n",
    "tradeHistory = backtester.tradeHistory\n",
    "positionHistory = backtester.positionHistory\n",
    "finalBalance = backtester.cashBalance\n",
    "\n",
    "\n",
    "# Defines the plot for each trading symbol\n",
    "f, ax = plt.subplots()\n",
    "f.suptitle(symbol)"
   ]
  },
  {
   "cell_type": "code",
   "execution_count": null,
   "metadata": {
    "collapsed": true
   },
   "outputs": [],
   "source": [
    "timeList = []\n",
    "for date in dateList:\n",
    "    timeList.append(datetime.strptime(date, '%Y-%m-%dT%H:%M:%SZ'))\n",
    "timeList = np.array(timeList)\n",
    "# Plots market data and indicators\n",
    "ax.plot(timeList, cashBalanceList, label=symbol, color=\"black\")\n",
    "\n",
    "# Add functions to analyse performance over time and calculate metrics"
   ]
  }
 ],
 "metadata": {
  "kernelspec": {
   "display_name": "Python 3",
   "language": "python",
   "name": "python3"
  },
  "language_info": {
   "codemirror_mode": {
    "name": "ipython",
    "version": 3
   },
   "file_extension": ".py",
   "mimetype": "text/x-python",
   "name": "python",
   "nbconvert_exporter": "python",
   "pygments_lexer": "ipython3",
   "version": "3.7.3"
  }
 },
 "nbformat": 4,
 "nbformat_minor": 4
}
