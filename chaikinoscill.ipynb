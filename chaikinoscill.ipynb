{
 "cells": [
  {
   "cell_type": "code",
   "execution_count": 38,
   "metadata": {},
   "outputs": [],
   "source": [
    "import backtrader as bt\n",
    "import alpaca_backtrader_api as api\n",
    "import alpaca_trade_api as tradeapi\n",
    "import sys\n",
    "sys.path.insert(0, '../')\n",
    "import pandas as pd\n",
    "import talib as ta\n",
    "import numpy as np\n",
    "from config import key_id, secret_key"
   ]
  },
  {
   "cell_type": "code",
   "execution_count": 39,
   "metadata": {},
   "outputs": [],
   "source": [
    "#import cross signal generator\n",
    "from cross_signal import *"
   ]
  },
  {
   "cell_type": "code",
   "execution_count": 40,
   "metadata": {},
   "outputs": [],
   "source": [
    "import random\n",
    "from datetime import datetime, timedelta\n",
    "\n",
    "\n",
    "# or a function\n",
    "def gen_datetime(min_year=1900, max_year=2019):\n",
    "    # generate a datetime in format yyyy-mm-dd hh:mm:ss.000000\n",
    "    start = datetime(min_year, 1, 1, 00, 00, 00)\n",
    "    years = max_year - min_year + 1\n",
    "    end = start + timedelta(days=365 * years)\n",
    "    return start + (end - start) * random.random()"
   ]
  },
  {
   "cell_type": "code",
   "execution_count": 41,
   "metadata": {},
   "outputs": [],
   "source": [
    "#trading data is called in the form of JSON\n",
    "#https://api.polygon.io/v2/aggs/ticker/AAPL/range/1/day/2019-01-01/2019-02-01?apiKey=\n",
    "\n",
    "\n",
    "api = tradeapi.REST(key_id, secret_key)"
   ]
  },
  {
   "cell_type": "code",
   "execution_count": 42,
   "metadata": {},
   "outputs": [],
   "source": [
    "#generate list of random days into list\n",
    "day_list=[]\n",
    "day_after_list=[]\n",
    "for i in range(500):\n",
    "    rand_day=gen_datetime(2009)\n",
    "    day_list.append(rand_day.strftime(\"%Y-%m-%d\"))\n",
    "    day_after=rand_day + timedelta(days=14)\n",
    "    day_after_list.append(day_after.strftime(\"%Y-%m-%d\"))"
   ]
  },
  {
   "cell_type": "code",
   "execution_count": 43,
   "metadata": {},
   "outputs": [
    {
     "data": {
      "text/plain": [
       "'2019-08-31'"
      ]
     },
     "execution_count": 43,
     "metadata": {},
     "output_type": "execute_result"
    }
   ],
   "source": [
    "day_list[0]"
   ]
  },
  {
   "cell_type": "code",
   "execution_count": 44,
   "metadata": {},
   "outputs": [],
   "source": [
    "#generate random list of symbols\n",
    "sym_list=['JACK']\n",
    "# ,'AAPL','TSLA','JACK'\n",
    "#for i in range(10):\n",
    "    #rand_sym=random.random(range=len(symbols.csv))\n",
    "    #symlist.append(rand_sym)"
   ]
  },
  {
   "cell_type": "code",
   "execution_count": 45,
   "metadata": {},
   "outputs": [],
   "source": [
    "#Generate random day data for\n",
    "df_list=[]\n",
    "for sym in sym_list: \n",
    "    data_day_list=[]\n",
    "    for i in range(len(day_list)):\n",
    "        data_sym = api.polygon.historic_agg_v2(sym, 1, 'minute', _from=day_list[i], to=day_after_list[i]).df\n",
    "        data_day_list.append(data_sym)\n",
    "    df_list.append(data_day_list)"
   ]
  },
  {
   "cell_type": "code",
   "execution_count": 12,
   "metadata": {},
   "outputs": [
    {
     "data": {
      "text/plain": [
       "False"
      ]
     },
     "execution_count": 12,
     "metadata": {},
     "output_type": "execute_result"
    }
   ],
   "source": [
    "cross_sign=crossed_below(df_list[0][0].high,60)\n",
    "cross_sign[0]"
   ]
  },
  {
   "cell_type": "markdown",
   "metadata": {},
   "source": [
    "# Testing"
   ]
  },
  {
   "cell_type": "code",
   "execution_count": 46,
   "metadata": {},
   "outputs": [],
   "source": [
    "#feed strat to cerebro\n",
    "\n",
    "class oscillator_mfi(bt.Strategy):\n",
    "    \"\"\"\n",
    "        this strategy is based around the idea of generating a lot of potential buys and make tiny profits on each trade\n",
    "        we recommend to have at least 60 parallel trades at any time to cover non avoidable losses.\n",
    "        Recommended is to only sell based on ROI for this strategy\n",
    "    \"\"\" \n",
    "#populate a dataframe with indicators\n",
    "    \n",
    "    \n",
    "    \n",
    "#------------------------------------strategy starts here--------------------------------------------------------------    \n",
    "    def __init__(self):\n",
    "        #populate exponential moving averages\n",
    "        self.emahigh=bt.indicators.EMA(self.data.high, period=4)\n",
    "        self.emaclose=bt.indicators.EMA(self.data.close, period=4)\n",
    "        self.emalow=bt.indicators.EMA(self.data.low, period=4)\n",
    "        \n",
    "        \n",
    "        \n",
    "        self.mfi=bt.talib.MFI(self.data.high,self.data.low,self.data.close,self.data.volume, timeperiod=14 )\n",
    "        \n",
    "        #crossing signal\n",
    "        self.adosc=bt.talib.ADOSC(self.data.high,self.data.low,self.data.close,self.data.volume, fastperiod=3, slowperiod=10) \n",
    "        #1 for down, -1 for up\n",
    "        self.cross_sig=bt.indicators.CrossOver(self.adosc, 0)\n",
    "        \n",
    "        \n",
    "        self.emalow=bt.indicators.EMA(self.data.low, period=4)\n",
    "        \n",
    "        self.minusdi=bt.talib.MINUS_DI(self.data.high,self.data.low,self.data.close)\n",
    "        self.plusdi=bt.talib.PLUS_DI(self.data.high,self.data.low,self.data.close)\n",
    "     \n",
    "        \n",
    "        \n",
    "        #create Average Directional Movement Index\n",
    "        self.adx=bt.talib.ADX(self.data.high, self.data.low, self.data.close, timeperiod=14)\n",
    "        \n",
    "        \n",
    "# if open score is less than ema_low, adx is greater than 30, fastk fastd less than 30, then buy\n",
    "#uses indicators to determine buy and sell\n",
    "\n",
    "    def next(self):\n",
    "        if not self.position: #not in the market\n",
    "            if self.cross_sig== -1 and \\\n",
    "            self.adx > 25 and \\\n",
    "            self.mfi < 15: \\\n",
    "            #self.minusdi > self.plusdi:\n",
    "                self.buy(size=20)\n",
    "                \n",
    "                \n",
    "        else:\n",
    "            if self.cross_sig== 1 and \\\n",
    "            self.mfi > 90:\n",
    "                self.sell(size=20)\n"
   ]
  },
  {
   "cell_type": "code",
   "execution_count": 14,
   "metadata": {},
   "outputs": [
    {
     "ename": "SyntaxError",
     "evalue": "unexpected character after line continuation character (<ipython-input-14-76d567556340>, line 56)",
     "output_type": "error",
     "traceback": [
      "\u001b[1;36m  File \u001b[1;32m\"<ipython-input-14-76d567556340>\"\u001b[1;36m, line \u001b[1;32m56\u001b[0m\n\u001b[1;33m    self.rsi > 80  and \\:\u001b[0m\n\u001b[1;37m                         ^\u001b[0m\n\u001b[1;31mSyntaxError\u001b[0m\u001b[1;31m:\u001b[0m unexpected character after line continuation character\n"
     ]
    }
   ],
   "source": [
    "#feed strat to cerebro\n",
    "\n",
    "class oscillator_rsi(bt.Strategy):\n",
    "    \"\"\"\n",
    "        this strategy is based around the idea of generating a lot of potential buys and make tiny profits on each trade\n",
    "        we recommend to have at least 60 parallel trades at any time to cover non avoidable losses.\n",
    "        Recommended is to only sell based on ROI for this strategy\n",
    "    \"\"\" \n",
    "#populate a dataframe with indicators\n",
    "    \n",
    "    \n",
    "    \n",
    "#------------------------------------strategy starts here--------------------------------------------------------------    \n",
    "    def __init__(self):\n",
    "    #populate exponential moving averages\n",
    "        self.emahigh=bt.indicators.EMA(self.data.high, period=4)\n",
    "        self.emaclose=bt.indicators.EMA(self.data.close, period=4)\n",
    "        self.emalow=bt.indicators.EMA(self.data.low, period=4)\n",
    "        \n",
    "        \n",
    "        \n",
    "        self.rsi=bt.talib.RSI(self.data.close, timeperiod=14 )\n",
    "        \n",
    "        #crossing signal\n",
    "        self.adosc=bt.talib.ADOSC(self.data.high,self.data.low,self.data.close,self.data.volume, fastperiod=3, slowperiod=10) \n",
    "        #1 for down, -1 for up\n",
    "        self.cross_sig=bt.indicators.CrossOver(self.adosc, 0)\n",
    "        \n",
    "        \n",
    "        self.emalow=bt.indicators.EMA(self.data.low, period=4)\n",
    "        \n",
    "        self.minusdi=bt.talib.MINUS_DI(self.data.high,self.data.low,self.data.close)\n",
    "        self.plusdi=bt.talib.PLUS_DI(self.data.high,self.data.low,self.data.close)\n",
    "     \n",
    "        \n",
    "\n",
    "        \n",
    "        #create Average Directional Movement Index\n",
    "        self.adx=bt.talib.ADX(self.data.high, self.data.low, self.data.close, timeperiod=14)\n",
    "        \n",
    "        \n",
    "# if open score is less than ema_low, adx is greater than 30, fastk fastd less than 30, then buy\n",
    "#uses indicators to determine buy and sell\n",
    "\n",
    "    def next(self):\n",
    "        if not self.position: #not in the market\n",
    "            if self.cross_sig== -1 and \\\n",
    "            self.rsi < 29: \n",
    "            #self.minusdi > self.plusdi:\n",
    "                self.buy(size=20)\n",
    "                \n",
    "                \n",
    "        else:\n",
    "            if self.cross_sig== 1 and \\\n",
    "            self.fastd > 70  and \\\n",
    "            self.rsi > 80:\n",
    "                self.sell(size=20)\n"
   ]
  },
  {
   "cell_type": "code",
   "execution_count": 456,
   "metadata": {},
   "outputs": [],
   "source": [
    "#feed strat to cerebro\n",
    "\n",
    "class Scalpy3(bt.Strategy):\n",
    "    \"\"\"\n",
    "        this strategy is based around the idea of generating a lot of potential buys and make tiny profits on each trade\n",
    "        we recommend to have at least 60 parallel trades at any time to cover non avoidable losses.\n",
    "        Recommended is to only sell based on ROI for this strategy\n",
    "    \"\"\" \n",
    "#populate a dataframe with indicators\n",
    "    \n",
    "    \n",
    "    \n",
    "#------------------------------------strategy starts here--------------------------------------------------------------    \n",
    "    def __init__(self):\n",
    "        #populate exponential moving averages\n",
    "        self.emahigh=bt.indicators.EMA(self.data.high, period=10)\n",
    "        self.emaclose=bt.indicators.EMA(self.data.close, period=10)\n",
    "        self.emalow=bt.indicators.EMA(self.data.low, period=10)\n",
    "        \n",
    "        self.cci=bt.talib.CCI(self.data.high,self.data.low,self.data.close, timeperiod=14 )\n",
    "        #macd indicators\n",
    "        #self.macd_arr=bt.indicators.macd(self.data.close)\n",
    "        \n",
    "        #self.macd=self.macd_arr[0]\n",
    "        #self.macdsignal=self.macd_arr[1]\n",
    "        \n",
    "        \n",
    "        \n",
    "        #creat stochastic momentum indicators \n",
    "        self.stoch=bt.talib.STOCHF(self.data.high, self.data.low, self.data.close, \\\n",
    "                                   fastk_period=14, slowk_period=4, slowd_period=4)\n",
    "        self.fastk=self.stoch.fastk\n",
    "        self.fastd=self.stoch.fastd\n",
    "        #create Average Directional Movement Index\n",
    "        self.adx=bt.talib.ADX(self.data.high, self.data.low, self.data.close, timeperiod=14)\n",
    "        \n",
    "        \n",
    "# if open score is less than ema_low, adx is greater than 30, fastk fastd less than 30, then buy\n",
    "#uses indicators to determine buy and sell\n",
    "\n",
    "    def next(self):\n",
    "        if not self.position: #not in the market\n",
    "            if self.data.open < self.emalow and \\\n",
    "            self.adx > 25 and \\\n",
    "            self.fastk < 20 and \\\n",
    "            self.fastd < 20 and \\\n",
    "            self.cci <= -150.0:\n",
    "                self.buy(size=20)\n",
    "                \n",
    "                \n",
    "        else:\n",
    "            if self.data.open >= self.emahigh and \\\n",
    "            self.fastk > 95 and \\\n",
    "            self.fastd > 95  and \\\n",
    "            self.cci >= 150.0 :\n",
    "                self.sell(size=20)\n"
   ]
  },
  {
   "cell_type": "code",
   "execution_count": 580,
   "metadata": {},
   "outputs": [],
   "source": [
    "#feed strat to cerebro\n",
    "\n",
    "class Scalpy4(bt.Strategy):\n",
    "    \"\"\"\n",
    "        this strategy is based around the idea of generating a lot of potential buys and make tiny profits on each trade\n",
    "        we recommend to have at least 60 parallel trades at any time to cover non avoidable losses.\n",
    "        Recommended is to only sell based on ROI for this strategy\n",
    "    \"\"\" \n",
    "#populate a dataframe with indicators\n",
    "    \n",
    "    \n",
    "    \n",
    "#------------------------------------strategy starts here--------------------------------------------------------------    \n",
    "    def __init__(self):\n",
    "        #populate exponential moving averages\n",
    "        self.emahigh=bt.indicators.EMA(self.data.high, period=10)\n",
    "        self.emaclose=bt.indicators.EMA(self.data.close, period=10)\n",
    "        self.emalow=bt.indicators.EMA(self.data.low, period=10)\n",
    "        \n",
    "        self.cci=bt.talib.CCI(self.data.high,self.data.low,self.data.close, timeperiod=14 )\n",
    "        #macd indicators\n",
    "        #self.macd_arr=bt.indicators.macd(self.data.close)\n",
    "        \n",
    "        #self.macd=self.macd_arr[0]\n",
    "        #self.macdsignal=self.macd_arr[1]\n",
    "        self.ultosc=bt.talib.ULTOSC(self.data.high,self.data.low,self.data.close)\n",
    "        \n",
    "        \n",
    "        #creat stochastic momentum indicators \n",
    "        self.stoch=bt.talib.STOCHF(self.data.high, self.data.low, self.data.close, \\\n",
    "                                   fastk_period=14, slowk_period=4, slowd_period=4)\n",
    "        self.fastk=self.stoch.fastk\n",
    "        self.fastd=self.stoch.fastd\n",
    "        #create Average Directional Movement Index\n",
    "        self.adx=bt.talib.ADX(self.data.high, self.data.low, self.data.close, timeperiod=14)\n",
    "        \n",
    "        self.bband = bt.indicators.BBands(self.datas[0])\n",
    "        self.bband_low=self.bband.lines.bot\n",
    "        self.bband_high = self.bband.lines.top\n",
    "        self.bband_mid= self.bband.lines.mid\n",
    "        \n",
    "        \n",
    "        \n",
    "# if open score is less than ema_low, adx is greater than 30, fastk fastd less than 30, then buy\n",
    "#uses indicators to determine buy and sell\n",
    "\n",
    "    def next(self):\n",
    "        if not self.position: #not in the market\n",
    "            if self.data.open < self.bband_low and \\\n",
    "            self.adx > 25 and \\\n",
    "            self.fastk < 20 and \\\n",
    "            self.fastd < 20 and \\\n",
    "            self.cci <= -150.0:\n",
    "                self.buy(size=20)\n",
    "                \n",
    "                \n",
    "        else:\n",
    "            if self.data.open > self.bband_high and \\\n",
    "            self.fastk > 95 and \\\n",
    "            self.fastd > 95  and \\\n",
    "            self.cci >= 150.0 :\n",
    "                self.sell(size=20)\n"
   ]
  },
  {
   "cell_type": "code",
   "execution_count": 409,
   "metadata": {},
   "outputs": [],
   "source": [
    "#feed strat to cerebro\n",
    "\n",
    "class Scalp4(bt.Strategy):\n",
    "    \"\"\"\n",
    "        this strategy is based around the idea of generating a lot of potential buys and make tiny profits on each trade\n",
    "        we recommend to have at least 60 parallel trades at any time to cover non avoidable losses.\n",
    "        Recommended is to only sell based on ROI for this strategy\n",
    "    \"\"\" \n",
    "#populate a dataframe with indicators\n",
    "    \n",
    "    \n",
    "    \n",
    "#------------------------------------strategy starts here--------------------------------------------------------------    \n",
    "    def __init__(self):\n",
    "        #populate exponential moving averages\n",
    "        self.emahigh=bt.indicators.EMA(self.data.high, period=5)\n",
    "        self.emaclose=bt.indicators.EMA(self.data.close, period=5)\n",
    "        self.emalow=bt.indicators.EMA(self.data.low, period=5)\n",
    "        self.rsi=bt.talib.RSI(self.data.close, timeperiod=14 )\n",
    "        self.cci=bt.talib.CCI(self.data.high,self.data.low,self.data.close, timeperiod=14 )\n",
    "        \n",
    "        #macd indicators\n",
    "        #self.macd_arr=bt.indicators.macd(self.data.close)\n",
    "        \n",
    "        #self.macd=self.macd_arr[0]\n",
    "        #self.macdsignal=self.macd_arr[1]\n",
    "        \n",
    "        \n",
    "        \n",
    "        #creat stochastic momentum indicators \n",
    "        self.stoch=bt.talib.STOCHF(self.data.high, self.data.low, self.data.close, \\\n",
    "                                   fastk_period=5, slowk_period=3, slowd_period=3)\n",
    "        self.fastk=self.stoch.fastk\n",
    "        self.fastd=self.stoch.fastd\n",
    "        #1 for down, -1 for up\n",
    "        self.fastcross=bt.indicators.CrossOver(self.fastk, self.fastd)\n",
    "        \n",
    "        \n",
    "        #create Average Directional Movement Index\n",
    "        self.adx=bt.talib.ADX(self.data.high, self.data.low, self.data.close, timeperiod=14)\n",
    "        \n",
    "        \n",
    "# if open score is less than ema_low, adx is greater than 30, fastk fastd less than 30, then buy\n",
    "#uses indicators to determine buy and sell\n",
    "\n",
    "    def next(self):\n",
    "        if not self.position: #not in the market\n",
    "            if self.data.open < self.emalow and \\\n",
    "            self.adx > 30 and \\\n",
    "            self.rsi < 29  and \\\n",
    "            self.fastd < 30 and \\\n",
    "            self.fastk > self.fastd and \\\n",
    "            self.fastk < 30:\n",
    "                self.buy(size=20)\n",
    "                \n",
    "                \n",
    "        else:\n",
    "            if self.data.open >= self.emahigh and \\\n",
    "            self.adx > 25 and \\\n",
    "            self.fastd > 70  and \\\n",
    "            self.rsi > 80  and \\\n",
    "            self.fastk > 70:\n",
    "                self.sell(size=20)\n"
   ]
  },
  {
   "cell_type": "code",
   "execution_count": 513,
   "metadata": {},
   "outputs": [],
   "source": [
    "#feed strat to cerebro\n",
    "\n",
    "class Scalp5(bt.Strategy):\n",
    "    \"\"\"\n",
    "        this strategy is based around the idea of generating a lot of potential buys and make tiny profits on each trade\n",
    "        we recommend to have at least 60 parallel trades at any time to cover non avoidable losses.\n",
    "        Recommended is to only sell based on ROI for this strategy\n",
    "    \"\"\" \n",
    "#populate a dataframe with indicators\n",
    "    \n",
    "    \n",
    "    \n",
    "#------------------------------------strategy starts here--------------------------------------------------------------    \n",
    "    def __init__(self):\n",
    "        #populate exponential moving averages\n",
    "        self.emahigh=bt.indicators.EMA(self.data.high, period=5)\n",
    "        self.emaclose=bt.indicators.EMA(self.data.close, period=5)\n",
    "        self.emalow=bt.indicators.EMA(self.data.low, period=5)\n",
    "        self.rsi=bt.talib.RSI(self.data.close, timeperiod=14 )\n",
    "        self.cci=bt.talib.CCI(self.data.high,self.data.low,self.data.close, timeperiod=14 )\n",
    "        \n",
    "        \n",
    "        #macd indicators\n",
    "        #self.macd_arr=bt.indicators.macd(self.data.close)\n",
    "        \n",
    "        #self.macd=self.macd_arr[0]\n",
    "        #self.macdsignal=self.macd_arr[1]\n",
    "        \n",
    "        self.mfi=bt.talib.MFI(self.data.high,self.data.low,self.data.close,self.data.volume, timeperiod=14 )\n",
    "        \n",
    "        #creat stochastic momentum indicators \n",
    "        self.stoch=bt.talib.STOCHF(self.data.high, self.data.low, self.data.close, \\\n",
    "                                   fastk_period=5, slowk_period=3, slowd_period=3)\n",
    "        self.fastk=self.stoch.fastk\n",
    "        self.fastd=self.stoch.fastd\n",
    "        #1 for down, -1 for up\n",
    "        self.fastcross=bt.indicators.CrossOver(self.fastk, self.fastd)\n",
    "        \n",
    "        \n",
    "        #create Average Directional Movement Index\n",
    "        self.adx=bt.talib.ADX(self.data.high, self.data.low, self.data.close, timeperiod=14)\n",
    "        \n",
    "        \n",
    "# if open score is less than ema_low, adx is greater than 30, fastk fastd less than 30, then buy\n",
    "#uses indicators to determine buy and sell\n",
    "\n",
    "    def next(self):\n",
    "        if not self.position: #not in the market\n",
    "            if self.mfi < 25  and \\\n",
    "            self.adx > 30 and \\\n",
    "            self.rsi < 29  and \\\n",
    "            self.fastd < 30 and \\\n",
    "            self.fastk > self.fastd and \\\n",
    "            self.fastk < 30:\n",
    "                self.buy(size=20)\n",
    "                \n",
    "        else:\n",
    "            if self.mfi > 75 and \\\n",
    "            self.fastd > 70  and \\\n",
    "            self.rsi > 80  and \\\n",
    "            self.fastk > 70:\n",
    "                self.sell(size=20)\n"
   ]
  },
  {
   "cell_type": "code",
   "execution_count": 376,
   "metadata": {},
   "outputs": [
    {
     "data": {
      "text/plain": [
       "'self.cross_sig_below=crossed_below(self.adosc,0)\\nself.cross_sig_above=crossed_above(self.adosc,0)\\n        \\n        \\n    def next(self):\\n        if not self.position: #not in the market\\n            if self.cross_sig_above== True and             self.mfi < 30:             #self.minusdi > self.plusdi:\\n                self.buy(size=20)\\n                \\n                \\n        else:\\n            if self.cross_sig_below== True and             self.mfi > 85:\\n                self.sell(size=20)'"
      ]
     },
     "execution_count": 376,
     "metadata": {},
     "output_type": "execute_result"
    }
   ],
   "source": [
    "\"\"\"self.cross_sig_below=crossed_below(self.adosc,0)\n",
    "self.cross_sig_above=crossed_above(self.adosc,0)\n",
    "        \n",
    "        \n",
    "    def next(self):\n",
    "        if not self.position: #not in the market\n",
    "            if self.cross_sig_above== True and \\\n",
    "            self.mfi < 30: \\\n",
    "            #self.minusdi > self.plusdi:\n",
    "                self.buy(size=20)\n",
    "                \n",
    "                \n",
    "        else:\n",
    "            if self.cross_sig_below== True and \\\n",
    "            self.mfi > 85:\n",
    "                self.sell(size=20)\"\"\""
   ]
  },
  {
   "cell_type": "code",
   "execution_count": 377,
   "metadata": {},
   "outputs": [],
   "source": [
    "#feed strat to cerebro\n",
    "\n",
    "class volumestrat7(bt.Strategy):\n",
    "    \"\"\"\n",
    "        this strategy is based around the idea of generating a lot of potential buys and make tiny profits on each trade\n",
    "        we recommend to have at least 60 parallel trades at any time to cover non avoidable losses.\n",
    "        Recommended is to only sell based on ROI for this strategy\n",
    "    \"\"\" \n",
    "#populate a dataframe with indicators\n",
    "    \n",
    "    \n",
    "    \n",
    "#------------------------------------strategy starts here--------------------------------------------------------------    \n",
    "    def __init__(self):\n",
    "        #populate exponential moving averages\n",
    "        self.emahigh=bt.indicators.EMA(self.data.high, period=4)\n",
    "        self.emaclose=bt.indicators.EMA(self.data.close, period=4)\n",
    "        self.emalow=bt.indicators.EMA(self.data.low, period=4)\n",
    "        \n",
    "        \n",
    "        self.mfi=bt.talib.MFI(self.data.high,self.data.low,self.data.close,self.data.volume, timeperiod=14 )\n",
    "        self.ultosc=bt.talib.ULTOSC(self.data.high,self.data.low,self.data.close)\n",
    "        \n",
    "        self.minusdi=bt.talib.MINUS_DI(self.data.high,self.data.low,self.data.close)\n",
    "        self.plusdi=bt.talib.PLUS_DI(self.data.high,self.data.low,self.data.close)\n",
    "     \n",
    "        \n",
    "        #creat stochastic momentum indicators \n",
    "        #1 for down, -1 for up\n",
    "        #self.fastcross=bt.indicators.CrossOver(self.fastk, self.fastd)\n",
    "        \n",
    "        \n",
    "        #create Average Directional Movement Index\n",
    "        self.adx=bt.talib.ADX(self.data.high, self.data.low, self.data.close, timeperiod=14)\n",
    "        \n",
    "        \n",
    "# if open score is less than ema_low, adx is greater than 30, fastk fastd less than 30, then buy\n",
    "#uses indicators to determine buy and sell\n",
    "\n",
    "    def next(self):\n",
    "        if not self.position: #not in the market\n",
    "            if self.mfi < 20 and \\\n",
    "            self.ultosc < 20 and \\\n",
    "            self.minusdi > 25 and \\\n",
    "            self.minusdi > self.plusdi:\n",
    "                self.buy(size=20)\n",
    "                \n",
    "                \n",
    "        else:\n",
    "            if self.mfi > 80  and \\\n",
    "            self.ultosc > 80  and \\\n",
    "            self.minusdi > 25 and \\\n",
    "            self.minusdi < self.plusdi: \n",
    "                self.sell(size=20)\n"
   ]
  },
  {
   "cell_type": "code",
   "execution_count": 427,
   "metadata": {},
   "outputs": [],
   "source": [
    "#feed strat to cerebro\n",
    "\n",
    "class volumestrat8(bt.Strategy):\n",
    "    \"\"\"\n",
    "        this strategy is based around the idea of generating a lot of potential buys and make tiny profits on each trade\n",
    "        we recommend to have at least 60 parallel trades at any time to cover non avoidable losses.\n",
    "        Recommended is to only sell based on ROI for this strategy\n",
    "    \"\"\" \n",
    "#populate a dataframe with indicators\n",
    "    \n",
    "    \n",
    "    \n",
    "#------------------------------------strategy starts here--------------------------------------------------------------    \n",
    "    def __init__(self):\n",
    "        #populate exponential moving averages\n",
    "        self.emahigh=bt.indicators.EMA(self.data.high, period=4)\n",
    "        self.emaclose=bt.indicators.EMA(self.data.close, period=4)\n",
    "        self.emalow=bt.indicators.EMA(self.data.low, period=4)\n",
    "        \n",
    "        \n",
    "        self.mfi=bt.talib.MFI(self.data.high,self.data.low,self.data.close,self.data.volume, timeperiod=14 )\n",
    "        self.ultosc=bt.talib.ULTOSC(self.data.high,self.data.low,self.data.close)\n",
    "        \n",
    "        self.minusdi=bt.talib.MINUS_DI(self.data.high,self.data.low,self.data.close)\n",
    "        self.plusdi=bt.talib.PLUS_DI(self.data.high,self.data.low,self.data.close)\n",
    "     \n",
    "        \n",
    "        #creat stochastic momentum indicators \n",
    "        #1 for down, -1 for up\n",
    "        #self.fastcross=bt.indicators.CrossOver(self.fastk, self.fastd)\n",
    "        \n",
    "        \n",
    "        #create Average Directional Movement Index\n",
    "        self.adx=bt.talib.ADX(self.data.high, self.data.low, self.data.close, timeperiod=14)\n",
    "        \n",
    "        \n",
    "# if open score is less than ema_low, adx is greater than 30, fastk fastd less than 30, then buy\n",
    "#uses indicators to determine buy and sell\n",
    "\n",
    "    def next(self):\n",
    "        if not self.position: #not in the market\n",
    "            if self.mfi < 23 and \\\n",
    "            self.adx > 25 and \\\n",
    "            self.ultosc < 23 and \\\n",
    "            self.minusdi > 25 and \\\n",
    "            self.minusdi > self.plusdi:\n",
    "                self.buy(size=20)\n",
    "                \n",
    "                \n",
    "        else:\n",
    "            if self.mfi > 82  and \\\n",
    "            self.ultosc > 80  and \\\n",
    "            self.minusdi < self.plusdi: \n",
    "                self.sell(size=20)\n"
   ]
  },
  {
   "cell_type": "code",
   "execution_count": 581,
   "metadata": {},
   "outputs": [],
   "source": [
    "# Run over everything\n",
    "SQN_dict_list=[] \n",
    "tradeanalysis_dict_list=[]\n",
    "ret_dict_list=[]\n",
    "trans_dict_list=[]\n",
    "pnl_list=[]\n",
    "\n",
    "for i in range(len(df_list[0])):\n",
    "    #create backtrader\n",
    "    cerebro = bt.Cerebro()\n",
    "\n",
    "    #cerebro.addstrategy(SmaCross)\n",
    "    #cerebro.addstrategy(Scalp)\n",
    "\n",
    "    #Add slippage\n",
    "    cerebro.broker = bt.brokers.BackBroker(slip_perc=0.005) \n",
    "\n",
    "    #set up cerebro\n",
    "\n",
    "    cerebro.broker.setcash(100000)\n",
    "\n",
    "    cerebro.broker.setcommission(commission=0.0)\n",
    "    cerebro.addsizer(bt.sizers.PercentSizer, percents=50)\n",
    "\n",
    "    # Add the analyzers we are interested in\n",
    "    cerebro.addanalyzer(bt.analyzers.TradeAnalyzer, _name=\"ta\")\n",
    "    cerebro.addanalyzer(bt.analyzers.SQN, _name=\"sqn\")\n",
    "    cerebro.addanalyzer(bt.analyzers.Returns, _name=\"ret\")\n",
    "    cerebro.addanalyzer(bt.analyzers.PeriodStats, _name=\"pstat\")\n",
    "    cerebro.addanalyzer(bt.analyzers.Transactions, _name=\"trans\")\n",
    "\n",
    "\n",
    "    # Add the observers we are interested in \n",
    "    #this adds more things to the plot on top of the stocks chart\n",
    "    cerebro.addobserver(bt.observers.Broker)\n",
    "    cerebro.addobserver(bt.observers.BuySell)\n",
    "    \n",
    "    \n",
    "    \n",
    "    \n",
    "    cerebro.addstrategy(Scalpy4)\n",
    "    datacere = bt.feeds.PandasData(dataname=df_list[0][i])\n",
    "    cerebro.adddata(datacere,name=day_list[i])\n",
    "#    print(day_list[i]+' added')\n",
    "    test=cerebro.run()\n",
    "    \n",
    "    \n",
    "    \n",
    "    \n",
    "    \n",
    "    SQN_dict=test[0].analyzers.sqn.get_analysis() \n",
    "    SQN_dict_list.append(SQN_dict)\n",
    "    \n",
    "    tradeanalysis_dict=test[0].analyzers.ta.get_analysis()\n",
    "    tradeanalysis_dict_list.append(tradeanalysis_dict)\n",
    "    \n",
    "    ret_dict=test[0].analyzers.ret.get_analysis()\n",
    "    ret_dict_list.append(ret_dict)\n",
    "    \n",
    "    trans_dict=test[0].analyzers.trans.get_analysis()\n",
    "    trans_dict_list.append(trans_dict_list)\n",
    "    "
   ]
  },
  {
   "cell_type": "code",
   "execution_count": 582,
   "metadata": {},
   "outputs": [],
   "source": [
    "SQN_total=0\n",
    "for i in range(len(SQN_dict_list)):    \n",
    "    SQN_total=SQN_total+SQN_dict_list[i]['sqn']\n",
    "\n",
    "SQN_avg=SQN_total/len(SQN_dict_list)"
   ]
  },
  {
   "cell_type": "code",
   "execution_count": 583,
   "metadata": {},
   "outputs": [
    {
     "data": {
      "text/plain": [
       "0.29738150440321737"
      ]
     },
     "execution_count": 583,
     "metadata": {},
     "output_type": "execute_result"
    }
   ],
   "source": [
    "SQN_avg"
   ]
  },
  {
   "cell_type": "code",
   "execution_count": 584,
   "metadata": {},
   "outputs": [
    {
     "data": {
      "text/plain": [
       "AutoOrderedDict([('total',\n",
       "                  AutoOrderedDict([('total', 6), ('open', 1), ('closed', 5)])),\n",
       "                 ('streak',\n",
       "                  AutoOrderedDict([('won',\n",
       "                                    AutoOrderedDict([('current', 0),\n",
       "                                                     ('longest', 3)])),\n",
       "                                   ('lost',\n",
       "                                    AutoOrderedDict([('current', 1),\n",
       "                                                     ('longest', 1)]))])),\n",
       "                 ('pnl',\n",
       "                  AutoOrderedDict([('gross',\n",
       "                                    AutoOrderedDict([('total',\n",
       "                                                      56.60000000000025),\n",
       "                                                     ('average',\n",
       "                                                      11.32000000000005)])),\n",
       "                                   ('net',\n",
       "                                    AutoOrderedDict([('total',\n",
       "                                                      56.60000000000025),\n",
       "                                                     ('average',\n",
       "                                                      11.32000000000005)]))])),\n",
       "                 ('won',\n",
       "                  AutoOrderedDict([('total', 3),\n",
       "                                   ('pnl',\n",
       "                                    AutoOrderedDict([('total',\n",
       "                                                      83.70000000000005),\n",
       "                                                     ('average',\n",
       "                                                      27.900000000000016),\n",
       "                                                     ('max',\n",
       "                                                      50.99999999999994)]))])),\n",
       "                 ('lost',\n",
       "                  AutoOrderedDict([('total', 2),\n",
       "                                   ('pnl',\n",
       "                                    AutoOrderedDict([('total',\n",
       "                                                      -27.099999999999795),\n",
       "                                                     ('average',\n",
       "                                                      -13.549999999999898),\n",
       "                                                     ('max',\n",
       "                                                      -24.099999999999966)]))])),\n",
       "                 ('long',\n",
       "                  AutoOrderedDict([('total', 5),\n",
       "                                   ('pnl',\n",
       "                                    AutoOrderedDict([('total',\n",
       "                                                      56.60000000000025),\n",
       "                                                     ('average',\n",
       "                                                      11.32000000000005),\n",
       "                                                     ('won',\n",
       "                                                      AutoOrderedDict([('total',\n",
       "                                                                        83.70000000000005),\n",
       "                                                                       ('average',\n",
       "                                                                        27.900000000000016),\n",
       "                                                                       ('max',\n",
       "                                                                        50.99999999999994)])),\n",
       "                                                     ('lost',\n",
       "                                                      AutoOrderedDict([('total',\n",
       "                                                                        -27.099999999999795),\n",
       "                                                                       ('average',\n",
       "                                                                        -13.549999999999898),\n",
       "                                                                       ('max',\n",
       "                                                                        -24.099999999999966)]))])),\n",
       "                                   ('won', 3),\n",
       "                                   ('lost', 2)])),\n",
       "                 ('short',\n",
       "                  AutoOrderedDict([('total', 0),\n",
       "                                   ('pnl',\n",
       "                                    AutoOrderedDict([('total', 0.0),\n",
       "                                                     ('average', 0.0),\n",
       "                                                     ('won',\n",
       "                                                      AutoOrderedDict([('total',\n",
       "                                                                        0.0),\n",
       "                                                                       ('average',\n",
       "                                                                        0.0),\n",
       "                                                                       ('max',\n",
       "                                                                        0.0)])),\n",
       "                                                     ('lost',\n",
       "                                                      AutoOrderedDict([('total',\n",
       "                                                                        0.0),\n",
       "                                                                       ('average',\n",
       "                                                                        0.0),\n",
       "                                                                       ('max',\n",
       "                                                                        0.0)]))])),\n",
       "                                   ('won', 0),\n",
       "                                   ('lost', 0)])),\n",
       "                 ('len',\n",
       "                  AutoOrderedDict([('total', 904),\n",
       "                                   ('average', 180.8),\n",
       "                                   ('max', 415),\n",
       "                                   ('min', 50),\n",
       "                                   ('won',\n",
       "                                    AutoOrderedDict([('total', 637),\n",
       "                                                     ('average',\n",
       "                                                      212.33333333333334),\n",
       "                                                     ('max', 415),\n",
       "                                                     ('min', 106)])),\n",
       "                                   ('lost',\n",
       "                                    AutoOrderedDict([('total', 267),\n",
       "                                                     ('average', 133.5),\n",
       "                                                     ('max', 217),\n",
       "                                                     ('min', 50)])),\n",
       "                                   ('long',\n",
       "                                    AutoOrderedDict([('total', 904),\n",
       "                                                     ('average', 180.8),\n",
       "                                                     ('max', 415),\n",
       "                                                     ('min', 50),\n",
       "                                                     ('won',\n",
       "                                                      AutoOrderedDict([('total',\n",
       "                                                                        637),\n",
       "                                                                       ('average',\n",
       "                                                                        212.33333333333334),\n",
       "                                                                       ('max',\n",
       "                                                                        415),\n",
       "                                                                       ('min',\n",
       "                                                                        106)])),\n",
       "                                                     ('lost',\n",
       "                                                      AutoOrderedDict([('total',\n",
       "                                                                        267),\n",
       "                                                                       ('average',\n",
       "                                                                        133.5),\n",
       "                                                                       ('max',\n",
       "                                                                        217),\n",
       "                                                                       ('min',\n",
       "                                                                        50)]))])),\n",
       "                                   ('short',\n",
       "                                    AutoOrderedDict([('total', 0),\n",
       "                                                     ('average', 0.0),\n",
       "                                                     ('max', 0),\n",
       "                                                     ('min',\n",
       "                                                      9223372036854775807),\n",
       "                                                     ('won',\n",
       "                                                      AutoOrderedDict([('total',\n",
       "                                                                        0),\n",
       "                                                                       ('average',\n",
       "                                                                        0.0),\n",
       "                                                                       ('max',\n",
       "                                                                        0),\n",
       "                                                                       ('min',\n",
       "                                                                        9223372036854775807)])),\n",
       "                                                     ('lost',\n",
       "                                                      AutoOrderedDict([('total',\n",
       "                                                                        0),\n",
       "                                                                       ('average',\n",
       "                                                                        0.0),\n",
       "                                                                       ('max',\n",
       "                                                                        0),\n",
       "                                                                       ('min',\n",
       "                                                                        9223372036854775807)]))]))]))])"
      ]
     },
     "execution_count": 584,
     "metadata": {},
     "output_type": "execute_result"
    }
   ],
   "source": [
    "tradeanalysis_dict_list[0]"
   ]
  },
  {
   "cell_type": "code",
   "execution_count": 585,
   "metadata": {},
   "outputs": [],
   "source": [
    "win_total=0\n",
    "total_won_pnl=0\n",
    "avg_won=0\n",
    "\n",
    "lost_total=0\n",
    "total_lost_pnl=0\n",
    "avg_lost=0\n",
    "\n",
    "total_pnl=0\n",
    "total_avg=0\n",
    "\n",
    "for i in range(len(df_list[0])):\n",
    "    try:\n",
    "        win_total=win_total+tradeanalysis_dict_list[i]['won']['total']\n",
    "        total_won_pnl=total_won_pnl+tradeanalysis_dict_list[i]['won']['pnl']['total']\n",
    "        avg_won=avg_won+tradeanalysis_dict_list[i]['won']['pnl']['average']\n",
    "\n",
    "        lost_total=lost_total+tradeanalysis_dict_list[i]['lost']['total']\n",
    "        total_lost_pnl=total_lost_pnl+tradeanalysis_dict_list[i]['lost']['pnl']['total']\n",
    "        avg_lost=avg_lost+tradeanalysis_dict_list[i]['lost']['pnl']['average']\n",
    "\n",
    "        total_pnl=total_pnl+tradeanalysis_dict_list[i]['pnl']['gross']['total']\n",
    "        total_avg=total_avg+tradeanalysis_dict_list[i]['pnl']['gross']['average']\n",
    "    except:\n",
    "        pass\n"
   ]
  },
  {
   "cell_type": "code",
   "execution_count": 586,
   "metadata": {},
   "outputs": [
    {
     "data": {
      "text/plain": [
       "(2166, 18632.80799999998, 4564.912320024417)"
      ]
     },
     "execution_count": 586,
     "metadata": {},
     "output_type": "execute_result"
    }
   ],
   "source": [
    "win_total , total_won_pnl , avg_won "
   ]
  },
  {
   "cell_type": "code",
   "execution_count": 587,
   "metadata": {},
   "outputs": [
    {
     "data": {
      "text/plain": [
       "(1389, -14306.824000000011, -5138.35652857143)"
      ]
     },
     "execution_count": 587,
     "metadata": {},
     "output_type": "execute_result"
    }
   ],
   "source": [
    "lost_total , total_lost_pnl , avg_lost"
   ]
  },
  {
   "cell_type": "code",
   "execution_count": 588,
   "metadata": {
    "scrolled": true
   },
   "outputs": [
    {
     "data": {
      "text/plain": [
       "(4325.983999999996, 514.3876690698181)"
      ]
     },
     "execution_count": 588,
     "metadata": {},
     "output_type": "execute_result"
    }
   ],
   "source": [
    "total_pnl , total_avg"
   ]
  },
  {
   "cell_type": "code",
   "execution_count": 589,
   "metadata": {},
   "outputs": [
    {
     "data": {
      "text/plain": [
       "0.6092827004219409"
      ]
     },
     "execution_count": 589,
     "metadata": {},
     "output_type": "execute_result"
    }
   ],
   "source": [
    "win_total/(win_total+lost_total)"
   ]
  },
  {
   "cell_type": "code",
   "execution_count": 590,
   "metadata": {},
   "outputs": [
    {
     "data": {
      "text/plain": [
       "0.7569547001356433"
      ]
     },
     "execution_count": 590,
     "metadata": {},
     "output_type": "execute_result"
    }
   ],
   "source": [
    "total_pnl/(total_pnl+lost_total)"
   ]
  },
  {
   "cell_type": "code",
   "execution_count": 591,
   "metadata": {},
   "outputs": [
    {
     "data": {
      "text/plain": [
       "0.8883992955026725"
      ]
     },
     "execution_count": 591,
     "metadata": {},
     "output_type": "execute_result"
    }
   ],
   "source": [
    "avg_won/(-avg_lost)"
   ]
  },
  {
   "cell_type": "code",
   "execution_count": 592,
   "metadata": {},
   "outputs": [],
   "source": [
    "# print the SQN analyzers  SystemQualityNumber\n",
    "#test[0] is the first strategy used. For multiple strategies, use corresponding number in the list.\n",
    "#SQN_dict=test[0].analyzers.sqn.get_analysis() \n",
    "#tradeanalysis_dict=test[0].analyzers.ta.get_analysis()\n",
    "#ret_dict=test[0].analyzers.ret.get_analysis()\n",
    "#trans_dict=test[0].analyzers.trans.get_analysis()\n"
   ]
  },
  {
   "cell_type": "code",
   "execution_count": 593,
   "metadata": {
    "scrolled": true
   },
   "outputs": [
    {
     "data": {
      "text/plain": [
       "OrderedDict([(datetime.datetime(2010, 4, 12, 17, 19),\n",
       "              [[20, 25.5, 0, '2010-04-12', -510.0]]),\n",
       "             (datetime.datetime(2010, 4, 12, 18, 55),\n",
       "              [[-20, 25.33, 0, '2010-04-12', 506.59999999999997]]),\n",
       "             (datetime.datetime(2010, 4, 13, 13, 47),\n",
       "              [[20, 25.38, 0, '2010-04-12', -507.59999999999997]]),\n",
       "             (datetime.datetime(2010, 4, 14, 15, 18),\n",
       "              [[-20, 25.46, 0, '2010-04-12', 509.20000000000005]]),\n",
       "             (datetime.datetime(2010, 4, 14, 17, 44),\n",
       "              [[20, 25.751, 0, '2010-04-12', -515.02]]),\n",
       "             (datetime.datetime(2010, 4, 14, 18, 35),\n",
       "              [[-20, 25.97, 0, '2010-04-12', 519.4]]),\n",
       "             (datetime.datetime(2010, 4, 15, 19, 52),\n",
       "              [[20, 26.24, 0, '2010-04-12', -524.8]]),\n",
       "             (datetime.datetime(2010, 4, 16, 18, 18),\n",
       "              [[-20, 24.95, 0, '2010-04-12', 499.0]]),\n",
       "             (datetime.datetime(2010, 4, 19, 18, 16),\n",
       "              [[20, 24.48, 0, '2010-04-12', -489.6]]),\n",
       "             (datetime.datetime(2010, 4, 20, 14, 42),\n",
       "              [[-20, 24.49, 0, '2010-04-12', 489.79999999999995]]),\n",
       "             (datetime.datetime(2010, 4, 21, 18, 22),\n",
       "              [[20, 24.48, 0, '2010-04-12', -489.6]]),\n",
       "             (datetime.datetime(2010, 4, 21, 18, 42),\n",
       "              [[-20, 24.54, 0, '2010-04-12', 490.79999999999995]]),\n",
       "             (datetime.datetime(2010, 4, 22, 13, 35),\n",
       "              [[20, 24.29, 0, '2010-04-12', -485.79999999999995]]),\n",
       "             (datetime.datetime(2010, 4, 22, 15, 41),\n",
       "              [[-20, 24.875, 0, '2010-04-12', 497.5]]),\n",
       "             (datetime.datetime(2010, 4, 23, 15, 58),\n",
       "              [[20, 24.7, 0, '2010-04-12', -494.0]]),\n",
       "             (datetime.datetime(2010, 4, 23, 16, 47),\n",
       "              [[-20, 24.76, 0, '2010-04-12', 495.20000000000005]]),\n",
       "             (datetime.datetime(2010, 4, 23, 18, 30),\n",
       "              [[20, 24.71, 0, '2010-04-12', -494.20000000000005]]),\n",
       "             (datetime.datetime(2010, 4, 26, 18, 17),\n",
       "              [[-20, 24.74, 0, '2010-04-12', 494.79999999999995]]),\n",
       "             (datetime.datetime(2010, 4, 26, 19, 59),\n",
       "              [[20, 24.52, 0, '2010-04-12', -490.4]])])"
      ]
     },
     "execution_count": 593,
     "metadata": {},
     "output_type": "execute_result"
    }
   ],
   "source": [
    "trans_dict"
   ]
  },
  {
   "cell_type": "code",
   "execution_count": 594,
   "metadata": {},
   "outputs": [
    {
     "data": {
      "text/plain": [
       "19"
      ]
     },
     "execution_count": 594,
     "metadata": {},
     "output_type": "execute_result"
    }
   ],
   "source": [
    "len(trans_dict)"
   ]
  },
  {
   "cell_type": "code",
   "execution_count": null,
   "metadata": {},
   "outputs": [],
   "source": []
  },
  {
   "cell_type": "code",
   "execution_count": null,
   "metadata": {},
   "outputs": [],
   "source": []
  },
  {
   "cell_type": "code",
   "execution_count": null,
   "metadata": {},
   "outputs": [],
   "source": []
  },
  {
   "cell_type": "code",
   "execution_count": null,
   "metadata": {},
   "outputs": [],
   "source": []
  }
 ],
 "metadata": {
  "kernelspec": {
   "display_name": "Python 3",
   "language": "python",
   "name": "python3"
  },
  "language_info": {
   "codemirror_mode": {
    "name": "ipython",
    "version": 3
   },
   "file_extension": ".py",
   "mimetype": "text/x-python",
   "name": "python",
   "nbconvert_exporter": "python",
   "pygments_lexer": "ipython3",
   "version": "3.6.5"
  }
 },
 "nbformat": 4,
 "nbformat_minor": 4
}
