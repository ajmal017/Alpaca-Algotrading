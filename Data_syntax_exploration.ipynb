{
 "cells": [
  {
   "cell_type": "code",
   "execution_count": 2,
   "metadata": {},
   "outputs": [],
   "source": [
    "import backtrader as bt\n",
    "import alpaca_backtrader_api as api\n",
    "import alpaca_trade_api as tradeapi\n",
    "\n",
    "\n",
    "from config import key_id, secret_key"
   ]
  },
  {
   "cell_type": "code",
   "execution_count": 13,
   "metadata": {},
   "outputs": [],
   "source": [
    "#trading data is called in the form of JSON\n",
    "#https://api.polygon.io/v2/aggs/ticker/AAPL/range/1/day/2019-01-01/2019-02-01?apiKey=\n",
    "\n",
    "\n",
    "api = tradeapi.REST(key_id, secret_key)\n",
    "#turn into dataframe form\n",
    "aapl = api.polygon.historic_agg_v2('AAPL', 1, 'minute', _from='2006-01-01', to='2019-02-01').df\n",
    "#error 500 is api server down"
   ]
  },
  {
   "cell_type": "code",
   "execution_count": 14,
   "metadata": {
    "scrolled": true
   },
   "outputs": [
    {
     "data": {
      "text/html": [
       "<div>\n",
       "<style scoped>\n",
       "    .dataframe tbody tr th:only-of-type {\n",
       "        vertical-align: middle;\n",
       "    }\n",
       "\n",
       "    .dataframe tbody tr th {\n",
       "        vertical-align: top;\n",
       "    }\n",
       "\n",
       "    .dataframe thead th {\n",
       "        text-align: right;\n",
       "    }\n",
       "</style>\n",
       "<table border=\"1\" class=\"dataframe\">\n",
       "  <thead>\n",
       "    <tr style=\"text-align: right;\">\n",
       "      <th></th>\n",
       "      <th>open</th>\n",
       "      <th>high</th>\n",
       "      <th>low</th>\n",
       "      <th>close</th>\n",
       "      <th>volume</th>\n",
       "    </tr>\n",
       "    <tr>\n",
       "      <th>timestamp</th>\n",
       "      <th></th>\n",
       "      <th></th>\n",
       "      <th></th>\n",
       "      <th></th>\n",
       "      <th></th>\n",
       "    </tr>\n",
       "  </thead>\n",
       "  <tbody>\n",
       "    <tr>\n",
       "      <th>2006-01-03 06:37:00-05:00</th>\n",
       "      <td>10.3357</td>\n",
       "      <td>10.3357</td>\n",
       "      <td>10.3357</td>\n",
       "      <td>10.3357</td>\n",
       "      <td>700.0</td>\n",
       "    </tr>\n",
       "    <tr>\n",
       "      <th>2006-01-03 07:14:00-05:00</th>\n",
       "      <td>10.3543</td>\n",
       "      <td>10.3543</td>\n",
       "      <td>10.3543</td>\n",
       "      <td>10.3543</td>\n",
       "      <td>700.0</td>\n",
       "    </tr>\n",
       "    <tr>\n",
       "      <th>2006-01-03 07:15:00-05:00</th>\n",
       "      <td>10.3586</td>\n",
       "      <td>10.3586</td>\n",
       "      <td>10.3586</td>\n",
       "      <td>10.3586</td>\n",
       "      <td>2100.0</td>\n",
       "    </tr>\n",
       "    <tr>\n",
       "      <th>2006-01-03 07:16:00-05:00</th>\n",
       "      <td>10.3586</td>\n",
       "      <td>10.3586</td>\n",
       "      <td>10.3586</td>\n",
       "      <td>10.3586</td>\n",
       "      <td>2100.0</td>\n",
       "    </tr>\n",
       "    <tr>\n",
       "      <th>2006-01-03 07:18:00-05:00</th>\n",
       "      <td>10.3586</td>\n",
       "      <td>10.3586</td>\n",
       "      <td>10.3586</td>\n",
       "      <td>10.3586</td>\n",
       "      <td>700.0</td>\n",
       "    </tr>\n",
       "    <tr>\n",
       "      <th>...</th>\n",
       "      <td>...</td>\n",
       "      <td>...</td>\n",
       "      <td>...</td>\n",
       "      <td>...</td>\n",
       "      <td>...</td>\n",
       "    </tr>\n",
       "    <tr>\n",
       "      <th>2006-01-13 16:47:00-05:00</th>\n",
       "      <td>12.2443</td>\n",
       "      <td>12.2443</td>\n",
       "      <td>12.2443</td>\n",
       "      <td>12.2443</td>\n",
       "      <td>1974.0</td>\n",
       "    </tr>\n",
       "    <tr>\n",
       "      <th>2006-01-13 16:49:00-05:00</th>\n",
       "      <td>12.2443</td>\n",
       "      <td>12.2443</td>\n",
       "      <td>12.2443</td>\n",
       "      <td>12.2443</td>\n",
       "      <td>2450.0</td>\n",
       "    </tr>\n",
       "    <tr>\n",
       "      <th>2006-01-13 16:50:00-05:00</th>\n",
       "      <td>12.2443</td>\n",
       "      <td>12.2443</td>\n",
       "      <td>12.2443</td>\n",
       "      <td>12.2443</td>\n",
       "      <td>3500.0</td>\n",
       "    </tr>\n",
       "    <tr>\n",
       "      <th>2006-01-13 16:51:00-05:00</th>\n",
       "      <td>12.2443</td>\n",
       "      <td>12.2486</td>\n",
       "      <td>12.2443</td>\n",
       "      <td>12.2443</td>\n",
       "      <td>19978.0</td>\n",
       "    </tr>\n",
       "    <tr>\n",
       "      <th>2006-01-13 16:52:00-05:00</th>\n",
       "      <td>12.2443</td>\n",
       "      <td>12.2500</td>\n",
       "      <td>12.2357</td>\n",
       "      <td>12.2357</td>\n",
       "      <td>27230.0</td>\n",
       "    </tr>\n",
       "  </tbody>\n",
       "</table>\n",
       "<p>5000 rows × 5 columns</p>\n",
       "</div>"
      ],
      "text/plain": [
       "                              open     high      low    close   volume\n",
       "timestamp                                                             \n",
       "2006-01-03 06:37:00-05:00  10.3357  10.3357  10.3357  10.3357    700.0\n",
       "2006-01-03 07:14:00-05:00  10.3543  10.3543  10.3543  10.3543    700.0\n",
       "2006-01-03 07:15:00-05:00  10.3586  10.3586  10.3586  10.3586   2100.0\n",
       "2006-01-03 07:16:00-05:00  10.3586  10.3586  10.3586  10.3586   2100.0\n",
       "2006-01-03 07:18:00-05:00  10.3586  10.3586  10.3586  10.3586    700.0\n",
       "...                            ...      ...      ...      ...      ...\n",
       "2006-01-13 16:47:00-05:00  12.2443  12.2443  12.2443  12.2443   1974.0\n",
       "2006-01-13 16:49:00-05:00  12.2443  12.2443  12.2443  12.2443   2450.0\n",
       "2006-01-13 16:50:00-05:00  12.2443  12.2443  12.2443  12.2443   3500.0\n",
       "2006-01-13 16:51:00-05:00  12.2443  12.2486  12.2443  12.2443  19978.0\n",
       "2006-01-13 16:52:00-05:00  12.2443  12.2500  12.2357  12.2357  27230.0\n",
       "\n",
       "[5000 rows x 5 columns]"
      ]
     },
     "execution_count": 14,
     "metadata": {},
     "output_type": "execute_result"
    }
   ],
   "source": [
    "aapl"
   ]
  },
  {
   "cell_type": "code",
   "execution_count": 25,
   "metadata": {},
   "outputs": [
    {
     "name": "stdout",
     "output_type": "stream",
     "text": [
      "AAPL moved -0.0077611819633364495% over the last 5 days\n"
     ]
    }
   ],
   "source": [
    "# Get daily price data for AAPL over the last 5 trading days.\n",
    "barset = api.get_barset('AAPL', 'day', limit=5)\n",
    "aapl_bars = barset['AAPL']\n",
    "\n",
    "# See how much AAPL moved in that timeframe.\n",
    "week_open = aapl_bars[0].o\n",
    "week_close = aapl_bars[-1].c\n",
    "percent_change = (week_close - week_open) / week_open\n",
    "print('AAPL moved {}% over the last 5 days'.format(percent_change))"
   ]
  },
  {
   "cell_type": "markdown",
   "metadata": {},
   "source": [
    "# How to get a particular variable from the asset type data "
   ]
  },
  {
   "cell_type": "code",
   "execution_count": 26,
   "metadata": {
    "scrolled": true
   },
   "outputs": [
    {
     "data": {
      "text/plain": [
       "Asset({   'class': 'us_equity',\n",
       "    'easy_to_borrow': True,\n",
       "    'exchange': 'NYSE',\n",
       "    'id': '0d7b78ef-b2dc-428f-b869-f8dab348cd5f',\n",
       "    'marginable': True,\n",
       "    'name': 'Commercial Metals Company',\n",
       "    'shortable': True,\n",
       "    'status': 'active',\n",
       "    'symbol': 'CMC',\n",
       "    'tradable': True})"
      ]
     },
     "execution_count": 26,
     "metadata": {},
     "output_type": "execute_result"
    }
   ],
   "source": [
    "asset=api.list_assets(status='active')[1]\n",
    "asset"
   ]
  },
  {
   "cell_type": "code",
   "execution_count": 27,
   "metadata": {},
   "outputs": [
    {
     "data": {
      "text/plain": [
       "(True, '0d7b78ef-b2dc-428f-b869-f8dab348cd5f')"
      ]
     },
     "execution_count": 27,
     "metadata": {},
     "output_type": "execute_result"
    }
   ],
   "source": [
    "asset.tradable , asset.id"
   ]
  },
  {
   "cell_type": "markdown",
   "metadata": {},
   "source": [
    "# Get data of stock"
   ]
  },
  {
   "cell_type": "markdown",
   "metadata": {},
   "source": [
    "# tradeapi.REST.get_barset(symbols, timeframe, limit, start=None, end=None, after=None, until=None)\n",
    "\n",
    "Calls GET /bars/{timeframe} for the given symbols, and returns a Barset with limit Bar objects for each of the the requested symbols. timeframe can be one of minute, 1Min, 5Min, 15Min, day or 1D. minute is an alias of 1Min. Similarly, day is an alias of 1D. start, end, after, and until need to be string format, which you can obtain with pd.Timestamp().isoformat() after cannot be used with start and until cannot be used with end."
   ]
  },
  {
   "cell_type": "code",
   "execution_count": 28,
   "metadata": {},
   "outputs": [
    {
     "data": {
      "text/html": [
       "<div>\n",
       "<style scoped>\n",
       "    .dataframe tbody tr th:only-of-type {\n",
       "        vertical-align: middle;\n",
       "    }\n",
       "\n",
       "    .dataframe tbody tr th {\n",
       "        vertical-align: top;\n",
       "    }\n",
       "\n",
       "    .dataframe thead tr th {\n",
       "        text-align: left;\n",
       "    }\n",
       "</style>\n",
       "<table border=\"1\" class=\"dataframe\">\n",
       "  <thead>\n",
       "    <tr>\n",
       "      <th></th>\n",
       "      <th colspan=\"5\" halign=\"left\">INTC</th>\n",
       "      <th colspan=\"5\" halign=\"left\">MSFT</th>\n",
       "    </tr>\n",
       "    <tr>\n",
       "      <th></th>\n",
       "      <th>open</th>\n",
       "      <th>high</th>\n",
       "      <th>low</th>\n",
       "      <th>close</th>\n",
       "      <th>volume</th>\n",
       "      <th>open</th>\n",
       "      <th>high</th>\n",
       "      <th>low</th>\n",
       "      <th>close</th>\n",
       "      <th>volume</th>\n",
       "    </tr>\n",
       "  </thead>\n",
       "  <tbody>\n",
       "    <tr>\n",
       "      <th>2020-01-30 12:45:00-05:00</th>\n",
       "      <td>NaN</td>\n",
       "      <td>NaN</td>\n",
       "      <td>NaN</td>\n",
       "      <td>NaN</td>\n",
       "      <td>NaN</td>\n",
       "      <td>171.245</td>\n",
       "      <td>171.360</td>\n",
       "      <td>171.245</td>\n",
       "      <td>171.360</td>\n",
       "      <td>2765.0</td>\n",
       "    </tr>\n",
       "    <tr>\n",
       "      <th>2020-01-30 13:00:00-05:00</th>\n",
       "      <td>65.415</td>\n",
       "      <td>65.505</td>\n",
       "      <td>65.375</td>\n",
       "      <td>65.445</td>\n",
       "      <td>15362.0</td>\n",
       "      <td>171.405</td>\n",
       "      <td>171.660</td>\n",
       "      <td>171.285</td>\n",
       "      <td>171.420</td>\n",
       "      <td>38891.0</td>\n",
       "    </tr>\n",
       "    <tr>\n",
       "      <th>2020-01-30 13:15:00-05:00</th>\n",
       "      <td>65.455</td>\n",
       "      <td>65.560</td>\n",
       "      <td>65.340</td>\n",
       "      <td>65.560</td>\n",
       "      <td>14862.0</td>\n",
       "      <td>171.425</td>\n",
       "      <td>171.675</td>\n",
       "      <td>171.095</td>\n",
       "      <td>171.380</td>\n",
       "      <td>41107.0</td>\n",
       "    </tr>\n",
       "    <tr>\n",
       "      <th>2020-01-30 13:30:00-05:00</th>\n",
       "      <td>65.550</td>\n",
       "      <td>65.610</td>\n",
       "      <td>65.470</td>\n",
       "      <td>65.505</td>\n",
       "      <td>7593.0</td>\n",
       "      <td>171.400</td>\n",
       "      <td>171.420</td>\n",
       "      <td>170.960</td>\n",
       "      <td>171.120</td>\n",
       "      <td>61896.0</td>\n",
       "    </tr>\n",
       "    <tr>\n",
       "      <th>2020-01-30 13:45:00-05:00</th>\n",
       "      <td>65.530</td>\n",
       "      <td>65.545</td>\n",
       "      <td>65.530</td>\n",
       "      <td>65.545</td>\n",
       "      <td>639.0</td>\n",
       "      <td>171.170</td>\n",
       "      <td>171.275</td>\n",
       "      <td>171.150</td>\n",
       "      <td>171.275</td>\n",
       "      <td>6541.0</td>\n",
       "    </tr>\n",
       "    <tr>\n",
       "      <th>...</th>\n",
       "      <td>...</td>\n",
       "      <td>...</td>\n",
       "      <td>...</td>\n",
       "      <td>...</td>\n",
       "      <td>...</td>\n",
       "      <td>...</td>\n",
       "      <td>...</td>\n",
       "      <td>...</td>\n",
       "      <td>...</td>\n",
       "      <td>...</td>\n",
       "    </tr>\n",
       "    <tr>\n",
       "      <th>2020-03-25 14:45:00-04:00</th>\n",
       "      <td>53.075</td>\n",
       "      <td>53.110</td>\n",
       "      <td>53.030</td>\n",
       "      <td>53.060</td>\n",
       "      <td>1224.0</td>\n",
       "      <td>152.010</td>\n",
       "      <td>152.080</td>\n",
       "      <td>151.840</td>\n",
       "      <td>151.920</td>\n",
       "      <td>659.0</td>\n",
       "    </tr>\n",
       "    <tr>\n",
       "      <th>2020-03-25 15:00:00-04:00</th>\n",
       "      <td>53.065</td>\n",
       "      <td>53.255</td>\n",
       "      <td>52.720</td>\n",
       "      <td>52.905</td>\n",
       "      <td>28652.0</td>\n",
       "      <td>151.900</td>\n",
       "      <td>152.610</td>\n",
       "      <td>151.590</td>\n",
       "      <td>152.170</td>\n",
       "      <td>9233.0</td>\n",
       "    </tr>\n",
       "    <tr>\n",
       "      <th>2020-03-25 15:15:00-04:00</th>\n",
       "      <td>53.035</td>\n",
       "      <td>53.280</td>\n",
       "      <td>52.555</td>\n",
       "      <td>52.685</td>\n",
       "      <td>32728.0</td>\n",
       "      <td>152.100</td>\n",
       "      <td>153.145</td>\n",
       "      <td>151.870</td>\n",
       "      <td>151.985</td>\n",
       "      <td>29534.0</td>\n",
       "    </tr>\n",
       "    <tr>\n",
       "      <th>2020-03-25 15:30:00-04:00</th>\n",
       "      <td>52.685</td>\n",
       "      <td>53.400</td>\n",
       "      <td>52.485</td>\n",
       "      <td>52.560</td>\n",
       "      <td>41240.0</td>\n",
       "      <td>152.105</td>\n",
       "      <td>152.765</td>\n",
       "      <td>149.880</td>\n",
       "      <td>150.260</td>\n",
       "      <td>56402.0</td>\n",
       "    </tr>\n",
       "    <tr>\n",
       "      <th>2020-03-25 15:45:00-04:00</th>\n",
       "      <td>52.515</td>\n",
       "      <td>52.555</td>\n",
       "      <td>50.830</td>\n",
       "      <td>51.270</td>\n",
       "      <td>134227.0</td>\n",
       "      <td>149.985</td>\n",
       "      <td>150.040</td>\n",
       "      <td>146.010</td>\n",
       "      <td>146.920</td>\n",
       "      <td>156797.0</td>\n",
       "    </tr>\n",
       "  </tbody>\n",
       "</table>\n",
       "<p>1001 rows × 10 columns</p>\n",
       "</div>"
      ],
      "text/plain": [
       "                             INTC                                       MSFT  \\\n",
       "                             open    high     low   close    volume     open   \n",
       "2020-01-30 12:45:00-05:00     NaN     NaN     NaN     NaN       NaN  171.245   \n",
       "2020-01-30 13:00:00-05:00  65.415  65.505  65.375  65.445   15362.0  171.405   \n",
       "2020-01-30 13:15:00-05:00  65.455  65.560  65.340  65.560   14862.0  171.425   \n",
       "2020-01-30 13:30:00-05:00  65.550  65.610  65.470  65.505    7593.0  171.400   \n",
       "2020-01-30 13:45:00-05:00  65.530  65.545  65.530  65.545     639.0  171.170   \n",
       "...                           ...     ...     ...     ...       ...      ...   \n",
       "2020-03-25 14:45:00-04:00  53.075  53.110  53.030  53.060    1224.0  152.010   \n",
       "2020-03-25 15:00:00-04:00  53.065  53.255  52.720  52.905   28652.0  151.900   \n",
       "2020-03-25 15:15:00-04:00  53.035  53.280  52.555  52.685   32728.0  152.100   \n",
       "2020-03-25 15:30:00-04:00  52.685  53.400  52.485  52.560   41240.0  152.105   \n",
       "2020-03-25 15:45:00-04:00  52.515  52.555  50.830  51.270  134227.0  149.985   \n",
       "\n",
       "                                                                \n",
       "                              high      low    close    volume  \n",
       "2020-01-30 12:45:00-05:00  171.360  171.245  171.360    2765.0  \n",
       "2020-01-30 13:00:00-05:00  171.660  171.285  171.420   38891.0  \n",
       "2020-01-30 13:15:00-05:00  171.675  171.095  171.380   41107.0  \n",
       "2020-01-30 13:30:00-05:00  171.420  170.960  171.120   61896.0  \n",
       "2020-01-30 13:45:00-05:00  171.275  171.150  171.275    6541.0  \n",
       "...                            ...      ...      ...       ...  \n",
       "2020-03-25 14:45:00-04:00  152.080  151.840  151.920     659.0  \n",
       "2020-03-25 15:00:00-04:00  152.610  151.590  152.170    9233.0  \n",
       "2020-03-25 15:15:00-04:00  153.145  151.870  151.985   29534.0  \n",
       "2020-03-25 15:30:00-04:00  152.765  149.880  150.260   56402.0  \n",
       "2020-03-25 15:45:00-04:00  150.040  146.010  146.920  156797.0  \n",
       "\n",
       "[1001 rows x 10 columns]"
      ]
     },
     "execution_count": 28,
     "metadata": {},
     "output_type": "execute_result"
    }
   ],
   "source": [
    "\n",
    "data=api.get_barset(symbols = (\"INTC\",\"MSFT\"), start = \"2019-04-21\", end = \"2020-01-01\", timeframe = \"15Min\", limit=1000)\n",
    "data.df"
   ]
  },
  {
   "cell_type": "markdown",
   "metadata": {},
   "source": [
    "#### Dropping a multindex to get a particular stock"
   ]
  },
  {
   "cell_type": "code",
   "execution_count": 29,
   "metadata": {},
   "outputs": [
    {
     "data": {
      "text/html": [
       "<div>\n",
       "<style scoped>\n",
       "    .dataframe tbody tr th:only-of-type {\n",
       "        vertical-align: middle;\n",
       "    }\n",
       "\n",
       "    .dataframe tbody tr th {\n",
       "        vertical-align: top;\n",
       "    }\n",
       "\n",
       "    .dataframe thead tr th {\n",
       "        text-align: left;\n",
       "    }\n",
       "</style>\n",
       "<table border=\"1\" class=\"dataframe\">\n",
       "  <thead>\n",
       "    <tr>\n",
       "      <th></th>\n",
       "      <th colspan=\"5\" halign=\"left\">WFC</th>\n",
       "      <th>date</th>\n",
       "    </tr>\n",
       "    <tr>\n",
       "      <th></th>\n",
       "      <th>open</th>\n",
       "      <th>high</th>\n",
       "      <th>low</th>\n",
       "      <th>close</th>\n",
       "      <th>volume</th>\n",
       "      <th></th>\n",
       "    </tr>\n",
       "  </thead>\n",
       "  <tbody>\n",
       "    <tr>\n",
       "      <th>2020-02-27 14:15:00-05:00</th>\n",
       "      <td>43.485</td>\n",
       "      <td>43.550</td>\n",
       "      <td>43.245</td>\n",
       "      <td>43.525</td>\n",
       "      <td>40468</td>\n",
       "      <td>2020-02-27 14:15:00-05:00</td>\n",
       "    </tr>\n",
       "    <tr>\n",
       "      <th>2020-02-27 14:30:00-05:00</th>\n",
       "      <td>43.490</td>\n",
       "      <td>43.515</td>\n",
       "      <td>43.355</td>\n",
       "      <td>43.480</td>\n",
       "      <td>31631</td>\n",
       "      <td>2020-02-27 14:30:00-05:00</td>\n",
       "    </tr>\n",
       "    <tr>\n",
       "      <th>2020-02-27 14:45:00-05:00</th>\n",
       "      <td>43.250</td>\n",
       "      <td>43.275</td>\n",
       "      <td>43.250</td>\n",
       "      <td>43.260</td>\n",
       "      <td>900</td>\n",
       "      <td>2020-02-27 14:45:00-05:00</td>\n",
       "    </tr>\n",
       "    <tr>\n",
       "      <th>2020-02-27 15:00:00-05:00</th>\n",
       "      <td>43.270</td>\n",
       "      <td>43.385</td>\n",
       "      <td>43.105</td>\n",
       "      <td>43.295</td>\n",
       "      <td>28679</td>\n",
       "      <td>2020-02-27 15:00:00-05:00</td>\n",
       "    </tr>\n",
       "    <tr>\n",
       "      <th>2020-02-27 15:15:00-05:00</th>\n",
       "      <td>43.270</td>\n",
       "      <td>43.310</td>\n",
       "      <td>42.980</td>\n",
       "      <td>42.980</td>\n",
       "      <td>36863</td>\n",
       "      <td>2020-02-27 15:15:00-05:00</td>\n",
       "    </tr>\n",
       "  </tbody>\n",
       "</table>\n",
       "</div>"
      ],
      "text/plain": [
       "                              WFC                                 \\\n",
       "                             open    high     low   close volume   \n",
       "2020-02-27 14:15:00-05:00  43.485  43.550  43.245  43.525  40468   \n",
       "2020-02-27 14:30:00-05:00  43.490  43.515  43.355  43.480  31631   \n",
       "2020-02-27 14:45:00-05:00  43.250  43.275  43.250  43.260    900   \n",
       "2020-02-27 15:00:00-05:00  43.270  43.385  43.105  43.295  28679   \n",
       "2020-02-27 15:15:00-05:00  43.270  43.310  42.980  42.980  36863   \n",
       "\n",
       "                                               date  \n",
       "                                                     \n",
       "2020-02-27 14:15:00-05:00 2020-02-27 14:15:00-05:00  \n",
       "2020-02-27 14:30:00-05:00 2020-02-27 14:30:00-05:00  \n",
       "2020-02-27 14:45:00-05:00 2020-02-27 14:45:00-05:00  \n",
       "2020-02-27 15:00:00-05:00 2020-02-27 15:00:00-05:00  \n",
       "2020-02-27 15:15:00-05:00 2020-02-27 15:15:00-05:00  "
      ]
     },
     "execution_count": 29,
     "metadata": {},
     "output_type": "execute_result"
    }
   ],
   "source": [
    "df=api.get_barset('WFC', '15Min', limit=500).df\n",
    "\n",
    "#add timestamp column to get line charts\n",
    "df['date'] = df.index \n",
    "df.head()"
   ]
  },
  {
   "cell_type": "code",
   "execution_count": 30,
   "metadata": {},
   "outputs": [
    {
     "name": "stderr",
     "output_type": "stream",
     "text": [
      "C:\\Users\\Jeffrey Wang\\Anaconda3\\lib\\site-packages\\pandas\\core\\generic.py:3936: PerformanceWarning:\n",
      "\n",
      "dropping on a non-lexsorted multi-index without a level parameter may impact performance.\n",
      "\n"
     ]
    },
    {
     "data": {
      "text/html": [
       "\n",
       "        <iframe\n",
       "            width=\"100%\"\n",
       "            height=\"475\"\n",
       "            src=\"http://DESKTOP-ANH9TVB:40000/dtale/iframe/3\"\n",
       "            frameborder=\"0\"\n",
       "            allowfullscreen\n",
       "        ></iframe>\n",
       "        "
      ],
      "text/plain": [
       "<IPython.lib.display.IFrame at 0x2782fac2b38>"
      ]
     },
     "metadata": {},
     "output_type": "display_data"
    },
    {
     "data": {
      "text/plain": []
     },
     "execution_count": 30,
     "metadata": {},
     "output_type": "execute_result"
    },
    {
     "name": "stdout",
     "output_type": "stream",
     "text": [
      "Executing shutdown due to inactivity...\n"
     ]
    },
    {
     "name": "stderr",
     "output_type": "stream",
     "text": [
      "2020-03-25 21:18:45,481 - INFO     - Executing shutdown due to inactivity...\n"
     ]
    },
    {
     "name": "stdout",
     "output_type": "stream",
     "text": [
      "Executing shutdown...\n"
     ]
    },
    {
     "name": "stderr",
     "output_type": "stream",
     "text": [
      "2020-03-25 21:18:49,492 - INFO     - Executing shutdown...\n"
     ]
    }
   ],
   "source": [
    "#dtale is for previewing and graphing without coding internally\n",
    "import dtale\n",
    "\n",
    "\n",
    "dtale.show(df, ignore_duplicate=True)"
   ]
  },
  {
   "cell_type": "code",
   "execution_count": null,
   "metadata": {},
   "outputs": [],
   "source": []
  },
  {
   "cell_type": "code",
   "execution_count": null,
   "metadata": {},
   "outputs": [],
   "source": []
  }
 ],
 "metadata": {
  "kernelspec": {
   "display_name": "Python 3",
   "language": "python",
   "name": "python3"
  },
  "language_info": {
   "codemirror_mode": {
    "name": "ipython",
    "version": 3
   },
   "file_extension": ".py",
   "mimetype": "text/x-python",
   "name": "python",
   "nbconvert_exporter": "python",
   "pygments_lexer": "ipython3",
   "version": "3.7.3"
  }
 },
 "nbformat": 4,
 "nbformat_minor": 4
}
