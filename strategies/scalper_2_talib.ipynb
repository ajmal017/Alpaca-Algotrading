{
 "cells": [
  {
   "cell_type": "code",
   "execution_count": 18,
   "metadata": {},
   "outputs": [],
   "source": [
    "#based on https://github.com/freqtrade/freqtrade-strategies/blob/master/user_data/strategies/berlinguyinca/Scalp.py\n",
    "from typing import Dict, List\n",
    "from functools import reduce\n",
    "from pandas import DataFrame\n",
    "# --------------------------------\n",
    "import talib.abstract as tab\n",
    "from typing import Dict, List\n",
    "from functools import reduce\n",
    "from pandas import DataFrame, DatetimeIndex, merge\n",
    "# --------------------------------\n",
    "import talib as ta\n",
    "import numpy  # noqa\n",
    "\n",
    "#to insert config folder\n",
    "import sys\n",
    "sys.path.insert(0, '../')"
   ]
  },
  {
   "cell_type": "code",
   "execution_count": 20,
   "metadata": {},
   "outputs": [],
   "source": [
    "class Scalp(bt.Strategy):\n",
    "    \"\"\"\n",
    "        this strategy is based around the idea of generating a lot of potential buys and make tiny profits on each trade\n",
    "        we recommend to have at least 60 parallel trades at any time to cover non avoidable losses.\n",
    "        Recommended is to only sell based on ROI for this strategy\n",
    "    \"\"\" \n",
    "#populate a dataframe with indicators\n",
    "    def populateindicators(dataframe) -> DataFrame:\n",
    "        dataframe['ema_high'] = tab.EMA(dataframe, timeperiod=5, price='high')\n",
    "        dataframe['ema_close'] = tab.EMA(dataframe, timeperiod=5, price='close')\n",
    "        dataframe['ema_low'] = tab.EMA(dataframe, timeperiod=5, price='low')\n",
    "        stoch_fast = tab.STOCHF(dataframe, 10.0, 3.0, 0.0, 3.0, 0.0)\n",
    "        dataframe['fastd'] = stoch_fast['fastd']\n",
    "        dataframe['fastk'] = stoch_fast['fastk']\n",
    "        dataframe['adx'] = tab.ADX(dataframe)\n",
    "\n",
    "        # required for graphing\n",
    "        bollinger =ta.BBANDS(data.close,timeperiod=10)\n",
    "        dataframe['bb_lowerband'] = bollinger[2]\n",
    "        dataframe['bb_upperband'] = bollinger[0]\n",
    "        dataframe['bb_middleband'] = bollinger[1]\n",
    "\n",
    "        return dataframe\n",
    "    \n",
    "    \n",
    "#------------------------------------strategy starts here--------------------------------------------------------------    \n",
    "    def __init__(self):\n",
    "        self.indics=populateindicators(self.data)\n",
    "# if open score is less than ema_low, adx is greater than 30, fastk fastd less than 30, then buy\n",
    "\n",
    "\n",
    "    def next(self):\n",
    "        if not self.position:\n",
    "            if self.indics['open'] < self.indics['ema_low'] and \\\n",
    "            self.indics['adx'] > 30 and \\\n",
    "            self.indics['fastk'] < 30 and \\\n",
    "            self.indics['fastd'] < 30:\n",
    "                self.buy(size=100)\n",
    "                \n",
    "                    \n",
    "        else:\n",
    "            if self.indics['open'] >= self.indics['ema_high'] and \\\n",
    "            self.indics['fastk'] > 70 and \\\n",
    "            self.indics['fastd']> 70:\n",
    "                self.sell(size=100)\n",
    "\n",
    "\n"
   ]
  },
  {
   "cell_type": "code",
   "execution_count": 21,
   "metadata": {},
   "outputs": [
    {
     "data": {
      "text/plain": [
       "\"   def populate_buy_trend(self, dataframe: DataFrame, metadata: dict) -> DataFrame:\\n        dataframe.loc[\\n            (\\n                (dataframe['open'] < dataframe['ema_low']) &\\n                (dataframe['adx'] > 30) &\\n                (\\n                    (dataframe['fastk'] < 30) &\\n                    (dataframe['fastd'] < 30) &\\n                    (qtpylib.crossed_above(dataframe['fastk'], dataframe['fastd']))\\n                )\\n            ),\\n            'buy'] = 1\\n        return dataframe\\n    def populate_sell_trend(self, dataframe: DataFrame, metadata: dict) -> DataFrame:\\n        dataframe.loc[\\n            (\\n                (dataframe['open'] >= dataframe['ema_high'])\\n            ) |\\n            (\\n                (qtpylib.crossed_above(dataframe['fastk'], 70)) |\\n                (qtpylib.crossed_above(dataframe['fastd'], 70))\\n            ),\\n            'sell'] = 1\\n        return dataframe\\n        \\n\""
      ]
     },
     "execution_count": 21,
     "metadata": {},
     "output_type": "execute_result"
    }
   ],
   "source": [
    "'''   def populate_buy_trend(self, dataframe: DataFrame, metadata: dict) -> DataFrame:\n",
    "        dataframe.loc[\n",
    "            (\n",
    "                (dataframe['open'] < dataframe['ema_low']) &\n",
    "                (dataframe['adx'] > 30) &\n",
    "                (\n",
    "                    (dataframe['fastk'] < 30) &\n",
    "                    (dataframe['fastd'] < 30) &\n",
    "                    (qtpylib.crossed_above(dataframe['fastk'], dataframe['fastd']))\n",
    "                )\n",
    "            ),\n",
    "            'buy'] = 1\n",
    "        return dataframe\n",
    "    def populate_sell_trend(self, dataframe: DataFrame, metadata: dict) -> DataFrame:\n",
    "        dataframe.loc[\n",
    "            (\n",
    "                (dataframe['open'] >= dataframe['ema_high'])\n",
    "            ) |\n",
    "            (\n",
    "                (qtpylib.crossed_above(dataframe['fastk'], 70)) |\n",
    "                (qtpylib.crossed_above(dataframe['fastd'], 70))\n",
    "            ),\n",
    "            'sell'] = 1\n",
    "        return dataframe\n",
    "        \n",
    "'''"
   ]
  },
  {
   "cell_type": "code",
   "execution_count": null,
   "metadata": {},
   "outputs": [],
   "source": []
  }
 ],
 "metadata": {
  "kernelspec": {
   "display_name": "Python 3",
   "language": "python",
   "name": "python3"
  },
  "language_info": {
   "codemirror_mode": {
    "name": "ipython",
    "version": 3
   },
   "file_extension": ".py",
   "mimetype": "text/x-python",
   "name": "python",
   "nbconvert_exporter": "python",
   "pygments_lexer": "ipython3",
   "version": "3.6.5"
  }
 },
 "nbformat": 4,
 "nbformat_minor": 4
}
