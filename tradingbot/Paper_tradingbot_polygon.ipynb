{
 "cells": [
  {
   "cell_type": "code",
   "execution_count": 3,
   "metadata": {},
   "outputs": [],
   "source": [
    "import datetime\n",
    "import numpy as np\n",
    "import talib as ta\n",
    "import alpaca_trade_api as tradeapi\n",
    "import time\n",
    "import sys\n",
    "sys.path.insert(0, '../')\n",
    "\n",
    "from datetime import timedelta"
   ]
  },
  {
   "cell_type": "code",
   "execution_count": 4,
   "metadata": {},
   "outputs": [],
   "source": [
    "from config_paper import key_id, secret_key\n",
    "from cross_signal import *"
   ]
  },
  {
   "cell_type": "code",
   "execution_count": 5,
   "metadata": {},
   "outputs": [],
   "source": [
    "#The url at the end is what makes a paper trading bot\n",
    "base_url='https://paper-api.alpaca.markets'\n",
    "api = tradeapi.REST(key_id, secret_key,base_url)"
   ]
  },
  {
   "cell_type": "code",
   "execution_count": 6,
   "metadata": {},
   "outputs": [
    {
     "data": {
      "text/plain": [
       "'2020-04-28'"
      ]
     },
     "execution_count": 6,
     "metadata": {},
     "output_type": "execute_result"
    }
   ],
   "source": [
    "startdate = datetime.datetime.today().strftime(\"%Y-%m-%d\")\n",
    "startdate"
   ]
  },
  {
   "cell_type": "code",
   "execution_count": 7,
   "metadata": {},
   "outputs": [],
   "source": [
    "#make sure to import these packages\n",
    "from pandas import DataFrame\n",
    "import talib.abstract as tab\n",
    "#abstract automatically extracts the columns and periods from the data itself, no input required\n",
    "\n",
    "\n",
    "\n",
    "#feel free to add or subtract more indicators for any other strategy you want to use\n",
    "def populateindicators(dataframe) -> DataFrame:\n",
    "        #exponential moving averages\n",
    "        dataframe['mfi'] = ta.MFI(dataframe['high'],dataframe['low'],dataframe['close'], np.asarray(dataframe['volume'], dtype='float'), timeperiod=14)\n",
    "        dataframe['ultosc'] = ta.ULTOSC(dataframe['high'],dataframe['low'],dataframe['close'])\n",
    "        \n",
    "        dataframe['minusdi'] = tab.MINUS_DI(dataframe, timeperiod=14)\n",
    "        dataframe['plusdi'] = tab.PLUS_DI(dataframe, timeperiod=14)\n",
    "        \n",
    "        dataframe['rsi'] = tab.RSI(dataframe, timeperiod=20, price='close')\n",
    "        dataframe['adx'] = tab.ADX(dataframe)\n",
    "\n",
    "        # required for graphing\n",
    "\n",
    "        return dataframe"
   ]
  },
  {
   "cell_type": "code",
   "execution_count": 8,
   "metadata": {},
   "outputs": [
    {
     "name": "stdout",
     "output_type": "stream",
     "text": [
      "ACTIVE\n"
     ]
    },
    {
     "data": {
      "text/plain": [
       "'120000'"
      ]
     },
     "execution_count": 8,
     "metadata": {},
     "output_type": "execute_result"
    }
   ],
   "source": [
    "account = api.get_account()\n",
    "print(account.status)\n",
    "account.buying_power"
   ]
  },
  {
   "cell_type": "code",
   "execution_count": 9,
   "metadata": {},
   "outputs": [],
   "source": [
    "with open('SP500_2020Q2SYM.txt', 'r') as f:\n",
    "    symbols= f.read().split('\\n')"
   ]
  },
  {
   "cell_type": "code",
   "execution_count": 10,
   "metadata": {},
   "outputs": [],
   "source": [
    "barTimeframe = \"1Min\" # 1Min, 5Min, 15Min, 1H, 1D\n",
    "assetsToTrade = [x.upper() for x in symbols]\n",
    "positionSizing = 0.01\n",
    "\n",
    "# Tracks position in list of symbols to download \n",
    "assetListLen = len(assetsToTrade)\n",
    "trade=True"
   ]
  },
  {
   "cell_type": "code",
   "execution_count": 11,
   "metadata": {
    "scrolled": true
   },
   "outputs": [
    {
     "name": "stdout",
     "output_type": "stream",
     "text": [
      "AES\n",
      "BRKB\n",
      "BFB\n",
      "KMX\n",
      "ETFC\n",
      "MKTK\n",
      "NI\n",
      "Buy  Order({   'asset_class': 'us_equity',\n",
      "    'asset_id': 'c29be0fc-a7a5-463f-b5cc-fe31ede2f86f',\n",
      "    'canceled_at': None,\n",
      "    'client_order_id': '51308415-5af8-4666-a3bd-f0ec25609544',\n",
      "    'created_at': '2020-04-29T06:47:15.163186Z',\n",
      "    'expired_at': None,\n",
      "    'extended_hours': False,\n",
      "    'failed_at': None,\n",
      "    'filled_at': None,\n",
      "    'filled_avg_price': None,\n",
      "    'filled_qty': '0',\n",
      "    'id': '70025073-2753-45db-8862-f0af41f6b5f6',\n",
      "    'legs': None,\n",
      "    'limit_price': None,\n",
      "    'order_class': '',\n",
      "    'order_type': 'market',\n",
      "    'qty': '58',\n",
      "    'replaced_at': None,\n",
      "    'replaced_by': None,\n",
      "    'replaces': None,\n",
      "    'side': 'buy',\n",
      "    'status': 'accepted',\n",
      "    'stop_price': None,\n",
      "    'submitted_at': '2020-04-29T06:47:15.146422Z',\n",
      "    'symbol': 'JWN',\n",
      "    'time_in_force': 'day',\n",
      "    'type': 'market',\n",
      "    'updated_at': '2020-04-29T06:47:15.163186Z'})\n",
      "PWR\n",
      "RTN\n",
      "UTX\n",
      "Buy  Order({   'asset_class': 'us_equity',\n",
      "    'asset_id': '357a8404-f368-40a1-9356-3eb500f4f08a',\n",
      "    'canceled_at': None,\n",
      "    'client_order_id': '6dc170d6-8f86-46e1-a9b6-b4c00983f0f2',\n",
      "    'created_at': '2020-04-29T06:47:43.250705Z',\n",
      "    'expired_at': None,\n",
      "    'extended_hours': False,\n",
      "    'failed_at': None,\n",
      "    'filled_at': None,\n",
      "    'filled_avg_price': None,\n",
      "    'filled_qty': '0',\n",
      "    'id': '476f1886-79a8-405c-81a9-6a43033ab60e',\n",
      "    'legs': None,\n",
      "    'limit_price': None,\n",
      "    'order_class': '',\n",
      "    'order_type': 'market',\n",
      "    'qty': '4',\n",
      "    'replaced_at': None,\n",
      "    'replaced_by': None,\n",
      "    'replaces': None,\n",
      "    'side': 'buy',\n",
      "    'status': 'accepted',\n",
      "    'stop_price': None,\n",
      "    'submitted_at': '2020-04-29T06:47:43.239394Z',\n",
      "    'symbol': 'VRTX',\n",
      "    'time_in_force': 'day',\n",
      "    'type': 'market',\n",
      "    'updated_at': '2020-04-29T06:47:43.250705Z'})\n",
      "WELL\n",
      "XEL\n",
      "\n",
      "Good work, Turning off\n"
     ]
    }
   ],
   "source": [
    "trade=True\n",
    "while trade==True:\n",
    "        \n",
    "    for i in range(assetListLen) :\n",
    "        try:\n",
    "            symbol = assetsToTrade[i]\n",
    "\n",
    "            returned_data = api.polygon.historic_agg_v2(symbol, 1, 'minute',_from=startdate, to=startdate).df\n",
    "            #api.get_barset(symbol,barTimeframe,limit=150).df\n",
    "\n",
    "\n",
    "            # Calculated trading indicators\n",
    "            #populate exponential moving averages\n",
    "            data=populateindicators(returned_data) \n",
    "\n",
    "\n",
    "             # Create the buy signal here\n",
    "            if data['adx'][-1] > 22 and \\\n",
    "            data['mfi'][-1] < 25 and \\\n",
    "            data['ultosc'][-1] < 25 and \\\n",
    "            data['rsi'][-1] < 33 and \\\n",
    "            data['minusdi'][-1] > 25 and \\\n",
    "            data['minusdi'][-1] > data['plusdi'][-1]:\n",
    "\n",
    "                buyord=True\n",
    "                assetlist=api.list_positions()\n",
    "                for asset in assetlist:\n",
    "                    # if asset is in the list of positions we have already bought, then do not buy again\n",
    "                    if asset.symbol == symbol:\n",
    "                        buyord=False\n",
    "                        print(asset.symbol,asset.qty)\n",
    "                    \n",
    "                    \n",
    "                    \n",
    "                        #if asset is in list of positions AND is more than 2.5% loss\n",
    "                        # sell and turn that symbol to null\n",
    "                        if float(asset.unrealized_intraday_plpc)< -.025 :\n",
    "                            openPosition = api.get_position(symbol)\n",
    "\n",
    "                            returned = api.submit_order(symbol,int(openPosition.qty),\"sell\",\"market\",\"day\")\n",
    "                            assetsToTrade[i]= symbol+' nulled for below -2.5% pnl'\n",
    "                            \n",
    "                #if asset is not already bought, then buy             \n",
    "                if buyord==True:\n",
    "                    #cashBalance = account.daytrading_buying_power\n",
    "                    cashBalance = float(account.buying_power)\n",
    "\n",
    "                    targetPositionSize = int(cashBalance / (data['close'][-1] / positionSizing))\n",
    "\n",
    "                    returned = api.submit_order(symbol,targetPositionSize,\"buy\",\"market\",\"day\") # Market order to open position\n",
    "                    print('Buy ',returned)\n",
    "\n",
    "       #Sell conditions \n",
    "            elif data['adx'][-1] > 22 and \\\n",
    "                data['rsi'][-1] > 75:\n",
    "                # Closes position\n",
    "                openPosition = api.get_position(symbol)\n",
    "\n",
    "                returned = api.submit_order(symbol,int(openPosition.qty),\"sell\",\"market\",\"day\") # Market order to fully close position\n",
    "                print('Sell',returned)\n",
    "        \n",
    "\n",
    "        except:\n",
    "                print(symbol)\n",
    "    \n",
    "    \n",
    "    #get current time and shut off trading\n",
    "    currenthour=time.localtime().tm_hour \n",
    "    if currenthour >= 12: \n",
    "        trade=False\n",
    "        print('Good work, Turning off')\n",
    "    \n",
    "    #interval number of seconds to wait\n",
    "    time.sleep(20)\n",
    "    \n",
    "    "
   ]
  },
  {
   "cell_type": "code",
   "execution_count": null,
   "metadata": {},
   "outputs": [],
   "source": []
  },
  {
   "cell_type": "code",
   "execution_count": null,
   "metadata": {},
   "outputs": [],
   "source": []
  }
 ],
 "metadata": {
  "kernelspec": {
   "display_name": "Python 3",
   "language": "python",
   "name": "python3"
  },
  "language_info": {
   "codemirror_mode": {
    "name": "ipython",
    "version": 3
   },
   "file_extension": ".py",
   "mimetype": "text/x-python",
   "name": "python",
   "nbconvert_exporter": "python",
   "pygments_lexer": "ipython3",
   "version": "3.6.5"
  }
 },
 "nbformat": 4,
 "nbformat_minor": 4
}
