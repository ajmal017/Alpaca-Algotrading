{
 "cells": [
  {
   "cell_type": "code",
   "execution_count": 2,
   "metadata": {},
   "outputs": [],
   "source": [
    "import datetime\n",
    "import numpy as np\n",
    "import talib as ta\n",
    "import alpaca_trade_api as tradeapi\n",
    "import time\n",
    "import sys\n",
    "sys.path.insert(0, '../')\n",
    "\n"
   ]
  },
  {
   "cell_type": "code",
   "execution_count": 3,
   "metadata": {},
   "outputs": [],
   "source": [
    "from config_paper import key_id, secret_key\n",
    "from cross_signal import *"
   ]
  },
  {
   "cell_type": "code",
   "execution_count": 4,
   "metadata": {},
   "outputs": [],
   "source": [
    "#The url at the end is what makes a paper trading bot\n",
    "base_url='https://paper-api.alpaca.markets'\n",
    "api = tradeapi.REST(key_id, secret_key,base_url )"
   ]
  },
  {
   "cell_type": "code",
   "execution_count": 5,
   "metadata": {},
   "outputs": [
    {
     "data": {
      "text/plain": [
       "'2020-04-26'"
      ]
     },
     "execution_count": 5,
     "metadata": {},
     "output_type": "execute_result"
    }
   ],
   "source": [
    "startdate = datetime.datetime.today().strftime(\"%Y-%m-%d\")\n",
    "startdate"
   ]
  },
  {
   "cell_type": "code",
   "execution_count": 6,
   "metadata": {},
   "outputs": [],
   "source": [
    "#make sure to import these packages\n",
    "from pandas import DataFrame\n",
    "import talib.abstract as tab\n",
    "#abstract automatically extracts the columns and periods from the data itself, no input required\n",
    "\n",
    "\n",
    "\n",
    "#feel free to add or subtract more indicators for any other strategy you want to use\n",
    "def populateindicators(dataframe) -> DataFrame:\n",
    "        #exponential moving averages\n",
    "        dataframe['ema_high'] = tab.EMA(dataframe, timeperiod=10, price='high')\n",
    "        dataframe['ema_close'] = tab.EMA(dataframe, timeperiod=10, price='close')\n",
    "        dataframe['ema_low'] = tab.EMA(dataframe, timeperiod=10, price='low')\n",
    "        \n",
    "        \n",
    "        dataframe['mfi'] = ta.MFI(dataframe['high'],dataframe['low'],dataframe['close'], np.asarray(dataframe['volume'], dtype='float'), timeperiod=14)\n",
    "        dataframe['ultosc'] = ta.ULTOSC(dataframe['high'],dataframe['low'],dataframe['close'])\n",
    "        \n",
    "        dataframe['minusdi'] = tab.MINUS_DI(dataframe, timeperiod=14)\n",
    "        dataframe['plusdi'] = tab.PLUS_DI(dataframe, timeperiod=14)\n",
    "        \n",
    "        dataframe['rsi'] = tab.RSI(dataframe, timeperiod=20, price='close')\n",
    "        stoch_fast = tab.STOCHF(dataframe, 10.0, 3.0, 0.0, 3.0, 0.0)\n",
    "        dataframe['fastd'] = stoch_fast['fastd']\n",
    "        dataframe['fastk'] = stoch_fast['fastk']\n",
    "        dataframe['adx'] = tab.ADX(dataframe)\n",
    "        dataframe['cci'] = tab.CCI(dataframe)\n",
    "        # required for graphing\n",
    "\n",
    "        return dataframe"
   ]
  },
  {
   "cell_type": "code",
   "execution_count": 7,
   "metadata": {},
   "outputs": [
    {
     "name": "stdout",
     "output_type": "stream",
     "text": [
      "ACTIVE\n"
     ]
    },
    {
     "data": {
      "text/plain": [
       "'400000'"
      ]
     },
     "execution_count": 7,
     "metadata": {},
     "output_type": "execute_result"
    }
   ],
   "source": [
    "account = api.get_account()\n",
    "print(account.status)\n",
    "account.buying_power"
   ]
  },
  {
   "cell_type": "code",
   "execution_count": 8,
   "metadata": {},
   "outputs": [],
   "source": [
    "with open('SP500_2020Q2SYM.txt', 'r') as f:\n",
    "    symbols= f.read().split('\\n')"
   ]
  },
  {
   "cell_type": "code",
   "execution_count": 42,
   "metadata": {},
   "outputs": [],
   "source": [
    "api = tradeapi.REST(key_id ,secret_key )\n",
    "\n",
    "barTimeframe = \"1Min\" # 1Min, 5Min, 15Min, 1H, 1D\n",
    "assetsToTrade = [x.upper() for x in symbols]\n",
    "positionSizing = 0.25\n",
    "\n",
    "# Tracks position in list of symbols to download \n",
    "assetListLen = len(assetsToTrade)\n"
   ]
  },
  {
   "cell_type": "code",
   "execution_count": 39,
   "metadata": {},
   "outputs": [],
   "source": [
    "returneddata = api.get_barset('FLS',barTimeframe,limit=150).df\n",
    "returneddata2=api.polygon.historic_agg_v2( 'DISCA', 1, 'minute',_from='2020-04-23', to=startdate,).df\n",
    "#data_indic=populateindicators(returneddata['AMP'])\n"
   ]
  },
  {
   "cell_type": "code",
   "execution_count": 40,
   "metadata": {},
   "outputs": [
    {
     "data": {
      "text/html": [
       "<div>\n",
       "<style scoped>\n",
       "    .dataframe tbody tr th:only-of-type {\n",
       "        vertical-align: middle;\n",
       "    }\n",
       "\n",
       "    .dataframe tbody tr th {\n",
       "        vertical-align: top;\n",
       "    }\n",
       "\n",
       "    .dataframe thead th {\n",
       "        text-align: right;\n",
       "    }\n",
       "</style>\n",
       "<table border=\"1\" class=\"dataframe\">\n",
       "  <thead>\n",
       "    <tr style=\"text-align: right;\">\n",
       "      <th></th>\n",
       "      <th>open</th>\n",
       "      <th>high</th>\n",
       "      <th>low</th>\n",
       "      <th>close</th>\n",
       "      <th>volume</th>\n",
       "    </tr>\n",
       "    <tr>\n",
       "      <th>timestamp</th>\n",
       "      <th></th>\n",
       "      <th></th>\n",
       "      <th></th>\n",
       "      <th></th>\n",
       "      <th></th>\n",
       "    </tr>\n",
       "  </thead>\n",
       "  <tbody>\n",
       "    <tr>\n",
       "      <th>2020-04-23 05:12:00-04:00</th>\n",
       "      <td>20.2400</td>\n",
       "      <td>20.24</td>\n",
       "      <td>20.24</td>\n",
       "      <td>20.24</td>\n",
       "      <td>150</td>\n",
       "    </tr>\n",
       "    <tr>\n",
       "      <th>2020-04-23 05:13:00-04:00</th>\n",
       "      <td>20.2400</td>\n",
       "      <td>20.24</td>\n",
       "      <td>20.24</td>\n",
       "      <td>20.24</td>\n",
       "      <td>403</td>\n",
       "    </tr>\n",
       "    <tr>\n",
       "      <th>2020-04-23 06:40:00-04:00</th>\n",
       "      <td>20.1000</td>\n",
       "      <td>20.10</td>\n",
       "      <td>20.05</td>\n",
       "      <td>20.05</td>\n",
       "      <td>1629</td>\n",
       "    </tr>\n",
       "    <tr>\n",
       "      <th>2020-04-23 06:41:00-04:00</th>\n",
       "      <td>20.0000</td>\n",
       "      <td>20.00</td>\n",
       "      <td>20.00</td>\n",
       "      <td>20.00</td>\n",
       "      <td>100</td>\n",
       "    </tr>\n",
       "    <tr>\n",
       "      <th>2020-04-23 06:44:00-04:00</th>\n",
       "      <td>20.0500</td>\n",
       "      <td>20.05</td>\n",
       "      <td>20.05</td>\n",
       "      <td>20.05</td>\n",
       "      <td>274</td>\n",
       "    </tr>\n",
       "    <tr>\n",
       "      <th>...</th>\n",
       "      <td>...</td>\n",
       "      <td>...</td>\n",
       "      <td>...</td>\n",
       "      <td>...</td>\n",
       "      <td>...</td>\n",
       "    </tr>\n",
       "    <tr>\n",
       "      <th>2020-04-24 15:59:00-04:00</th>\n",
       "      <td>21.0034</td>\n",
       "      <td>21.02</td>\n",
       "      <td>20.98</td>\n",
       "      <td>21.01</td>\n",
       "      <td>64325</td>\n",
       "    </tr>\n",
       "    <tr>\n",
       "      <th>2020-04-24 16:00:00-04:00</th>\n",
       "      <td>21.0200</td>\n",
       "      <td>21.02</td>\n",
       "      <td>21.02</td>\n",
       "      <td>21.02</td>\n",
       "      <td>60641</td>\n",
       "    </tr>\n",
       "    <tr>\n",
       "      <th>2020-04-24 16:40:00-04:00</th>\n",
       "      <td>21.6000</td>\n",
       "      <td>21.60</td>\n",
       "      <td>21.60</td>\n",
       "      <td>21.60</td>\n",
       "      <td>1000</td>\n",
       "    </tr>\n",
       "    <tr>\n",
       "      <th>2020-04-24 16:47:00-04:00</th>\n",
       "      <td>21.0500</td>\n",
       "      <td>21.05</td>\n",
       "      <td>21.05</td>\n",
       "      <td>21.05</td>\n",
       "      <td>200</td>\n",
       "    </tr>\n",
       "    <tr>\n",
       "      <th>2020-04-24 16:50:00-04:00</th>\n",
       "      <td>21.0500</td>\n",
       "      <td>21.05</td>\n",
       "      <td>21.05</td>\n",
       "      <td>21.05</td>\n",
       "      <td>200</td>\n",
       "    </tr>\n",
       "  </tbody>\n",
       "</table>\n",
       "<p>809 rows × 5 columns</p>\n",
       "</div>"
      ],
      "text/plain": [
       "                              open   high    low  close  volume\n",
       "timestamp                                                      \n",
       "2020-04-23 05:12:00-04:00  20.2400  20.24  20.24  20.24     150\n",
       "2020-04-23 05:13:00-04:00  20.2400  20.24  20.24  20.24     403\n",
       "2020-04-23 06:40:00-04:00  20.1000  20.10  20.05  20.05    1629\n",
       "2020-04-23 06:41:00-04:00  20.0000  20.00  20.00  20.00     100\n",
       "2020-04-23 06:44:00-04:00  20.0500  20.05  20.05  20.05     274\n",
       "...                            ...    ...    ...    ...     ...\n",
       "2020-04-24 15:59:00-04:00  21.0034  21.02  20.98  21.01   64325\n",
       "2020-04-24 16:00:00-04:00  21.0200  21.02  21.02  21.02   60641\n",
       "2020-04-24 16:40:00-04:00  21.6000  21.60  21.60  21.60    1000\n",
       "2020-04-24 16:47:00-04:00  21.0500  21.05  21.05  21.05     200\n",
       "2020-04-24 16:50:00-04:00  21.0500  21.05  21.05  21.05     200\n",
       "\n",
       "[809 rows x 5 columns]"
      ]
     },
     "execution_count": 40,
     "metadata": {},
     "output_type": "execute_result"
    }
   ],
   "source": [
    "returneddata2"
   ]
  },
  {
   "cell_type": "code",
   "execution_count": 44,
   "metadata": {},
   "outputs": [
    {
     "name": "stdout",
     "output_type": "stream",
     "text": [
      "AMP\n",
      "BRKB\n",
      "BFB\n",
      "FLS\n",
      "HPQ\n",
      "MKTK\n",
      "NLOK\n",
      "RTN\n",
      "UTX\n",
      "\n"
     ]
    }
   ],
   "source": [
    "for minu in range(1) :\n",
    "        \n",
    "    for i in range(assetListLen) :\n",
    "        try:\n",
    "            symbol = assetsToTrade[i]\n",
    "\n",
    "            returned_data = api.polygon.historic_agg_v2(symbol, 1, 'minute',_from='2020-04-20', to=startdate,).df\n",
    "            #api.get_barset(symbol,barTimeframe,limit=150).df\n",
    "\n",
    "\n",
    "            # Calculated trading indicators\n",
    "            #populate exponential moving averages\n",
    "            data=populateindicators(returned_data) \n",
    "\n",
    "\n",
    "             # Create the buy signal here\n",
    "            if data['adx'][-1] > 22 and \\\n",
    "            data['mfi'][-1] < 25 and \\\n",
    "            data['ultosc'][-1] < 25 and \\\n",
    "            data['rsi'][-1] < 33 and \\\n",
    "            data['minusdi'][-1] > 25 and \\\n",
    "            data['minusdi'][-1] > data['plusdi'][-1]:\n",
    "\n",
    "\n",
    "                openPosition = api.get_position(symbol)\n",
    "\n",
    "                # Opens new position if one does not exist\n",
    "                if openPosition == 0:\n",
    "                    cashBalance = api.get_account().cash\n",
    "\n",
    "                    targetPositionSize = cashBalance / (price / positionSizing) # Calculates required position size\n",
    "\n",
    "                    returned = api.submit_order(symbol,targetPositionSize,\"buy\",\"market\",\"day\") # Market order to open position\n",
    "                    print(returned)\n",
    "\n",
    "\n",
    "            elif data['adx'][-1] > 22 and \\\n",
    "            data['mfi'][-1] > 63 and \\\n",
    "            data['rsi'][-1] > 75 and \\\n",
    "            data['plusdi'][-1] > 25 and \\\n",
    "            data['minusdi'][-1] < data['plusdi'][-1]:\n",
    "                # Closes position  SMA50\n",
    "                openPosition = api.get_position(symbol)\n",
    "\n",
    "                returned = api.submit_order(symbol,openPosition,\"sell\",\"market\",\"day\") # Market order to fully close position\n",
    "                print(returned)\n",
    "        \n",
    "        except:\n",
    "                print(symbol)\n",
    "                \n",
    "        #interval should be an integer, the number of seconds to wait\n",
    "    time.sleep(20)"
   ]
  },
  {
   "cell_type": "code",
   "execution_count": null,
   "metadata": {},
   "outputs": [],
   "source": []
  }
 ],
 "metadata": {
  "kernelspec": {
   "display_name": "Python 3",
   "language": "python",
   "name": "python3"
  },
  "language_info": {
   "codemirror_mode": {
    "name": "ipython",
    "version": 3
   },
   "file_extension": ".py",
   "mimetype": "text/x-python",
   "name": "python",
   "nbconvert_exporter": "python",
   "pygments_lexer": "ipython3",
   "version": "3.6.5"
  }
 },
 "nbformat": 4,
 "nbformat_minor": 4
}
