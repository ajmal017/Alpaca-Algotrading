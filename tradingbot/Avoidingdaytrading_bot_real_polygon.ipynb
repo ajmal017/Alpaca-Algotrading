{
 "cells": [
  {
   "cell_type": "code",
   "execution_count": 2,
   "metadata": {},
   "outputs": [],
   "source": [
    "import datetime\n",
    "import numpy as np\n",
    "import talib as ta\n",
    "import alpaca_trade_api as tradeapi\n",
    "import time\n",
    "import sys\n",
    "sys.path.insert(0, '../')\n",
    "\n",
    "from datetime import timedelta"
   ]
  },
  {
   "cell_type": "code",
   "execution_count": 3,
   "metadata": {},
   "outputs": [],
   "source": [
    "from config import key_id, secret_key"
   ]
  },
  {
   "cell_type": "code",
   "execution_count": 4,
   "metadata": {},
   "outputs": [],
   "source": [
    "with open('SP500_2020Q2SYM.txt', 'r') as f:\n",
    "    symbols= f.read().split('\\n')"
   ]
  },
  {
   "cell_type": "code",
   "execution_count": 5,
   "metadata": {},
   "outputs": [],
   "source": [
    "#The url at the end is what makes a paper trading bot\n",
    "api = tradeapi.REST(key_id, secret_key)"
   ]
  },
  {
   "cell_type": "code",
   "execution_count": 6,
   "metadata": {},
   "outputs": [
    {
     "data": {
      "text/plain": [
       "'0'"
      ]
     },
     "execution_count": 6,
     "metadata": {},
     "output_type": "execute_result"
    }
   ],
   "source": [
    "account = api.get_account()\n",
    "account.daytrading_buying_power"
   ]
  },
  {
   "cell_type": "code",
   "execution_count": 26,
   "metadata": {},
   "outputs": [
    {
     "data": {
      "text/plain": [
       "Account({   'account_blocked': False,\n",
       "    'account_number': '010320JEWA',\n",
       "    'buying_power': '497.9078',\n",
       "    'cash': '-1132.9761',\n",
       "    'created_at': '2020-03-20T17:46:19.948568Z',\n",
       "    'currency': 'USD',\n",
       "    'daytrade_count': 1,\n",
       "    'daytrading_buying_power': '0',\n",
       "    'equity': '2030.8839',\n",
       "    'id': '176ffd14-7e0e-4957-9ad5-98306425fa04',\n",
       "    'initial_margin': '1781.93',\n",
       "    'last_equity': '2039.52',\n",
       "    'last_maintenance_margin': '10.26',\n",
       "    'long_market_value': '3163.86',\n",
       "    'maintenance_margin': '949.158',\n",
       "    'multiplier': '2',\n",
       "    'pattern_day_trader': False,\n",
       "    'portfolio_value': '2030.8839',\n",
       "    'regt_buying_power': '497.9078',\n",
       "    'short_market_value': '0',\n",
       "    'shorting_enabled': True,\n",
       "    'sma': '2039.52',\n",
       "    'status': 'ACTIVE',\n",
       "    'trade_suspended_by_user': False,\n",
       "    'trading_blocked': False,\n",
       "    'transfers_blocked': False})"
      ]
     },
     "execution_count": 26,
     "metadata": {},
     "output_type": "execute_result"
    }
   ],
   "source": [
    "api.get_account()"
   ]
  },
  {
   "cell_type": "code",
   "execution_count": 7,
   "metadata": {},
   "outputs": [],
   "source": [
    "startdate= datetime.datetime.today().strftime(\"%Y-%m-%d\")\n",
    "yesterdate=(datetime.datetime.today()- timedelta(days=1)).strftime(\"%Y-%m-%d\")\n"
   ]
  },
  {
   "cell_type": "code",
   "execution_count": 8,
   "metadata": {},
   "outputs": [],
   "source": [
    "#make sure to import these packages\n",
    "from pandas import DataFrame\n",
    "import talib.abstract as tab\n",
    "#abstract automatically extracts the columns and periods from the data itself, no input required\n",
    "\n",
    "\n",
    "\n",
    "#feel free to add or subtract more indicators for any other strategy you want to use\n",
    "def populateindicators(dataframe) -> DataFrame:\n",
    "        #exponential moving averages\n",
    "        dataframe['mfi'] = ta.MFI(dataframe['high'],dataframe['low'],dataframe['close'], np.asarray(dataframe['volume'], dtype='float'), timeperiod=14)\n",
    "        dataframe['ultosc'] = ta.ULTOSC(dataframe['high'],dataframe['low'],dataframe['close'])\n",
    "        \n",
    "        dataframe['minusdi'] = tab.MINUS_DI(dataframe, timeperiod=14)\n",
    "        dataframe['plusdi'] = tab.PLUS_DI(dataframe, timeperiod=14)\n",
    "        \n",
    "        dataframe['rsi'] = tab.RSI(dataframe, timeperiod=20, price='close')\n",
    "        dataframe['adx'] = tab.ADX(dataframe)\n",
    "\n",
    "        # required for graphing\n",
    "\n",
    "        return dataframe"
   ]
  },
  {
   "cell_type": "code",
   "execution_count": 9,
   "metadata": {},
   "outputs": [
    {
     "name": "stdout",
     "output_type": "stream",
     "text": [
      "ACTIVE\n"
     ]
    },
    {
     "data": {
      "text/plain": [
       "'5.31'"
      ]
     },
     "execution_count": 9,
     "metadata": {},
     "output_type": "execute_result"
    }
   ],
   "source": [
    "account = api.get_account()\n",
    "print(account.status)\n",
    "account.buying_power"
   ]
  },
  {
   "cell_type": "code",
   "execution_count": 15,
   "metadata": {},
   "outputs": [],
   "source": [
    "with open('SP500_2020Q2SYM.txt', 'r') as f:\n",
    "    symbols= f.read().split('\\n')"
   ]
  },
  {
   "cell_type": "code",
   "execution_count": 16,
   "metadata": {},
   "outputs": [],
   "source": [
    "barTimeframe = \"1Min\" # 1Min, 5Min, 15Min, 1H, 1D\n",
    "assetsToTrade = [x.upper() for x in symbols]\n",
    "positionSizing = 0.01\n",
    "\n",
    "# Tracks position in list of symbols to download \n",
    "assetListLen = len(assetsToTrade)\n"
   ]
  },
  {
   "cell_type": "code",
   "execution_count": 46,
   "metadata": {},
   "outputs": [],
   "source": [
    "assetsymb=[]\n",
    "trade=True\n",
    "#while trade==True:\n",
    "for i in range(1):\n",
    "    currenthour=time.localtime().tm_hour\n",
    "    currentminute=time.localtime().tm_min\n",
    "    currenttime=currenthour*100+currentminute\n",
    "    \n",
    "    assetlist=api.list_positions()\n",
    "    activity_list=api.get_activities()\n",
    "    banlist=[]\n",
    "    oklist=[]\n",
    "    for activity in  activity_list:\n",
    "        try:\n",
    "            if activity.transaction_time.date() == api.get_clock().timestamp.date():\n",
    "                banlist.append(activity.symbol)\n",
    "\n",
    "        except:\n",
    "            e=0\n",
    "    for asset in assetlist:\n",
    "        assetsymb.append(asset.symbol)\n",
    "        if asset.symbol not in banlist:\n",
    "            try:\n",
    "                if float(asset.unrealized_intraday_plpc) > .01:\n",
    "                    returned_data = api.polygon.historic_agg_v2(asset.symbol, 1, 'minute',_from=startdate, to=startdate).df\n",
    "                    #populate exponential moving averages\n",
    "                    data=populateindicators(returned_data)\n",
    "\n",
    "                    if data['rsi'][-1] > 71:\n",
    "                        openPosition = api.get_position(asset.symbol)\n",
    "\n",
    "                        returned = api.submit_order(asset.symbol,int(openPosition.qty),\"sell\",\"market\",\"day\") # Market order to fully close position\n",
    "                        print('Sell',returned)\n",
    "                        \n",
    "                        \n",
    "                    elif data['plusdi'][-1] < 55 and data['minusdi'][-1] > 45:\n",
    "                        openPosition = api.get_position(asset.symbol)\n",
    "\n",
    "                        returned = api.submit_order(asset.symbol,int(openPosition.qty),\"sell\",\"market\",\"day\") # Market order to fully close position\n",
    "                        print('Sell',returned)\n",
    "            except:\n",
    "                print(asset.symbol)\n",
    "                \n",
    "                \n",
    "    if currenthour >= 12: \n",
    "        trade=False\n",
    "\n",
    "    #interval number of seconds to wait\n",
    "    time.sleep(24)\n"
   ]
  },
  {
   "cell_type": "code",
   "execution_count": 47,
   "metadata": {},
   "outputs": [
    {
     "data": {
      "text/plain": [
       "['WMT', 'SLB', 'MRO', 'LIN', 'CLX', 'CAG', 'ABBV']"
      ]
     },
     "execution_count": 47,
     "metadata": {},
     "output_type": "execute_result"
    }
   ],
   "source": [
    "assetsymb"
   ]
  },
  {
   "cell_type": "code",
   "execution_count": 48,
   "metadata": {},
   "outputs": [
    {
     "data": {
      "text/plain": [
       "['CLX', 'LIN', 'CLX', 'LIN', 'WMT', 'ABBV', 'SLB', 'MRO']"
      ]
     },
     "execution_count": 48,
     "metadata": {},
     "output_type": "execute_result"
    }
   ],
   "source": [
    "banlist"
   ]
  },
  {
   "cell_type": "code",
   "execution_count": 22,
   "metadata": {},
   "outputs": [
    {
     "data": {
      "text/plain": [
       "datetime.date(2020, 4, 30)"
      ]
     },
     "execution_count": 22,
     "metadata": {},
     "output_type": "execute_result"
    }
   ],
   "source": [
    "api.get_clock().timestamp.date()"
   ]
  },
  {
   "cell_type": "code",
   "execution_count": 24,
   "metadata": {},
   "outputs": [
    {
     "data": {
      "text/plain": [
       "datetime.date(2020, 4, 30)"
      ]
     },
     "execution_count": 24,
     "metadata": {},
     "output_type": "execute_result"
    }
   ],
   "source": [
    "activity_list[0].transaction_time.date()"
   ]
  },
  {
   "cell_type": "code",
   "execution_count": null,
   "metadata": {},
   "outputs": [],
   "source": []
  },
  {
   "cell_type": "code",
   "execution_count": null,
   "metadata": {},
   "outputs": [],
   "source": [
    "trade=True\n",
    "#while trade==True:\n",
    "for i in range(1):\n",
    "    currenthour=time.localtime().tm_hour\n",
    "    currentminute=time.localtime().tm_min\n",
    "    currenttime=currenthour*100+currentminute\n",
    "    \n",
    "    assetlist=api.list_positions()\n",
    "    activity_list=api.get_activities()\n",
    "    banlist=[]\n",
    "    oklist=[]\n",
    "    for activity in  activity_list:\n",
    "        try:\n",
    "            if activity.transaction_time.date() == api.get_clock().timestamp.date():\n",
    "                banlist.append(activity.symbol)\n",
    "\n",
    "        except:\n",
    "            e=0\n",
    "    for asset in assetlist:\n",
    "        \n",
    "        if asset.symbol not in banlist:\n",
    "            try:\n",
    "                if float(asset.unrealized_intraday_plpc) > .01:\n",
    "                    returned_data = api.polygon.historic_agg_v2(asset.symbol, 1, 'minute',_from=startdate, to=startdate).df\n",
    "                    #populate exponential moving averages\n",
    "                    data=populateindicators(returned_data)\n",
    "\n",
    "                    if data['rsi'][-1] > 71:\n",
    "\n",
    "                        openPosition = api.get_position(asset.symbol)\n",
    "\n",
    "                        returned = api.submit_order(symbol,int(openPosition.qty),\"sell\",\"market\",\"day\") # Market order to fully close position\n",
    "                        print('Sell',returned)\n",
    "            except:\n",
    "                print(asset.symbol)\n"
   ]
  }
 ],
 "metadata": {
  "kernelspec": {
   "display_name": "Python 3",
   "language": "python",
   "name": "python3"
  },
  "language_info": {
   "codemirror_mode": {
    "name": "ipython",
    "version": 3
   },
   "file_extension": ".py",
   "mimetype": "text/x-python",
   "name": "python",
   "nbconvert_exporter": "python",
   "pygments_lexer": "ipython3",
   "version": "3.6.5"
  }
 },
 "nbformat": 4,
 "nbformat_minor": 4
}
