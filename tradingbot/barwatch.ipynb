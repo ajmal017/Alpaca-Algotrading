{
 "cells": [
  {
   "cell_type": "code",
   "execution_count": 2,
   "metadata": {},
   "outputs": [],
   "source": [
    "import datetime\n",
    "import numpy as np\n",
    "import talib as ta\n",
    "import alpaca_trade_api as  tradeapi\n",
    "import time\n",
    "\n",
    "import sys\n",
    "sys.path.insert(0, '../')\n",
    "import pandas as pd\n",
    "from datetime import timedelta"
   ]
  },
  {
   "cell_type": "code",
   "execution_count": 3,
   "metadata": {},
   "outputs": [],
   "source": [
    "from config import key_id, secret_key\n",
    "from cross_signal import *"
   ]
  },
  {
   "cell_type": "code",
   "execution_count": 4,
   "metadata": {},
   "outputs": [],
   "source": [
    "with open('SP500_2020Q2SYM.txt', 'r') as f:\n",
    "    symbols= f.read().split('\\n')"
   ]
  },
  {
   "cell_type": "code",
   "execution_count": 5,
   "metadata": {},
   "outputs": [],
   "source": [
    "#The url at the end is what makes a paper trading bot\n",
    "api = tradeapi.REST(key_id, secret_key)"
   ]
  },
  {
   "cell_type": "code",
   "execution_count": 6,
   "metadata": {},
   "outputs": [
    {
     "data": {
      "text/plain": [
       "Account({   'account_blocked': False,\n",
       "    'account_number': '010320JEWA',\n",
       "    'buying_power': '0',\n",
       "    'cash': '-4177.82',\n",
       "    'created_at': '2020-03-20T17:46:19.948568Z',\n",
       "    'currency': 'USD',\n",
       "    'daytrade_count': 3,\n",
       "    'daytrading_buying_power': '0',\n",
       "    'equity': '3552.3',\n",
       "    'id': '176ffd14-7e0e-4957-9ad5-98306425fa04',\n",
       "    'initial_margin': '3865.06',\n",
       "    'last_equity': '4161.4',\n",
       "    'last_maintenance_margin': '2501.76',\n",
       "    'long_market_value': '7730.12',\n",
       "    'maintenance_margin': '2319.036',\n",
       "    'multiplier': '2',\n",
       "    'pattern_day_trader': False,\n",
       "    'portfolio_value': '3552.3',\n",
       "    'regt_buying_power': '0',\n",
       "    'short_market_value': '0',\n",
       "    'shorting_enabled': True,\n",
       "    'sma': '18.09',\n",
       "    'status': 'ACTIVE',\n",
       "    'trade_suspended_by_user': False,\n",
       "    'trading_blocked': False,\n",
       "    'transfers_blocked': False})"
      ]
     },
     "execution_count": 6,
     "metadata": {},
     "output_type": "execute_result"
    }
   ],
   "source": [
    "account = api.get_account()\n",
    "account"
   ]
  },
  {
   "cell_type": "code",
   "execution_count": 7,
   "metadata": {},
   "outputs": [
    {
     "name": "stdout",
     "output_type": "stream",
     "text": [
      "SE\n",
      "AMD\n"
     ]
    }
   ],
   "source": [
    "assetlist=api.list_positions()\n",
    "for asset in assetlist:\n",
    "    print(asset.symbol)"
   ]
  },
  {
   "cell_type": "code",
   "execution_count": 8,
   "metadata": {},
   "outputs": [
    {
     "data": {
      "text/plain": [
       "[Position({   'asset_class': 'us_equity',\n",
       "     'asset_id': 'f9b42f64-98b9-4f8a-8ee2-e13d0a40f874',\n",
       "     'avg_entry_price': '82.6099',\n",
       "     'change_today': '-0.0733525733525734',\n",
       "     'cost_basis': '8178.3801',\n",
       "     'current_price': '77.06',\n",
       "     'exchange': 'NYSE',\n",
       "     'lastday_price': '83.16',\n",
       "     'market_value': '7628.94',\n",
       "     'qty': '99',\n",
       "     'side': 'long',\n",
       "     'symbol': 'SE',\n",
       "     'unrealized_intraday_pl': '-603.9',\n",
       "     'unrealized_intraday_plpc': '-0.0733525733525734',\n",
       "     'unrealized_pl': '-549.4401',\n",
       "     'unrealized_plpc': '-0.0671820205568582'}),\n",
       " Position({   'asset_class': 'us_equity',\n",
       "     'asset_id': '03fb07bb-5db1-4077-8dea-5d711b272625',\n",
       "     'avg_entry_price': '54.11995',\n",
       "     'change_today': '-0.0490693739424704',\n",
       "     'cost_basis': '108.2399',\n",
       "     'current_price': '50.58',\n",
       "     'exchange': 'NASDAQ',\n",
       "     'lastday_price': '53.19',\n",
       "     'market_value': '101.16',\n",
       "     'qty': '2',\n",
       "     'side': 'long',\n",
       "     'symbol': 'AMD',\n",
       "     'unrealized_intraday_pl': '-5.22',\n",
       "     'unrealized_intraday_plpc': '-0.0490693739424704',\n",
       "     'unrealized_pl': '-7.0799',\n",
       "     'unrealized_plpc': '-0.0654093361135773'})]"
      ]
     },
     "execution_count": 8,
     "metadata": {},
     "output_type": "execute_result"
    }
   ],
   "source": [
    "assetlist"
   ]
  },
  {
   "cell_type": "code",
   "execution_count": 9,
   "metadata": {},
   "outputs": [
    {
     "data": {
      "text/plain": [
       "'2020-05-27'"
      ]
     },
     "execution_count": 9,
     "metadata": {},
     "output_type": "execute_result"
    }
   ],
   "source": [
    "startdate = datetime.datetime.today().strftime(\"%Y-%m-%d\")\n",
    "startdate"
   ]
  },
  {
   "cell_type": "code",
   "execution_count": 10,
   "metadata": {},
   "outputs": [],
   "source": [
    "#make sure to import these packages\n",
    "from pandas import DataFrame\n",
    "import talib.abstract as tab\n",
    "#abstract automatically extracts the columns and periods from the data itself, no input required\n",
    "\n",
    "\n",
    "\n",
    "#feel free to add or subtract more indicators for any other strategy you want to use\n",
    "def populateindicators(dataframe) -> DataFrame:\n",
    "        #exponential moving averages\n",
    "        dataframe['ema_high'] = tab.EMA(dataframe, timeperiod=4, price='high')\n",
    "        dataframe['ema_close'] = tab.EMA(dataframe, timeperiod=4, price='close')\n",
    "        dataframe['ema_low'] = tab.EMA(dataframe, timeperiod=4, price='low')\n",
    "        \n",
    "        dataframe['dema_close'] = tab.DEMA(dataframe, timeperiod=4, price='close')\n",
    "        dataframe['sema_high'] = tab.EMA(dataframe, timeperiod=10, price='high')\n",
    "        dataframe['sema_close'] = tab.EMA(dataframe, timeperiod=10, price='close')\n",
    "        dataframe['sema_low'] = tab.EMA(dataframe, timeperiod=10, price='low')\n",
    "        \n",
    "        \n",
    "        dataframe['chaikosc'] = ta.ADOSC(dataframe['high'],dataframe['low'],dataframe['close'], np.asarray(dataframe['volume'], dtype='float'))\n",
    "        \n",
    "        dataframe['mfi'] = ta.MFI(dataframe['high'],dataframe['low'],dataframe['close'], np.asarray(dataframe['volume'], dtype='float'), timeperiod=14)\n",
    "        dataframe['ultosc'] = ta.ULTOSC(dataframe['high'],dataframe['low'],dataframe['close'])\n",
    "        dataframe['obv'] = ta.OBV(dataframe['close'], np.asarray(dataframe['volume'], dtype='float'))\n",
    "        \n",
    "        \n",
    "        dataframe['minusdi'] = tab.MINUS_DI(dataframe, timeperiod=14)\n",
    "        dataframe['plusdi'] = tab.PLUS_DI(dataframe, timeperiod=14)\n",
    "        \n",
    "        dataframe['longminusdi'] = tab.MINUS_DI(dataframe, timeperiod=35)\n",
    "        dataframe['longplusdi'] = tab.PLUS_DI(dataframe, timeperiod=35)\n",
    "        \n",
    "        \n",
    "        dataframe['emaminussdi'] = ta.MINUS_DI(dataframe['ema_high'],dataframe['ema_low'],dataframe['ema_close'])\n",
    "        dataframe['emaplusdi'] = ta.PLUS_DI(dataframe['ema_high'],dataframe['ema_low'],dataframe['ema_close'])\n",
    "        dataframe['emaadx'] = ta.ADX(dataframe['ema_high'],dataframe['ema_low'],dataframe['ema_close'])\n",
    "        \n",
    "        \n",
    "        dataframe['srsi'] = tab.RSI(dataframe, timeperiod=20, price='close')\n",
    "        #srsi used for finding buys at 71\n",
    "        \n",
    "        #dataframe['macd'],dataframe['macdsig'],dataframe['hist']\n",
    "        \n",
    "        \n",
    "        dataframe['rsi'] = tab.RSI(dataframe, timeperiod=14, price='close')\n",
    "        dataframe['adx'] = tab.ADX(dataframe)\n",
    "        dataframe['shortadx'] = tab.ADX(dataframe, timeperiod=10)\n",
    "        dataframe['srsi'] = tab.RSI(dataframe, timeperiod=3, price='close')\n",
    "        dataframe[\"upperband\"], dataframe[\"middleband\"], dataframe[\"lowerband\"] = ta.BBANDS(dataframe['close'],  nbdevup=1.5, nbdevdn=1.5)\n",
    "        \n",
    "        dataframe['ema_ultosc'] = ta.ULTOSC(dataframe['ema_high'],dataframe['ema_low'],dataframe['ema_close'])\n",
    "        dataframe['ema_rsi'] = ta.RSI(dataframe['ema_close'], timeperiod=3)\n",
    "        dataframe['fema_rsi'] = ta.RSI(dataframe['ema_close'], timeperiod=2)\n",
    "        dataframe['sema_rsi'] = ta.RSI(dataframe['ema_close'], timeperiod=6)\n",
    "        \n",
    "        \n",
    "        dataframe['beta'] = tab.BETA(dataframe)\n",
    "        \n",
    "        \n",
    "        dataframe['adxcross1'] =crossed_above(dataframe['adx'],17)\n",
    "        dataframe['adxcross2'] =crossed_above(dataframe['adx'],27)\n",
    "        dataframe['adxcross3'] =crossed_above(dataframe['adx'],35)\n",
    "        \n",
    "        # required for graphing\n",
    "\n",
    "        return dataframe"
   ]
  },
  {
   "cell_type": "code",
   "execution_count": 11,
   "metadata": {},
   "outputs": [
    {
     "data": {
      "text/plain": [
       "50"
      ]
     },
     "execution_count": 11,
     "metadata": {},
     "output_type": "execute_result"
    }
   ],
   "source": [
    "len(api.list_orders(status='closed'))"
   ]
  },
  {
   "cell_type": "code",
   "execution_count": 12,
   "metadata": {},
   "outputs": [
    {
     "name": "stdout",
     "output_type": "stream",
     "text": [
      "ACTIVE\n"
     ]
    }
   ],
   "source": [
    "account = api.get_account()\n",
    "print(account.status)\n"
   ]
  },
  {
   "cell_type": "code",
   "execution_count": 153,
   "metadata": {},
   "outputs": [],
   "source": [
    "#list of symbols to look at \n",
    "# DRI CLX "
   ]
  },
  {
   "cell_type": "code",
   "execution_count": 154,
   "metadata": {},
   "outputs": [],
   "source": [
    "symbol ='CDW'\n",
    "#returned_data=api.polygon.historic_agg_v2('GOOG', 1, 'minute', _from='2020-01-10', to='2020-01-20').df\n",
    "#returned_data =api.polygon.historic_agg_v2(symbol, 1, 'minute',_from='2020-04-27', to='2020-05-04').df\n",
    "returned_data =api.polygon.historic_agg_v2(symbol, 1, 'minute',_from=startdate, to=startdate).df#\n",
    "#returned_data=api.polygon.historic_agg_v2('UAL', 1, 'minute', _from='2020-05-13', to='2020-05-13').df\n",
    "#returned_data=api.polygon.historic_agg_v2('XOM', 1, 'minute', _from='2020-05-11', to='2020-05-13').df\n",
    "\n",
    "\n",
    "# Calculated trading indicators\n",
    "data=populateindicators(returned_data)"
   ]
  },
  {
   "cell_type": "code",
   "execution_count": 155,
   "metadata": {},
   "outputs": [],
   "source": [
    "asksizelist=[]\n",
    "bidsizelist=[]\n",
    "timestamplist=[]"
   ]
  },
  {
   "cell_type": "code",
   "execution_count": 156,
   "metadata": {},
   "outputs": [
    {
     "data": {
      "text/plain": [
       "Quote({   'askexchange': 19,\n",
       "    'askprice': 49.78,\n",
       "    'asksize': 3,\n",
       "    'bidexchange': 19,\n",
       "    'bidprice': 49.77,\n",
       "    'bidsize': 6,\n",
       "    'timestamp': 1590592192164})"
      ]
     },
     "execution_count": 156,
     "metadata": {},
     "output_type": "execute_result"
    }
   ],
   "source": [
    "api.polygon.last_quote('AMD')"
   ]
  },
  {
   "cell_type": "code",
   "execution_count": 167,
   "metadata": {},
   "outputs": [],
   "source": [
    "import statistics as sts"
   ]
  },
  {
   "cell_type": "code",
   "execution_count": 674,
   "metadata": {},
   "outputs": [],
   "source": [
    "quotes=api.polygon.historic_quotes_v2('LBTYA',date=startdate,reverse=True,limit=600)"
   ]
  },
  {
   "cell_type": "code",
   "execution_count": 730,
   "metadata": {},
   "outputs": [],
   "source": [
    "quotesddd=api.polygon.historic_quotes_v2('LBTYA',date=startdate,reverse=True,limit=600).df"
   ]
  },
  {
   "cell_type": "code",
   "execution_count": 675,
   "metadata": {},
   "outputs": [],
   "source": [
    "quotes2=api.polygon.historic_quotes_v2('SGEN',date=startdate,reverse=True,limit=1500)"
   ]
  },
  {
   "cell_type": "code",
   "execution_count": 714,
   "metadata": {},
   "outputs": [
    {
     "data": {
      "text/plain": [
       "Timestamp('2020-05-27 14:36:22.595180271-0400', tz='America/New_York')"
      ]
     },
     "execution_count": 714,
     "metadata": {},
     "output_type": "execute_result"
    }
   ],
   "source": [
    "quotes2[0].sip_timestamp"
   ]
  },
  {
   "cell_type": "code",
   "execution_count": 729,
   "metadata": {},
   "outputs": [
    {
     "data": {
      "text/plain": [
       "Timestamp('2020-05-27 14:35:59.021088031-0400', tz='America/New_York')"
      ]
     },
     "execution_count": 729,
     "metadata": {},
     "output_type": "execute_result"
    }
   ],
   "source": [
    "quotes2[30].sip_timestamp"
   ]
  },
  {
   "cell_type": "code",
   "execution_count": 701,
   "metadata": {},
   "outputs": [],
   "source": [
    "asksizelist=[]\n",
    "bidsizelist=[]\n",
    "timestamplist=[]\n",
    "askpricelist=[]\n",
    "bidpricelist=[]"
   ]
  },
  {
   "cell_type": "code",
   "execution_count": 703,
   "metadata": {},
   "outputs": [],
   "source": [
    "for quote in quotes:\n",
    "    asksizelist.append(quote.ask_size)\n",
    "    bidsizelist.append(quote.bid_size)\n",
    "    bidpricelist.append(quote.bid_price)\n",
    "    askpricelist.append(quote.ask_price)\n",
    "    timestamplist.append(quote.sip_timestamp)"
   ]
  },
  {
   "cell_type": "code",
   "execution_count": 704,
   "metadata": {},
   "outputs": [
    {
     "data": {
      "text/plain": [
       "3765"
      ]
     },
     "execution_count": 704,
     "metadata": {},
     "output_type": "execute_result"
    }
   ],
   "source": [
    "sum(bidsizelist)"
   ]
  },
  {
   "cell_type": "code",
   "execution_count": 705,
   "metadata": {},
   "outputs": [],
   "source": [
    "quotedf=pd.DataFrame({'bidpricelist':bidpricelist,'bidsizelist':bidsizelist,'askpricelist':askpricelist,'asksizelist':asksizelist,'timestamplist':timestamplist})"
   ]
  },
  {
   "cell_type": "code",
   "execution_count": 706,
   "metadata": {},
   "outputs": [
    {
     "data": {
      "text/plain": [
       "4082"
      ]
     },
     "execution_count": 706,
     "metadata": {},
     "output_type": "execute_result"
    }
   ],
   "source": [
    "sum(asksizelist)"
   ]
  },
  {
   "cell_type": "code",
   "execution_count": 707,
   "metadata": {},
   "outputs": [
    {
     "data": {
      "text/plain": [
       "3.5116769993554207"
      ]
     },
     "execution_count": 707,
     "metadata": {},
     "output_type": "execute_result"
    }
   ],
   "source": [
    "sts.stdev(asksizelist)"
   ]
  },
  {
   "cell_type": "code",
   "execution_count": 708,
   "metadata": {},
   "outputs": [
    {
     "data": {
      "text/plain": [
       "21.06"
      ]
     },
     "execution_count": 708,
     "metadata": {},
     "output_type": "execute_result"
    }
   ],
   "source": [
    "sts.median_low(bidpricelist)"
   ]
  },
  {
   "cell_type": "code",
   "execution_count": 709,
   "metadata": {},
   "outputs": [
    {
     "data": {
      "text/plain": [
       "21.07"
      ]
     },
     "execution_count": 709,
     "metadata": {},
     "output_type": "execute_result"
    }
   ],
   "source": [
    "sts.median_high(askpricelist)"
   ]
  },
  {
   "cell_type": "code",
   "execution_count": 710,
   "metadata": {},
   "outputs": [
    {
     "data": {
      "text/plain": [
       "Timestamp('2020-05-27 14:34:22.580070803-0400', tz='America/New_York')"
      ]
     },
     "execution_count": 710,
     "metadata": {},
     "output_type": "execute_result"
    }
   ],
   "source": [
    "quotes[-1].sip_timestamp"
   ]
  },
  {
   "cell_type": "code",
   "execution_count": 711,
   "metadata": {},
   "outputs": [],
   "source": [
    "with open('SP500_2020Q2SYM.txt', 'r') as f:\n",
    "    symbols= f.read().split('\\n')\n",
    "\n",
    "barTimeframe = \"1Min\" # 1Min, 5Min, 15Min, 1H, 1D\n",
    "assetsToTrade = [x.upper() for x in symbols]\n",
    "positionSizing = 0.01\n",
    "\n",
    "# Tracks position in list of symbols to download \n",
    "assetListLen = len(assetsToTrade)\n"
   ]
  },
  {
   "cell_type": "code",
   "execution_count": 712,
   "metadata": {},
   "outputs": [],
   "source": [
    "quotedf=quotedf.reset_index()"
   ]
  },
  {
   "cell_type": "code",
   "execution_count": 732,
   "metadata": {
    "scrolled": true
   },
   "outputs": [
    {
     "data": {
      "text/html": [
       "\n",
       "        <iframe\n",
       "            width=\"100%\"\n",
       "            height=\"475\"\n",
       "            src=\"http://DESKTOP-ANH9TVB:40000/dtale/iframe/2\"\n",
       "            frameborder=\"0\"\n",
       "            allowfullscreen\n",
       "        ></iframe>\n",
       "        "
      ],
      "text/plain": [
       "<IPython.lib.display.IFrame at 0x1da43df05f8>"
      ]
     },
     "metadata": {},
     "output_type": "display_data"
    },
    {
     "data": {
      "text/plain": []
     },
     "execution_count": 732,
     "metadata": {},
     "output_type": "execute_result"
    },
    {
     "name": "stdout",
     "output_type": "stream",
     "text": [
      "Executing shutdown due to inactivity...\n",
      "Executing shutdown due to inactivity...\n"
     ]
    },
    {
     "name": "stderr",
     "output_type": "stream",
     "text": [
      "2020-05-27 18:09:23,477 - INFO     - Executing shutdown due to inactivity...\n"
     ]
    },
    {
     "name": "stdout",
     "output_type": "stream",
     "text": [
      "Executing shutdown...\n",
      "Executing shutdown...\n"
     ]
    },
    {
     "name": "stderr",
     "output_type": "stream",
     "text": [
      "2020-05-27 18:09:31,494 - INFO     - Executing shutdown...\n"
     ]
    }
   ],
   "source": [
    "# Use Dtale for graphs and inspection and find where the indicators indicate growth\n",
    "import dtale\n",
    "\n",
    "dtale.show(quotesddd, ignore_duplicate=True)\n"
   ]
  },
  {
   "cell_type": "code",
   "execution_count": null,
   "metadata": {},
   "outputs": [],
   "source": []
  },
  {
   "cell_type": "code",
   "execution_count": null,
   "metadata": {},
   "outputs": [],
   "source": []
  },
  {
   "cell_type": "code",
   "execution_count": null,
   "metadata": {},
   "outputs": [],
   "source": []
  },
  {
   "cell_type": "code",
   "execution_count": null,
   "metadata": {},
   "outputs": [],
   "source": []
  },
  {
   "cell_type": "code",
   "execution_count": null,
   "metadata": {},
   "outputs": [],
   "source": []
  },
  {
   "cell_type": "code",
   "execution_count": null,
   "metadata": {},
   "outputs": [],
   "source": []
  },
  {
   "cell_type": "code",
   "execution_count": null,
   "metadata": {},
   "outputs": [],
   "source": []
  },
  {
   "cell_type": "code",
   "execution_count": null,
   "metadata": {},
   "outputs": [],
   "source": []
  },
  {
   "cell_type": "code",
   "execution_count": null,
   "metadata": {},
   "outputs": [],
   "source": []
  },
  {
   "cell_type": "code",
   "execution_count": null,
   "metadata": {},
   "outputs": [],
   "source": []
  },
  {
   "cell_type": "code",
   "execution_count": null,
   "metadata": {},
   "outputs": [],
   "source": []
  },
  {
   "cell_type": "code",
   "execution_count": null,
   "metadata": {},
   "outputs": [],
   "source": []
  },
  {
   "cell_type": "code",
   "execution_count": null,
   "metadata": {},
   "outputs": [],
   "source": []
  },
  {
   "cell_type": "code",
   "execution_count": null,
   "metadata": {},
   "outputs": [],
   "source": []
  },
  {
   "cell_type": "code",
   "execution_count": null,
   "metadata": {},
   "outputs": [],
   "source": []
  },
  {
   "cell_type": "code",
   "execution_count": null,
   "metadata": {},
   "outputs": [],
   "source": []
  }
 ],
 "metadata": {
  "kernelspec": {
   "display_name": "Python 3",
   "language": "python",
   "name": "python3"
  },
  "language_info": {
   "codemirror_mode": {
    "name": "ipython",
    "version": 3
   },
   "file_extension": ".py",
   "mimetype": "text/x-python",
   "name": "python",
   "nbconvert_exporter": "python",
   "pygments_lexer": "ipython3",
   "version": "3.6.5"
  }
 },
 "nbformat": 4,
 "nbformat_minor": 4
}
