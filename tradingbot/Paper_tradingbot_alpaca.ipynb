{
 "cells": [
  {
   "cell_type": "code",
   "execution_count": 1,
   "metadata": {},
   "outputs": [],
   "source": [
    "import datetime\n",
    "import numpy as np\n",
    "import talib as ta\n",
    "import alpaca_trade_api as tradeapi\n",
    "import time\n",
    "import sys\n",
    "sys.path.insert(0, '../')\n",
    "\n"
   ]
  },
  {
   "cell_type": "code",
   "execution_count": 2,
   "metadata": {},
   "outputs": [],
   "source": [
    "from config_paper import key_id, secret_key\n",
    "from cross_signal import *"
   ]
  },
  {
   "cell_type": "code",
   "execution_count": 3,
   "metadata": {},
   "outputs": [],
   "source": [
    "#The url at the end is what makes a paper trading bot\n",
    "base_url='https://paper-api.alpaca.markets'\n",
    "api = tradeapi.REST(key_id, secret_key,base_url )"
   ]
  },
  {
   "cell_type": "code",
   "execution_count": 4,
   "metadata": {},
   "outputs": [
    {
     "data": {
      "text/plain": [
       "'2020-04-28'"
      ]
     },
     "execution_count": 4,
     "metadata": {},
     "output_type": "execute_result"
    }
   ],
   "source": [
    "startdate = datetime.datetime.today().strftime(\"%Y-%m-%d\")\n",
    "startdate"
   ]
  },
  {
   "cell_type": "code",
   "execution_count": 5,
   "metadata": {},
   "outputs": [],
   "source": [
    "#make sure to import these packages\n",
    "from pandas import DataFrame\n",
    "import talib.abstract as tab\n",
    "#abstract automatically extracts the columns and periods from the data itself, no input required\n",
    "\n",
    "\n",
    "\n",
    "#feel free to add or subtract more indicators for any other strategy you want to use\n",
    "def populateindicators(dataframe) -> DataFrame:\n",
    "        #exponential moving averages\n",
    "        dataframe['ema_high'] = tab.EMA(dataframe, timeperiod=10, price='high')\n",
    "        dataframe['ema_close'] = tab.EMA(dataframe, timeperiod=10, price='close')\n",
    "        dataframe['ema_low'] = tab.EMA(dataframe, timeperiod=10, price='low')\n",
    "        \n",
    "        \n",
    "        dataframe['mfi'] = ta.MFI(dataframe['high'],dataframe['low'],dataframe['close'], np.asarray(dataframe['volume'], dtype='float'), timeperiod=14)\n",
    "        dataframe['ultosc'] = ta.ULTOSC(dataframe['high'],dataframe['low'],dataframe['close'])\n",
    "        dataframe['adosc'] = ta.ADOSC(dataframe['high'],dataframe['low'],dataframe['close'], np.asarray(dataframe['volume'], dtype='float'))\n",
    "        \n",
    "        \n",
    "        dataframe['minusdi'] = tab.MINUS_DI(dataframe, timeperiod=14)\n",
    "        dataframe['plusdi'] = tab.PLUS_DI(dataframe, timeperiod=14)\n",
    "        \n",
    "        dataframe['rsi'] = tab.RSI(dataframe, timeperiod=20, price='close')\n",
    "        stoch_fast = tab.STOCHF(dataframe, 10.0, 3.0, 0.0, 3.0, 0.0)\n",
    "        dataframe['fastd'] = stoch_fast['fastd']\n",
    "        dataframe['fastk'] = stoch_fast['fastk']\n",
    "        dataframe['adx'] = tab.ADX(dataframe)\n",
    "        dataframe['cci'] = tab.CCI(dataframe)\n",
    "        # required for graphing\n",
    "\n",
    "        return dataframe"
   ]
  },
  {
   "cell_type": "code",
   "execution_count": 6,
   "metadata": {},
   "outputs": [
    {
     "name": "stdout",
     "output_type": "stream",
     "text": [
      "ACTIVE\n"
     ]
    },
    {
     "data": {
      "text/plain": [
       "'93286.52'"
      ]
     },
     "execution_count": 6,
     "metadata": {},
     "output_type": "execute_result"
    }
   ],
   "source": [
    "account = api.get_account()\n",
    "print(account.status)\n",
    "account.buying_power"
   ]
  },
  {
   "cell_type": "code",
   "execution_count": 7,
   "metadata": {},
   "outputs": [],
   "source": [
    "with open('SP500_2020Q2SYM.txt', 'r') as f:\n",
    "    symbols= f.read().split('\\n')"
   ]
  },
  {
   "cell_type": "code",
   "execution_count": 8,
   "metadata": {},
   "outputs": [],
   "source": [
    "barTimeframe = \"1Min\" # 1Min, 5Min, 15Min, 1H, 1D\n",
    "assetsToTrade = [x.upper() for x in symbols]\n",
    "positionSizing = 0.10\n",
    "\n",
    "# Tracks position in list of symbols to download \n",
    "assetListLen = len(assetsToTrade)\n"
   ]
  },
  {
   "cell_type": "markdown",
   "metadata": {},
   "source": [
    "# Bar get with alpaca"
   ]
  },
  {
   "cell_type": "code",
   "execution_count": null,
   "metadata": {},
   "outputs": [
    {
     "name": "stderr",
     "output_type": "stream",
     "text": [
      "C:\\Users\\Jeffrey Wang\\Anaconda3\\lib\\site-packages\\ipykernel_launcher.py:11: SettingWithCopyWarning: \n",
      "A value is trying to be set on a copy of a slice from a DataFrame.\n",
      "Try using .loc[row_indexer,col_indexer] = value instead\n",
      "\n",
      "See the caveats in the documentation: https://pandas.pydata.org/pandas-docs/stable/user_guide/indexing.html#returning-a-view-versus-a-copy\n",
      "  # This is added back by InteractiveShellApp.init_path()\n",
      "C:\\Users\\Jeffrey Wang\\Anaconda3\\lib\\site-packages\\ipykernel_launcher.py:12: SettingWithCopyWarning: \n",
      "A value is trying to be set on a copy of a slice from a DataFrame.\n",
      "Try using .loc[row_indexer,col_indexer] = value instead\n",
      "\n",
      "See the caveats in the documentation: https://pandas.pydata.org/pandas-docs/stable/user_guide/indexing.html#returning-a-view-versus-a-copy\n",
      "  if sys.path[0] == '':\n",
      "C:\\Users\\Jeffrey Wang\\Anaconda3\\lib\\site-packages\\ipykernel_launcher.py:13: SettingWithCopyWarning: \n",
      "A value is trying to be set on a copy of a slice from a DataFrame.\n",
      "Try using .loc[row_indexer,col_indexer] = value instead\n",
      "\n",
      "See the caveats in the documentation: https://pandas.pydata.org/pandas-docs/stable/user_guide/indexing.html#returning-a-view-versus-a-copy\n",
      "  del sys.path[0]\n",
      "C:\\Users\\Jeffrey Wang\\Anaconda3\\lib\\site-packages\\ipykernel_launcher.py:16: SettingWithCopyWarning: \n",
      "A value is trying to be set on a copy of a slice from a DataFrame.\n",
      "Try using .loc[row_indexer,col_indexer] = value instead\n",
      "\n",
      "See the caveats in the documentation: https://pandas.pydata.org/pandas-docs/stable/user_guide/indexing.html#returning-a-view-versus-a-copy\n",
      "  app.launch_new_instance()\n",
      "C:\\Users\\Jeffrey Wang\\Anaconda3\\lib\\site-packages\\ipykernel_launcher.py:17: SettingWithCopyWarning: \n",
      "A value is trying to be set on a copy of a slice from a DataFrame.\n",
      "Try using .loc[row_indexer,col_indexer] = value instead\n",
      "\n",
      "See the caveats in the documentation: https://pandas.pydata.org/pandas-docs/stable/user_guide/indexing.html#returning-a-view-versus-a-copy\n",
      "C:\\Users\\Jeffrey Wang\\Anaconda3\\lib\\site-packages\\ipykernel_launcher.py:18: SettingWithCopyWarning: \n",
      "A value is trying to be set on a copy of a slice from a DataFrame.\n",
      "Try using .loc[row_indexer,col_indexer] = value instead\n",
      "\n",
      "See the caveats in the documentation: https://pandas.pydata.org/pandas-docs/stable/user_guide/indexing.html#returning-a-view-versus-a-copy\n",
      "C:\\Users\\Jeffrey Wang\\Anaconda3\\lib\\site-packages\\ipykernel_launcher.py:21: SettingWithCopyWarning: \n",
      "A value is trying to be set on a copy of a slice from a DataFrame.\n",
      "Try using .loc[row_indexer,col_indexer] = value instead\n",
      "\n",
      "See the caveats in the documentation: https://pandas.pydata.org/pandas-docs/stable/user_guide/indexing.html#returning-a-view-versus-a-copy\n",
      "C:\\Users\\Jeffrey Wang\\Anaconda3\\lib\\site-packages\\ipykernel_launcher.py:22: SettingWithCopyWarning: \n",
      "A value is trying to be set on a copy of a slice from a DataFrame.\n",
      "Try using .loc[row_indexer,col_indexer] = value instead\n",
      "\n",
      "See the caveats in the documentation: https://pandas.pydata.org/pandas-docs/stable/user_guide/indexing.html#returning-a-view-versus-a-copy\n",
      "C:\\Users\\Jeffrey Wang\\Anaconda3\\lib\\site-packages\\ipykernel_launcher.py:24: SettingWithCopyWarning: \n",
      "A value is trying to be set on a copy of a slice from a DataFrame.\n",
      "Try using .loc[row_indexer,col_indexer] = value instead\n",
      "\n",
      "See the caveats in the documentation: https://pandas.pydata.org/pandas-docs/stable/user_guide/indexing.html#returning-a-view-versus-a-copy\n",
      "C:\\Users\\Jeffrey Wang\\Anaconda3\\lib\\site-packages\\ipykernel_launcher.py:26: SettingWithCopyWarning: \n",
      "A value is trying to be set on a copy of a slice from a DataFrame.\n",
      "Try using .loc[row_indexer,col_indexer] = value instead\n",
      "\n",
      "See the caveats in the documentation: https://pandas.pydata.org/pandas-docs/stable/user_guide/indexing.html#returning-a-view-versus-a-copy\n",
      "C:\\Users\\Jeffrey Wang\\Anaconda3\\lib\\site-packages\\ipykernel_launcher.py:27: SettingWithCopyWarning: \n",
      "A value is trying to be set on a copy of a slice from a DataFrame.\n",
      "Try using .loc[row_indexer,col_indexer] = value instead\n",
      "\n",
      "See the caveats in the documentation: https://pandas.pydata.org/pandas-docs/stable/user_guide/indexing.html#returning-a-view-versus-a-copy\n",
      "C:\\Users\\Jeffrey Wang\\Anaconda3\\lib\\site-packages\\ipykernel_launcher.py:28: SettingWithCopyWarning: \n",
      "A value is trying to be set on a copy of a slice from a DataFrame.\n",
      "Try using .loc[row_indexer,col_indexer] = value instead\n",
      "\n",
      "See the caveats in the documentation: https://pandas.pydata.org/pandas-docs/stable/user_guide/indexing.html#returning-a-view-versus-a-copy\n",
      "C:\\Users\\Jeffrey Wang\\Anaconda3\\lib\\site-packages\\ipykernel_launcher.py:29: SettingWithCopyWarning: \n",
      "A value is trying to be set on a copy of a slice from a DataFrame.\n",
      "Try using .loc[row_indexer,col_indexer] = value instead\n",
      "\n",
      "See the caveats in the documentation: https://pandas.pydata.org/pandas-docs/stable/user_guide/indexing.html#returning-a-view-versus-a-copy\n"
     ]
    },
    {
     "name": "stdout",
     "output_type": "stream",
     "text": [
      "Buy  Order({   'asset_class': 'us_equity',\n",
      "    'asset_id': '419e89a6-efe2-4773-ba4f-1bf5dca33cb2',\n",
      "    'canceled_at': None,\n",
      "    'client_order_id': 'cc0aeaf6-4498-4be3-9698-7b07c68214e7',\n",
      "    'created_at': '2020-04-28T15:59:11.271329Z',\n",
      "    'expired_at': None,\n",
      "    'extended_hours': False,\n",
      "    'failed_at': None,\n",
      "    'filled_at': None,\n",
      "    'filled_avg_price': None,\n",
      "    'filled_qty': '0',\n",
      "    'id': 'b5f015d0-f699-4f2e-923c-37495604c219',\n",
      "    'legs': None,\n",
      "    'limit_price': None,\n",
      "    'order_class': '',\n",
      "    'order_type': 'market',\n",
      "    'qty': '7',\n",
      "    'replaced_at': None,\n",
      "    'replaced_by': None,\n",
      "    'replaces': None,\n",
      "    'side': 'buy',\n",
      "    'status': 'accepted',\n",
      "    'stop_price': None,\n",
      "    'submitted_at': '2020-04-28T15:59:11.254056Z',\n",
      "    'symbol': 'BDX',\n",
      "    'time_in_force': 'day',\n",
      "    'type': 'market',\n",
      "    'updated_at': '2020-04-28T15:59:11.271329Z'})\n",
      "BRKB\n",
      "BFB\n",
      "CMS 34\n",
      "DISCA\n",
      "DG 11\n",
      "ES 23\n",
      "Buy  Order({   'asset_class': 'us_equity',\n",
      "    'asset_id': '09192535-21d6-42cf-903d-4abd88f91cad',\n",
      "    'canceled_at': None,\n",
      "    'client_order_id': '2015d764-bc6c-44b3-a072-83768bb271e5',\n",
      "    'created_at': '2020-04-28T15:59:37.520985Z',\n",
      "    'expired_at': None,\n",
      "    'extended_hours': False,\n",
      "    'failed_at': None,\n",
      "    'filled_at': None,\n",
      "    'filled_avg_price': None,\n",
      "    'filled_qty': '0',\n",
      "    'id': '423504e8-0c51-4b8a-9cdf-a6d03a950ba9',\n",
      "    'legs': None,\n",
      "    'limit_price': None,\n",
      "    'order_class': '',\n",
      "    'order_type': 'market',\n",
      "    'qty': '14',\n",
      "    'replaced_at': None,\n",
      "    'replaced_by': None,\n",
      "    'replaces': None,\n",
      "    'side': 'buy',\n",
      "    'status': 'accepted',\n",
      "    'stop_price': None,\n",
      "    'submitted_at': '2020-04-28T15:59:37.496643Z',\n",
      "    'symbol': 'FFIV',\n",
      "    'time_in_force': 'day',\n",
      "    'type': 'market',\n",
      "    'updated_at': '2020-04-28T15:59:37.520985Z'})\n",
      "MKTK\n",
      "MTD 2\n",
      "PM 25\n",
      "Buy  Order({   'asset_class': 'us_equity',\n",
      "    'asset_id': '152daa56-fc67-4627-b283-89405b4360fb',\n",
      "    'canceled_at': None,\n",
      "    'client_order_id': '4845eb46-4633-4698-8ec9-8b367352f61f',\n",
      "    'created_at': '2020-04-28T16:00:52.864303Z',\n",
      "    'expired_at': None,\n",
      "    'extended_hours': False,\n",
      "    'failed_at': None,\n",
      "    'filled_at': None,\n",
      "    'filled_avg_price': None,\n",
      "    'filled_qty': '0',\n",
      "    'id': 'ce7a9926-1638-4e45-98c8-77a110ddec22',\n",
      "    'legs': None,\n",
      "    'limit_price': None,\n",
      "    'order_class': '',\n",
      "    'order_type': 'market',\n",
      "    'qty': '30',\n",
      "    'replaced_at': None,\n",
      "    'replaced_by': None,\n",
      "    'replaces': None,\n",
      "    'side': 'buy',\n",
      "    'status': 'accepted',\n",
      "    'stop_price': None,\n",
      "    'submitted_at': '2020-04-28T16:00:52.838495Z',\n",
      "    'symbol': 'XEL',\n",
      "    'time_in_force': 'day',\n",
      "    'type': 'market',\n",
      "    'updated_at': '2020-04-28T16:00:52.864303Z'})\n",
      "\n",
      "BRKB\n",
      "BFB\n",
      "DISCA\n",
      "ES 23\n",
      "MKTK\n",
      "MTD 2\n",
      "PM 25\n",
      "Buy  Order({   'asset_class': 'us_equity',\n",
      "    'asset_id': 'a54066ec-ebb0-4d1e-b7cf-cd84298515ec',\n",
      "    'canceled_at': None,\n",
      "    'client_order_id': 'fb10ef1a-022a-4e07-b8d3-b198175b3dd9',\n",
      "    'created_at': '2020-04-28T16:02:58.138375Z',\n",
      "    'expired_at': None,\n",
      "    'extended_hours': False,\n",
      "    'failed_at': None,\n",
      "    'filled_at': None,\n",
      "    'filled_avg_price': None,\n",
      "    'filled_qty': '0',\n",
      "    'id': '1b38f9af-6a49-43be-95b8-cb2ee55adce8',\n",
      "    'legs': None,\n",
      "    'limit_price': None,\n",
      "    'order_class': '',\n",
      "    'order_type': 'market',\n",
      "    'qty': '34',\n",
      "    'replaced_at': None,\n",
      "    'replaced_by': None,\n",
      "    'replaces': None,\n",
      "    'side': 'buy',\n",
      "    'status': 'accepted',\n",
      "    'stop_price': None,\n",
      "    'submitted_at': '2020-04-28T16:02:58.0449Z',\n",
      "    'symbol': 'VZ',\n",
      "    'time_in_force': 'day',\n",
      "    'type': 'market',\n",
      "    'updated_at': '2020-04-28T16:02:58.138375Z'})\n",
      "XEL 30\n",
      "\n",
      "Buy  Order({   'asset_class': 'us_equity',\n",
      "    'asset_id': '4eb91cfa-4f8b-4df5-acb7-2f3434fa283f',\n",
      "    'canceled_at': None,\n",
      "    'client_order_id': '9a172df0-29b7-4dad-b3a3-9d6ab8a49d41',\n",
      "    'created_at': '2020-04-28T16:03:31.901163Z',\n",
      "    'expired_at': None,\n",
      "    'extended_hours': False,\n",
      "    'failed_at': None,\n",
      "    'filled_at': None,\n",
      "    'filled_avg_price': None,\n",
      "    'filled_qty': '0',\n",
      "    'id': 'dce0b6bc-4375-44f5-b800-d41f58866632',\n",
      "    'legs': None,\n",
      "    'limit_price': None,\n",
      "    'order_class': '',\n",
      "    'order_type': 'market',\n",
      "    'qty': '49',\n",
      "    'replaced_at': None,\n",
      "    'replaced_by': None,\n",
      "    'replaces': None,\n",
      "    'side': 'buy',\n",
      "    'status': 'accepted',\n",
      "    'stop_price': None,\n",
      "    'submitted_at': '2020-04-28T16:03:31.847143Z',\n",
      "    'symbol': 'MO',\n",
      "    'time_in_force': 'day',\n",
      "    'type': 'market',\n",
      "    'updated_at': '2020-04-28T16:03:31.901163Z'})\n",
      "BRKB\n",
      "BFB\n",
      "MKTK\n",
      "MTD 2\n"
     ]
    },
    {
     "name": "stderr",
     "output_type": "stream",
     "text": [
      "sleep 3 seconds and retrying https://data.alpaca.markets/v1/bars/1Min 3 more time(s)...\n"
     ]
    },
    {
     "name": "stdout",
     "output_type": "stream",
     "text": [
      "PM 25\n",
      "Buy  Order({   'asset_class': 'us_equity',\n",
      "    'asset_id': 'faae2345-5020-4dd1-aa4f-e1ac3f6419ba',\n",
      "    'canceled_at': None,\n",
      "    'client_order_id': '83c1403d-2405-43bb-b091-f64e4b058be6',\n",
      "    'created_at': '2020-04-28T16:04:48.395875Z',\n",
      "    'expired_at': None,\n",
      "    'extended_hours': False,\n",
      "    'failed_at': None,\n",
      "    'filled_at': None,\n",
      "    'filled_avg_price': None,\n",
      "    'filled_qty': '0',\n",
      "    'id': '9c045dc3-dae6-4731-9b6c-b5f7acc3186b',\n",
      "    'legs': None,\n",
      "    'limit_price': None,\n",
      "    'order_class': '',\n",
      "    'order_type': 'market',\n",
      "    'qty': '25',\n",
      "    'replaced_at': None,\n",
      "    'replaced_by': None,\n",
      "    'replaces': None,\n",
      "    'side': 'buy',\n",
      "    'status': 'accepted',\n",
      "    'stop_price': None,\n",
      "    'submitted_at': '2020-04-28T16:04:48.337854Z',\n",
      "    'symbol': 'PNW',\n",
      "    'time_in_force': 'day',\n",
      "    'type': 'market',\n",
      "    'updated_at': '2020-04-28T16:04:48.395875Z'})\n"
     ]
    },
    {
     "name": "stderr",
     "output_type": "stream",
     "text": [
      "sleep 3 seconds and retrying https://data.alpaca.markets/v1/bars/1Min 3 more time(s)...\n",
      "sleep 3 seconds and retrying https://data.alpaca.markets/v1/bars/1Min 3 more time(s)...\n",
      "sleep 3 seconds and retrying https://data.alpaca.markets/v1/bars/1Min 3 more time(s)...\n"
     ]
    },
    {
     "name": "stdout",
     "output_type": "stream",
     "text": [
      "XEL 30\n",
      "\n",
      "MO 49\n",
      "BRKB\n",
      "BFB\n"
     ]
    },
    {
     "name": "stderr",
     "output_type": "stream",
     "text": [
      "sleep 3 seconds and retrying https://data.alpaca.markets/v1/bars/1Min 3 more time(s)...\n",
      "sleep 3 seconds and retrying https://data.alpaca.markets/v1/bars/1Min 3 more time(s)...\n"
     ]
    },
    {
     "name": "stdout",
     "output_type": "stream",
     "text": [
      "MKTK\n",
      "MTD 2\n"
     ]
    },
    {
     "name": "stderr",
     "output_type": "stream",
     "text": [
      "sleep 3 seconds and retrying https://data.alpaca.markets/v1/bars/1Min 3 more time(s)...\n",
      "sleep 3 seconds and retrying https://data.alpaca.markets/v1/bars/1Min 3 more time(s)...\n"
     ]
    },
    {
     "name": "stdout",
     "output_type": "stream",
     "text": [
      "PNW 25\n",
      "Buy  Order({   'asset_class': 'us_equity',\n",
      "    'asset_id': 'f81a406b-a53c-4ea5-ab05-6fb92bfc6bd7',\n",
      "    'canceled_at': None,\n",
      "    'client_order_id': 'c277f795-543b-4b99-ae33-0f643b90bb74',\n",
      "    'created_at': '2020-04-28T16:07:22.051682Z',\n",
      "    'expired_at': None,\n",
      "    'extended_hours': False,\n",
      "    'failed_at': None,\n",
      "    'filled_at': None,\n",
      "    'filled_avg_price': None,\n",
      "    'filled_qty': '0',\n",
      "    'id': '5fb3c3df-9d1d-4de1-99e8-c8f174611d31',\n",
      "    'legs': None,\n",
      "    'limit_price': None,\n",
      "    'order_class': '',\n",
      "    'order_type': 'market',\n",
      "    'qty': '17',\n",
      "    'replaced_at': None,\n",
      "    'replaced_by': None,\n",
      "    'replaces': None,\n",
      "    'side': 'buy',\n",
      "    'status': 'accepted',\n",
      "    'stop_price': None,\n",
      "    'submitted_at': '2020-04-28T16:07:22.027948Z',\n",
      "    'symbol': 'PG',\n",
      "    'time_in_force': 'day',\n",
      "    'type': 'market',\n",
      "    'updated_at': '2020-04-28T16:07:22.051682Z'})\n"
     ]
    },
    {
     "name": "stderr",
     "output_type": "stream",
     "text": [
      "sleep 3 seconds and retrying https://data.alpaca.markets/v1/bars/1Min 3 more time(s)...\n",
      "sleep 3 seconds and retrying https://data.alpaca.markets/v1/bars/1Min 3 more time(s)...\n",
      "sleep 3 seconds and retrying https://data.alpaca.markets/v1/bars/1Min 3 more time(s)...\n"
     ]
    },
    {
     "name": "stdout",
     "output_type": "stream",
     "text": [
      "\n",
      "BRKB\n",
      "BFB\n"
     ]
    },
    {
     "name": "stderr",
     "output_type": "stream",
     "text": [
      "sleep 3 seconds and retrying https://data.alpaca.markets/v1/bars/1Min 3 more time(s)...\n",
      "sleep 3 seconds and retrying https://data.alpaca.markets/v1/bars/1Min 3 more time(s)...\n"
     ]
    },
    {
     "name": "stdout",
     "output_type": "stream",
     "text": [
      "MKTK\n",
      "MTD 2\n"
     ]
    },
    {
     "name": "stderr",
     "output_type": "stream",
     "text": [
      "sleep 3 seconds and retrying https://data.alpaca.markets/v1/bars/1Min 3 more time(s)...\n",
      "sleep 3 seconds and retrying https://data.alpaca.markets/v1/bars/1Min 3 more time(s)...\n",
      "sleep 3 seconds and retrying https://data.alpaca.markets/v1/bars/1Min 3 more time(s)...\n",
      "sleep 3 seconds and retrying https://data.alpaca.markets/v1/bars/1Min 3 more time(s)...\n"
     ]
    },
    {
     "name": "stdout",
     "output_type": "stream",
     "text": [
      "\n",
      "BRKB\n",
      "BFB\n",
      "MKTK\n",
      "MTD 2\n"
     ]
    },
    {
     "name": "stderr",
     "output_type": "stream",
     "text": [
      "sleep 3 seconds and retrying https://data.alpaca.markets/v1/bars/1Min 3 more time(s)...\n",
      "sleep 3 seconds and retrying https://data.alpaca.markets/v1/bars/1Min 3 more time(s)...\n"
     ]
    },
    {
     "name": "stdout",
     "output_type": "stream",
     "text": [
      "SNPS 13\n"
     ]
    },
    {
     "name": "stderr",
     "output_type": "stream",
     "text": [
      "sleep 3 seconds and retrying https://data.alpaca.markets/v1/bars/1Min 3 more time(s)...\n",
      "sleep 3 seconds and retrying https://data.alpaca.markets/v1/bars/1Min 3 more time(s)...\n",
      "sleep 3 seconds and retrying https://data.alpaca.markets/v1/bars/1Min 3 more time(s)...\n"
     ]
    },
    {
     "name": "stdout",
     "output_type": "stream",
     "text": [
      "\n",
      "BRKB\n",
      "BFB\n"
     ]
    },
    {
     "name": "stderr",
     "output_type": "stream",
     "text": [
      "sleep 3 seconds and retrying https://data.alpaca.markets/v1/bars/1Min 3 more time(s)...\n"
     ]
    },
    {
     "name": "stdout",
     "output_type": "stream",
     "text": [
      "MKTK\n"
     ]
    },
    {
     "name": "stderr",
     "output_type": "stream",
     "text": [
      "sleep 3 seconds and retrying https://data.alpaca.markets/v1/bars/1Min 3 more time(s)...\n",
      "sleep 3 seconds and retrying https://data.alpaca.markets/v1/bars/1Min 3 more time(s)...\n"
     ]
    },
    {
     "name": "stdout",
     "output_type": "stream",
     "text": [
      "PRGO\n"
     ]
    },
    {
     "name": "stderr",
     "output_type": "stream",
     "text": [
      "sleep 3 seconds and retrying https://data.alpaca.markets/v1/bars/1Min 3 more time(s)...\n",
      "sleep 3 seconds and retrying https://data.alpaca.markets/v1/bars/1Min 3 more time(s)...\n"
     ]
    },
    {
     "name": "stdout",
     "output_type": "stream",
     "text": [
      "SNPS 13\n"
     ]
    },
    {
     "name": "stderr",
     "output_type": "stream",
     "text": [
      "sleep 3 seconds and retrying https://data.alpaca.markets/v1/bars/1Min 3 more time(s)...\n"
     ]
    },
    {
     "name": "stdout",
     "output_type": "stream",
     "text": [
      "\n",
      "Buy  Order({   'asset_class': 'us_equity',\n",
      "    'asset_id': 'd48dfc03-80c7-4054-a3b1-e41bbfe2a92f',\n",
      "    'canceled_at': None,\n",
      "    'client_order_id': '32cd2fdf-f6c2-46ae-8058-931579c586c3',\n",
      "    'created_at': '2020-04-28T16:16:00.438001Z',\n",
      "    'expired_at': None,\n",
      "    'extended_hours': False,\n",
      "    'failed_at': None,\n",
      "    'filled_at': None,\n",
      "    'filled_avg_price': None,\n",
      "    'filled_qty': '0',\n",
      "    'id': 'fabdd7da-1c4e-49fa-8421-734018be4348',\n",
      "    'legs': None,\n",
      "    'limit_price': None,\n",
      "    'order_class': '',\n",
      "    'order_type': 'market',\n",
      "    'qty': '7',\n",
      "    'replaced_at': None,\n",
      "    'replaced_by': None,\n",
      "    'replaces': None,\n",
      "    'side': 'buy',\n",
      "    'status': 'accepted',\n",
      "    'stop_price': None,\n",
      "    'submitted_at': '2020-04-28T16:16:00.385462Z',\n",
      "    'symbol': 'ANSS',\n",
      "    'time_in_force': 'day',\n",
      "    'type': 'market',\n",
      "    'updated_at': '2020-04-28T16:16:00.438001Z'})\n",
      "BRKB\n",
      "BFB\n",
      "MKTK\n"
     ]
    },
    {
     "name": "stderr",
     "output_type": "stream",
     "text": [
      "sleep 3 seconds and retrying https://data.alpaca.markets/v1/bars/1Min 3 more time(s)...\n",
      "sleep 3 seconds and retrying https://data.alpaca.markets/v1/bars/1Min 3 more time(s)...\n"
     ]
    },
    {
     "name": "stdout",
     "output_type": "stream",
     "text": [
      "SNPS 13\n"
     ]
    },
    {
     "name": "stderr",
     "output_type": "stream",
     "text": [
      "sleep 3 seconds and retrying https://data.alpaca.markets/v1/bars/1Min 3 more time(s)...\n",
      "sleep 3 seconds and retrying https://data.alpaca.markets/v1/bars/1Min 3 more time(s)...\n"
     ]
    },
    {
     "name": "stdout",
     "output_type": "stream",
     "text": [
      "\n",
      "MO 49\n",
      "ANSS 7\n",
      "BRKB\n",
      "BFB\n",
      "Buy  Order({   'asset_class': 'us_equity',\n",
      "    'asset_id': 'a7dd2d26-59d5-4c85-8449-cd0cb975fd98',\n",
      "    'canceled_at': None,\n",
      "    'client_order_id': 'b1cfdaac-5f38-4750-98bb-208297652f0b',\n",
      "    'created_at': '2020-04-28T16:18:48.587125Z',\n",
      "    'expired_at': None,\n",
      "    'extended_hours': False,\n",
      "    'failed_at': None,\n",
      "    'filled_at': None,\n",
      "    'filled_avg_price': None,\n",
      "    'filled_qty': '0',\n",
      "    'id': '1644e200-65ef-49b1-b7cc-1409efe2cc2f',\n",
      "    'legs': None,\n",
      "    'limit_price': None,\n",
      "    'order_class': '',\n",
      "    'order_type': 'market',\n",
      "    'qty': '28',\n",
      "    'replaced_at': None,\n",
      "    'replaced_by': None,\n",
      "    'replaces': None,\n",
      "    'side': 'buy',\n",
      "    'status': 'accepted',\n",
      "    'stop_price': None,\n",
      "    'submitted_at': '2020-04-28T16:18:48.487308Z',\n",
      "    'symbol': 'CL',\n",
      "    'time_in_force': 'day',\n",
      "    'type': 'market',\n",
      "    'updated_at': '2020-04-28T16:18:48.587125Z'})\n",
      "D 25\n",
      "FFIV 14\n",
      "Buy  Order({   'asset_class': 'us_equity',\n",
      "    'asset_id': '8dd27fb6-29cc-43ae-9aae-70edee0e2069',\n",
      "    'canceled_at': None,\n",
      "    'client_order_id': 'e014562f-15ca-4271-8263-562b3cad0e88',\n",
      "    'created_at': '2020-04-28T16:19:07.414659Z',\n",
      "    'expired_at': None,\n",
      "    'extended_hours': False,\n",
      "    'failed_at': None,\n",
      "    'filled_at': None,\n",
      "    'filled_avg_price': None,\n",
      "    'filled_qty': '0',\n",
      "    'id': '1ca53501-0b0c-4c74-a249-907f58916d65',\n",
      "    'legs': None,\n",
      "    'limit_price': None,\n",
      "    'order_class': '',\n",
      "    'order_type': 'market',\n",
      "    'qty': '46',\n",
      "    'replaced_at': None,\n",
      "    'replaced_by': None,\n",
      "    'replaces': None,\n",
      "    'side': 'buy',\n",
      "    'status': 'accepted',\n",
      "    'stop_price': None,\n",
      "    'submitted_at': '2020-04-28T16:19:07.386457Z',\n",
      "    'symbol': 'FE',\n",
      "    'time_in_force': 'day',\n",
      "    'type': 'market',\n",
      "    'updated_at': '2020-04-28T16:19:07.414659Z'})\n",
      "MKTK\n"
     ]
    },
    {
     "name": "stderr",
     "output_type": "stream",
     "text": [
      "sleep 3 seconds and retrying https://data.alpaca.markets/v1/bars/1Min 3 more time(s)...\n"
     ]
    },
    {
     "name": "stdout",
     "output_type": "stream",
     "text": [
      "MSCI 6\n"
     ]
    },
    {
     "name": "stderr",
     "output_type": "stream",
     "text": [
      "sleep 3 seconds and retrying https://data.alpaca.markets/v1/bars/1Min 3 more time(s)...\n",
      "sleep 3 seconds and retrying https://data.alpaca.markets/v1/bars/1Min 3 more time(s)...\n"
     ]
    },
    {
     "name": "stdout",
     "output_type": "stream",
     "text": [
      "SNPS 13\n"
     ]
    },
    {
     "name": "stderr",
     "output_type": "stream",
     "text": [
      "sleep 3 seconds and retrying https://data.alpaca.markets/v1/bars/1Min 3 more time(s)...\n"
     ]
    },
    {
     "name": "stdout",
     "output_type": "stream",
     "text": [
      "\n",
      "AMD 36\n",
      "MO 49\n",
      "ANSS 7\n",
      "Buy  Order({   'asset_class': 'us_equity',\n",
      "    'asset_id': 'ce4833e1-c561-492a-aace-7eb451d09e02',\n",
      "    'canceled_at': None,\n",
      "    'client_order_id': 'be0d9859-02b7-4eda-971d-596c7e5b0351',\n",
      "    'created_at': '2020-04-28T16:21:01.713905Z',\n",
      "    'expired_at': None,\n",
      "    'extended_hours': False,\n",
      "    'failed_at': None,\n",
      "    'filled_at': None,\n",
      "    'filled_avg_price': None,\n",
      "    'filled_qty': '0',\n",
      "    'id': '30f2827d-e3ab-468d-9545-6049d3049b2f',\n",
      "    'legs': None,\n",
      "    'limit_price': None,\n",
      "    'order_class': '',\n",
      "    'order_type': 'market',\n",
      "    'qty': '39',\n",
      "    'replaced_at': None,\n",
      "    'replaced_by': None,\n",
      "    'replaces': None,\n",
      "    'side': 'buy',\n",
      "    'status': 'accepted',\n",
      "    'stop_price': None,\n",
      "    'submitted_at': '2020-04-28T16:21:01.668347Z',\n",
      "    'symbol': 'AMAT',\n",
      "    'time_in_force': 'day',\n",
      "    'type': 'market',\n",
      "    'updated_at': '2020-04-28T16:21:01.713905Z'})\n",
      "BRKB\n",
      "BFB\n",
      "CL 28\n",
      "Buy  Order({   'asset_class': 'us_equity',\n",
      "    'asset_id': '42f7b895-93aa-48d4-909e-6e05ad6bd2ca',\n",
      "    'canceled_at': None,\n",
      "    'client_order_id': '6e0a8cd8-952b-4a2f-9933-bacd7ae834a1',\n",
      "    'created_at': '2020-04-28T16:21:29.258504Z',\n",
      "    'expired_at': None,\n",
      "    'extended_hours': False,\n",
      "    'failed_at': None,\n",
      "    'filled_at': None,\n",
      "    'filled_avg_price': None,\n",
      "    'filled_qty': '0',\n",
      "    'id': '15b5d7d5-5848-4a44-906f-9d9b1f043e74',\n",
      "    'legs': None,\n",
      "    'limit_price': None,\n",
      "    'order_class': '',\n",
      "    'order_type': 'market',\n",
      "    'qty': '22',\n",
      "    'replaced_at': None,\n",
      "    'replaced_by': None,\n",
      "    'replaces': None,\n",
      "    'side': 'buy',\n",
      "    'status': 'accepted',\n",
      "    'stop_price': None,\n",
      "    'submitted_at': '2020-04-28T16:21:29.172518Z',\n",
      "    'symbol': 'DUK',\n",
      "    'time_in_force': 'day',\n",
      "    'type': 'market',\n",
      "    'updated_at': '2020-04-28T16:21:29.258504Z'})\n",
      "Buy  Order({   'asset_class': 'us_equity',\n",
      "    'asset_id': 'e2fe0a11-d58e-4b4e-a847-e560fee24a94',\n",
      "    'canceled_at': None,\n",
      "    'client_order_id': '5dc1c675-160d-49a0-bbb4-16c6b54222dd',\n",
      "    'created_at': '2020-04-28T16:21:40.946692Z',\n",
      "    'expired_at': None,\n",
      "    'extended_hours': False,\n",
      "    'failed_at': None,\n",
      "    'filled_at': None,\n",
      "    'filled_avg_price': None,\n",
      "    'filled_qty': '0',\n",
      "    'id': '5778343a-2cf7-450a-8d0a-22da4980ca7c',\n",
      "    'legs': None,\n",
      "    'limit_price': None,\n",
      "    'order_class': '',\n",
      "    'order_type': 'market',\n",
      "    'qty': '33',\n",
      "    'replaced_at': None,\n",
      "    'replaced_by': None,\n",
      "    'replaces': None,\n",
      "    'side': 'buy',\n",
      "    'status': 'accepted',\n",
      "    'stop_price': None,\n",
      "    'submitted_at': '2020-04-28T16:21:40.902035Z',\n",
      "    'symbol': 'GIS',\n",
      "    'time_in_force': 'day',\n",
      "    'type': 'market',\n",
      "    'updated_at': '2020-04-28T16:21:40.946692Z'})\n",
      "MKTK\n"
     ]
    },
    {
     "name": "stderr",
     "output_type": "stream",
     "text": [
      "sleep 3 seconds and retrying https://data.alpaca.markets/v1/bars/1Min 3 more time(s)...\n",
      "sleep 3 seconds and retrying https://data.alpaca.markets/v1/bars/1Min 3 more time(s)...\n",
      "sleep 3 seconds and retrying https://data.alpaca.markets/v1/bars/1Min 3 more time(s)...\n"
     ]
    },
    {
     "name": "stdout",
     "output_type": "stream",
     "text": [
      "SRE 15\n",
      "SJM 16\n",
      "SNPS 13\n"
     ]
    },
    {
     "name": "stderr",
     "output_type": "stream",
     "text": [
      "sleep 3 seconds and retrying https://data.alpaca.markets/v1/bars/1Min 3 more time(s)...\n",
      "sleep 3 seconds and retrying https://data.alpaca.markets/v1/bars/1Min 3 more time(s)...\n"
     ]
    },
    {
     "name": "stdout",
     "output_type": "stream",
     "text": [
      "\n",
      "ANSS 7\n",
      "BRKB\n",
      "BFB\n",
      "DHR 12\n",
      "DUK 22\n"
     ]
    },
    {
     "name": "stderr",
     "output_type": "stream",
     "text": [
      "sleep 3 seconds and retrying https://data.alpaca.markets/v1/bars/1Min 3 more time(s)...\n"
     ]
    },
    {
     "name": "stdout",
     "output_type": "stream",
     "text": [
      "MKTK\n",
      "MNST 33\n"
     ]
    },
    {
     "name": "stderr",
     "output_type": "stream",
     "text": [
      "sleep 3 seconds and retrying https://data.alpaca.markets/v1/bars/1Min 3 more time(s)...\n",
      "sleep 3 seconds and retrying https://data.alpaca.markets/v1/bars/1Min 3 more time(s)...\n"
     ]
    },
    {
     "name": "stdout",
     "output_type": "stream",
     "text": [
      "PNW 25\n",
      "SRE 15\n",
      "SNPS 13\n"
     ]
    },
    {
     "name": "stderr",
     "output_type": "stream",
     "text": [
      "sleep 3 seconds and retrying https://data.alpaca.markets/v1/bars/1Min 3 more time(s)...\n"
     ]
    },
    {
     "name": "stdout",
     "output_type": "stream",
     "text": [
      "\n",
      "ANSS 7\n",
      "BRKB\n",
      "BFB\n",
      "DUK 22\n",
      "MKTK\n",
      "PNW 25\n"
     ]
    },
    {
     "name": "stderr",
     "output_type": "stream",
     "text": [
      "sleep 3 seconds and retrying https://data.alpaca.markets/v1/bars/1Min 3 more time(s)...\n"
     ]
    },
    {
     "name": "stdout",
     "output_type": "stream",
     "text": [
      "SNPS 13\n"
     ]
    }
   ],
   "source": [
    "for minu in range(500) :\n",
    "        \n",
    "    for i in range(assetListLen) :\n",
    "        try:\n",
    "            symbol = assetsToTrade[i]\n",
    "\n",
    "            returned_data = api.get_barset(symbol,barTimeframe,limit=150).df\n",
    "            #api.get_barset(symbol,barTimeframe,limit=150).df\n",
    "\n",
    "\n",
    "            # Calculated trading indicators\n",
    "            #populate exponential moving averages\n",
    "            data=populateindicators(returned_data[symbol]) \n",
    "\n",
    "\n",
    "             # Create the buy signal here\n",
    "            if data['adx'][-1] > 22 and \\\n",
    "            data['mfi'][-1] < 25 and \\\n",
    "            data['ultosc'][-1] < 25 and \\\n",
    "            data['rsi'][-1] < 33 and \\\n",
    "            data['minusdi'][-1] > 25 and \\\n",
    "            data['minusdi'][-1] > data['plusdi'][-1]:\n",
    "\n",
    "                buyord=True\n",
    "                assetlist=api.list_positions()\n",
    "                for asset in assetlist:\n",
    "                    if asset.symbol == symbol:\n",
    "                        buyord=False\n",
    "                        print(asset.symbol,asset.qty)\n",
    "                if buyord==True:\n",
    "                    #cashBalance = account.cash\n",
    "\n",
    "                    targetPositionSize = int(2000 / data['close'][-1]) # Calculates required position size\n",
    "\n",
    "                    returned = api.submit_order(symbol,targetPositionSize,\"buy\",\"market\",\"day\") # Market order to open position\n",
    "                    print('Buy ',returned)\n",
    "\n",
    "\n",
    "            elif data['adx'][-1] > 22 and \\\n",
    "            data['mfi'][-1] > 63 and \\\n",
    "            data['rsi'][-1] > 75 and \\\n",
    "            data['plusdi'][-1] > 25 and \\\n",
    "            data['minusdi'][-1] < data['plusdi'][-1]:\n",
    "                # Closes position\n",
    "                openPosition = api.get_position(symbol)\n",
    "\n",
    "                returned = api.submit_order(symbol,int(openPosition.qty),\"sell\",\"market\",\"day\") # Market order to fully close position\n",
    "                print('Sell ',returned)\n",
    "        \n",
    "        except:\n",
    "                print(symbol)\n",
    "                \n",
    "        #interval should be an integer, the number of seconds to wait\n",
    "    time.sleep(20)"
   ]
  },
  {
   "cell_type": "code",
   "execution_count": null,
   "metadata": {},
   "outputs": [],
   "source": []
  },
  {
   "cell_type": "code",
   "execution_count": null,
   "metadata": {},
   "outputs": [],
   "source": []
  },
  {
   "cell_type": "code",
   "execution_count": null,
   "metadata": {},
   "outputs": [],
   "source": []
  }
 ],
 "metadata": {
  "kernelspec": {
   "display_name": "Python 3",
   "language": "python",
   "name": "python3"
  },
  "language_info": {
   "codemirror_mode": {
    "name": "ipython",
    "version": 3
   },
   "file_extension": ".py",
   "mimetype": "text/x-python",
   "name": "python",
   "nbconvert_exporter": "python",
   "pygments_lexer": "ipython3",
   "version": "3.6.5"
  }
 },
 "nbformat": 4,
 "nbformat_minor": 4
}
