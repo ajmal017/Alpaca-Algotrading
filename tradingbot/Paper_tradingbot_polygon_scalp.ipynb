{
 "cells": [
  {
   "cell_type": "code",
   "execution_count": 1,
   "metadata": {},
   "outputs": [],
   "source": [
    "import datetime\n",
    "import numpy as np\n",
    "import talib as ta\n",
    "import alpaca_trade_api as tradeapi\n",
    "import time\n",
    "import sys\n",
    "sys.path.insert(0, '../')\n",
    "\n"
   ]
  },
  {
   "cell_type": "code",
   "execution_count": 2,
   "metadata": {},
   "outputs": [],
   "source": [
    "from config_paper import key_id, secret_key\n",
    "from cross_signal import *"
   ]
  },
  {
   "cell_type": "code",
   "execution_count": 3,
   "metadata": {},
   "outputs": [],
   "source": [
    "#The url at the end is what makes a paper trading bot\n",
    "base_url='https://paper-api.alpaca.markets'\n",
    "api = tradeapi.REST(key_id, secret_key,base_url )"
   ]
  },
  {
   "cell_type": "code",
   "execution_count": 4,
   "metadata": {},
   "outputs": [
    {
     "data": {
      "text/plain": [
       "'2020-04-27'"
      ]
     },
     "execution_count": 4,
     "metadata": {},
     "output_type": "execute_result"
    }
   ],
   "source": [
    "startdate = datetime.datetime.today().strftime(\"%Y-%m-%d\")\n",
    "startdate"
   ]
  },
  {
   "cell_type": "code",
   "execution_count": 5,
   "metadata": {},
   "outputs": [],
   "source": [
    "#make sure to import these packages\n",
    "from pandas import DataFrame\n",
    "import talib.abstract as tab\n",
    "#abstract automatically extracts the columns and periods from the data itself, no input required\n",
    "\n",
    "\n",
    "\n",
    "#feel free to add or subtract more indicators for any other strategy you want to use\n",
    "def populateindicators(dataframe) -> DataFrame:\n",
    "        #exponential moving averages\n",
    "        dataframe['mfi'] = ta.MFI(dataframe['high'],dataframe['low'],dataframe['close'], np.asarray(dataframe['volume'], dtype='float'), timeperiod=14)\n",
    "        \n",
    "        dataframe['minusdi'] = tab.MINUS_DI(dataframe, timeperiod=14)\n",
    "        dataframe['plusdi'] = tab.PLUS_DI(dataframe, timeperiod=14)\n",
    "        \n",
    "        dataframe['rsi'] = tab.RSI(dataframe, timeperiod=20, price='close')\n",
    "        \n",
    "        dataframe['adx'] = tab.ADX(dataframe)\n",
    "\n",
    "        # required for graphing\n",
    "\n",
    "        return dataframe"
   ]
  },
  {
   "cell_type": "code",
   "execution_count": 6,
   "metadata": {},
   "outputs": [
    {
     "name": "stdout",
     "output_type": "stream",
     "text": [
      "ACTIVE\n"
     ]
    },
    {
     "data": {
      "text/plain": [
       "'374896.48'"
      ]
     },
     "execution_count": 6,
     "metadata": {},
     "output_type": "execute_result"
    }
   ],
   "source": [
    "account = api.get_account()\n",
    "print(account.status)\n",
    "account.buying_power"
   ]
  },
  {
   "cell_type": "code",
   "execution_count": 23,
   "metadata": {},
   "outputs": [
    {
     "data": {
      "text/plain": [
       "PortfolioHistory({   'base_value': 100000,\n",
       "    'equity': [   100000,\n",
       "                  100000,\n",
       "                  100000,\n",
       "                  100000,\n",
       "                  100000,\n",
       "                  100000,\n",
       "                  100000,\n",
       "                  100000,\n",
       "                  100000,\n",
       "                  100000,\n",
       "                  100000,\n",
       "                  100000,\n",
       "                  100000,\n",
       "                  100000,\n",
       "                  100000,\n",
       "                  100000,\n",
       "                  100000,\n",
       "                  100000,\n",
       "                  100000,\n",
       "                  100000,\n",
       "                  99059.87],\n",
       "    'profit_loss': [   0,\n",
       "                       0,\n",
       "                       0,\n",
       "                       0,\n",
       "                       0,\n",
       "                       0,\n",
       "                       0,\n",
       "                       0,\n",
       "                       0,\n",
       "                       0,\n",
       "                       0,\n",
       "                       0,\n",
       "                       0,\n",
       "                       0,\n",
       "                       0,\n",
       "                       0,\n",
       "                       0,\n",
       "                       0,\n",
       "                       0,\n",
       "                       0,\n",
       "                       -940.13],\n",
       "    'profit_loss_pct': [   0,\n",
       "                           0,\n",
       "                           0,\n",
       "                           0,\n",
       "                           0,\n",
       "                           0,\n",
       "                           0,\n",
       "                           0,\n",
       "                           0,\n",
       "                           0,\n",
       "                           0,\n",
       "                           0,\n",
       "                           0,\n",
       "                           0,\n",
       "                           0,\n",
       "                           0,\n",
       "                           0,\n",
       "                           0,\n",
       "                           0,\n",
       "                           0,\n",
       "                           -0.0094013],\n",
       "    'timeframe': '1D',\n",
       "    'timestamp': [   1585315800,\n",
       "                     1585575000,\n",
       "                     1585661400,\n",
       "                     1585747800,\n",
       "                     1585834200,\n",
       "                     1585920600,\n",
       "                     1586179800,\n",
       "                     1586266200,\n",
       "                     1586352600,\n",
       "                     1586439000,\n",
       "                     1586784600,\n",
       "                     1586871000,\n",
       "                     1586957400,\n",
       "                     1587043800,\n",
       "                     1587130200,\n",
       "                     1587389400,\n",
       "                     1587475800,\n",
       "                     1587562200,\n",
       "                     1587648600,\n",
       "                     1587735000,\n",
       "                     1588016393]})"
      ]
     },
     "execution_count": 23,
     "metadata": {},
     "output_type": "execute_result"
    }
   ],
   "source": [
    "api.get_portfolio_history()"
   ]
  },
  {
   "cell_type": "code",
   "execution_count": 7,
   "metadata": {},
   "outputs": [],
   "source": [
    "with open('SP500_2020Q2SYM.txt', 'r') as f:\n",
    "    symbols= f.read().split('\\n')"
   ]
  },
  {
   "cell_type": "code",
   "execution_count": 8,
   "metadata": {},
   "outputs": [],
   "source": [
    "barTimeframe = \"1Min\" # 1Min, 5Min, 15Min, 1H, 1D\n",
    "assetsToTrade = [x.upper() for x in symbols]\n",
    "positionSizing = 0.25\n",
    "\n",
    "# Tracks position in list of symbols to download \n",
    "assetListLen = len(assetsToTrade)\n"
   ]
  },
  {
   "cell_type": "code",
   "execution_count": 9,
   "metadata": {},
   "outputs": [],
   "source": [
    "returneddata = api.get_barset('FLS',barTimeframe,limit=150).df\n",
    "returneddata2=api.polygon.historic_agg_v2( 'EA', 1, 'minute',_from='2020-04-23', to=startdate,).df\n",
    "#data_indic=populateindicators(returneddata['AMP'])\n"
   ]
  },
  {
   "cell_type": "code",
   "execution_count": 10,
   "metadata": {},
   "outputs": [],
   "source": [
    "data=populateindicators(returneddata2)"
   ]
  },
  {
   "cell_type": "code",
   "execution_count": 30,
   "metadata": {},
   "outputs": [
    {
     "name": "stdout",
     "output_type": "stream",
     "text": [
      "587\n"
     ]
    }
   ],
   "source": [
    "try:\n",
    "    openPosition = api.get_position('UAL')\n",
    "    print(openPosition.qty)\n",
    "except:\n",
    "    print('oops')"
   ]
  },
  {
   "cell_type": "code",
   "execution_count": 12,
   "metadata": {},
   "outputs": [
    {
     "data": {
      "text/plain": [
       "(161, '74799.59')"
      ]
     },
     "execution_count": 12,
     "metadata": {},
     "output_type": "execute_result"
    }
   ],
   "source": [
    "targetPositionSize , cashBalance"
   ]
  },
  {
   "cell_type": "code",
   "execution_count": 27,
   "metadata": {},
   "outputs": [
    {
     "data": {
      "text/plain": [
       "Order({   'asset_class': 'us_equity',\n",
       "    'asset_id': 'b0b6dd9d-8b9b-48a9-ba46-b9d54906e415',\n",
       "    'canceled_at': None,\n",
       "    'client_order_id': '42c54a50-8bdf-4d3a-a2ba-68a352cf5ef9',\n",
       "    'created_at': '2020-04-27T19:51:51.099922Z',\n",
       "    'expired_at': None,\n",
       "    'extended_hours': False,\n",
       "    'failed_at': None,\n",
       "    'filled_at': None,\n",
       "    'filled_avg_price': None,\n",
       "    'filled_qty': '0',\n",
       "    'id': '2084d809-91a7-4a92-a37d-0862b62af74b',\n",
       "    'legs': None,\n",
       "    'limit_price': None,\n",
       "    'order_class': '',\n",
       "    'order_type': 'market',\n",
       "    'qty': '161',\n",
       "    'replaced_at': None,\n",
       "    'replaced_by': None,\n",
       "    'replaces': None,\n",
       "    'side': 'sell',\n",
       "    'status': 'accepted',\n",
       "    'stop_price': None,\n",
       "    'submitted_at': '2020-04-27T19:51:51.089656Z',\n",
       "    'symbol': 'AAPL',\n",
       "    'time_in_force': 'day',\n",
       "    'type': 'market',\n",
       "    'updated_at': '2020-04-27T19:51:51.099922Z'})"
      ]
     },
     "execution_count": 27,
     "metadata": {},
     "output_type": "execute_result"
    }
   ],
   "source": [
    "api.submit_order('AAPL',161,\"sell\",\"market\",\"day\")"
   ]
  },
  {
   "cell_type": "code",
   "execution_count": null,
   "metadata": {},
   "outputs": [
    {
     "name": "stdout",
     "output_type": "stream",
     "text": [
      "MMM\n",
      "MO\n",
      "BRKB\n",
      "BFB\n",
      "FTV\n",
      "ITW\n",
      "JCI\n",
      "KSS\n",
      "M\n",
      "MKTK\n",
      "MYL\n",
      "NUE\n",
      "ORCL\n",
      "PWR\n",
      "RTN\n",
      "UTX\n",
      "\n",
      "ANET\n",
      "BRKB\n",
      "BFB\n",
      "CE\n",
      "DD\n",
      "FTV\n",
      "JCI\n",
      "MKTK\n",
      "NUE\n",
      "RTN\n",
      "TSCO\n",
      "UTX\n",
      "\n",
      "MMM\n",
      "APA\n",
      "BRKB\n",
      "BFB\n",
      "DISCA\n",
      "JCI\n",
      "M\n",
      "MKTK\n"
     ]
    }
   ],
   "source": [
    "for minu in range(500) :\n",
    "        \n",
    "    for i in range(assetListLen) :\n",
    "        try:\n",
    "            symbol = assetsToTrade[i]\n",
    "\n",
    "            returned_data = api.polygon.historic_agg_v2(symbol, 1, 'minute',_from='2020-04-20', to=startdate,).df\n",
    "            #api.get_barset(symbol,barTimeframe,limit=150).df\n",
    "\n",
    "\n",
    "            # Calculated trading indicators\n",
    "            #populate exponential moving averages\n",
    "            data=populateindicators(returned_data) \n",
    "\n",
    "\n",
    "             # Create the buy signal here\n",
    "            if data['adx'][-1] > 22 and \\\n",
    "            data['mfi'][-1] < 25 and \\\n",
    "            data['rsi'][-1] < 35 and \\\n",
    "            data['minusdi'][-1] > 25 and \\\n",
    "            data['minusdi'][-1] < data['plusdi'][-1]:\n",
    "\n",
    "                try:\n",
    "                    openPosition = api.get_position(symbol)\n",
    "                    print(openPosition.qty)\n",
    "                except:\n",
    "                    cashBalance = account.cash\n",
    "\n",
    "                    targetPositionSize = int(float(cashBalance) / (data['close'][-1] / positionSizing)) # Calculates required position size\n",
    "\n",
    "                    returned = api.submit_order(symbol,targetPositionSize,\"buy\",\"market\",\"day\") # Market order to open position\n",
    "                    print(returned)\n",
    "\n",
    "\n",
    "            elif data['adx'][-1] > 22 and \\\n",
    "            data['mfi'][-1] > 63 and \\\n",
    "            data['rsi'][-1] > 74 and \\\n",
    "            data['plusdi'][-1] > 25 and \\\n",
    "            data['minusdi'][-1] < data['plusdi'][-1]:\n",
    "                # Closes position  SMA50\n",
    "                openPosition = api.get_position(symbol)\n",
    "\n",
    "                returned = api.submit_order(symbol,int(openPosition.qty),\"sell\",\"market\",\"day\") # Market order to fully close position\n",
    "                print(returned)\n",
    "        \n",
    "        except:\n",
    "                print(symbol)\n",
    "                \n",
    "        #interval should be an integer, the number of seconds to wait\n",
    "    time.sleep(20)"
   ]
  },
  {
   "cell_type": "code",
   "execution_count": null,
   "metadata": {},
   "outputs": [],
   "source": []
  },
  {
   "cell_type": "code",
   "execution_count": null,
   "metadata": {},
   "outputs": [],
   "source": []
  }
 ],
 "metadata": {
  "kernelspec": {
   "display_name": "Python 3",
   "language": "python",
   "name": "python3"
  },
  "language_info": {
   "codemirror_mode": {
    "name": "ipython",
    "version": 3
   },
   "file_extension": ".py",
   "mimetype": "text/x-python",
   "name": "python",
   "nbconvert_exporter": "python",
   "pygments_lexer": "ipython3",
   "version": "3.6.5"
  }
 },
 "nbformat": 4,
 "nbformat_minor": 4
}
