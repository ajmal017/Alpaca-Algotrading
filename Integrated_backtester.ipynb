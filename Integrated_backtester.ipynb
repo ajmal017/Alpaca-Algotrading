{
 "cells": [
  {
   "cell_type": "code",
   "execution_count": 14,
   "metadata": {},
   "outputs": [],
   "source": [
    "\n",
    "import datetime\n",
    "\n",
    "# The above could be sent to an independent module\n",
    "import backtrader as bt\n",
    "import alpaca_backtrader_api \n",
    "import alpaca_trade_api as tradeapi\n",
    "import pandas as pd\n",
    "\n",
    "from config import key_id, secret_key\n"
   ]
  },
  {
   "cell_type": "code",
   "execution_count": 15,
   "metadata": {},
   "outputs": [],
   "source": [
    "\n",
    "api = tradeapi.REST(key_id, secret_key, 'https://paper-api.alpaca.markets')"
   ]
  },
  {
   "cell_type": "code",
   "execution_count": 16,
   "metadata": {},
   "outputs": [],
   "source": [
    "class SmaCross(bt.SignalStrategy):\n",
    "    def __init__(self):\n",
    "        sma1, sma2 = bt.ind.SMA(period=10), bt.ind.SMA(period=30)\n",
    "        crossover = bt.ind.CrossOver(sma1, sma2)\n",
    "        self.signal_add(bt.SIGNAL_LONG, crossover)"
   ]
  },
  {
   "cell_type": "code",
   "execution_count": 17,
   "metadata": {},
   "outputs": [],
   "source": [
    "#creating cerebro backtrader\n",
    "cerebro = bt.Cerebro()\n",
    "cerebro.addstrategy(SmaCross)\n",
    "cerebro.broker.setcash(100000)\n",
    "cerebro.broker.setcommission(commission=0.0)\n",
    "cerebro.addsizer(bt.sizers.PercentSizer, percents=20)"
   ]
  },
  {
   "cell_type": "code",
   "execution_count": 19,
   "metadata": {},
   "outputs": [
    {
     "data": {
      "text/plain": [
       "<alpaca_backtrader_api.alpacadata.AlpacaData at 0x2d139f75d68>"
      ]
     },
     "execution_count": 19,
     "metadata": {},
     "output_type": "execute_result"
    }
   ],
   "source": [
    "#AlpacaStore can then derive the data feeder as DataFactory and here you \n",
    "store = alpaca_backtrader_api.AlpacaStore(\n",
    "    key_id=key_id,\n",
    "    secret_key=secret_key,\n",
    "    paper=True\n",
    ")\n",
    "\n",
    "DataFactory = store.getdata\n",
    "data0 = DataFactory(\n",
    "    dataname='AAPL',\n",
    "    timeframe=bt.TimeFrame.TFrame(\"Minutes\"),\n",
    "    fromdate=pd.Timestamp('2018-11-15'),\n",
    "    todate=pd.Timestamp('2018-11-17'),\n",
    "    historical=True)\n",
    "cerebro.adddata(data0)"
   ]
  },
  {
   "cell_type": "code",
   "execution_count": 20,
   "metadata": {},
   "outputs": [
    {
     "data": {
      "text/plain": [
       "<alpaca_backtrader_api.alpacadata.AlpacaData at 0x2d139f75b00>"
      ]
     },
     "execution_count": 20,
     "metadata": {},
     "output_type": "execute_result"
    }
   ],
   "source": [
    "DataFactory(\n",
    "    dataname='AAPL',\n",
    "    timeframe=bt.TimeFrame.TFrame(\"Minutes\"),\n",
    "    fromdate=pd.Timestamp('2018-11-15'),\n",
    "    todate=pd.Timestamp('2018-11-17'),\n",
    "    historical=True)"
   ]
  },
  {
   "cell_type": "code",
   "execution_count": 21,
   "metadata": {},
   "outputs": [
    {
     "name": "stdout",
     "output_type": "stream",
     "text": [
      "404 Client Error: Not Found for url: https://api.polygon.io/v1/historic/agg/minute/AAPL?from=2018-11-15T00%3A00%3A00&to=2018-11-17T00%3A00%3A00&apiKey=AK6LUIQ7Q5L200COX268\n"
     ]
    },
    {
     "ename": "AttributeError",
     "evalue": "'Plot_OldSync' object has no attribute 'mpyplot'",
     "output_type": "error",
     "traceback": [
      "\u001b[1;31m---------------------------------------------------------------------------\u001b[0m",
      "\u001b[1;31mAttributeError\u001b[0m                            Traceback (most recent call last)",
      "\u001b[1;32m<ipython-input-21-85ac7be7ad26>\u001b[0m in \u001b[0;36m<module>\u001b[1;34m\u001b[0m\n\u001b[0;32m      1\u001b[0m \u001b[0mcerebro\u001b[0m\u001b[1;33m.\u001b[0m\u001b[0mrun\u001b[0m\u001b[1;33m(\u001b[0m\u001b[1;33m)\u001b[0m\u001b[1;33m\u001b[0m\u001b[1;33m\u001b[0m\u001b[0m\n\u001b[1;32m----> 2\u001b[1;33m \u001b[0mcerebro\u001b[0m\u001b[1;33m.\u001b[0m\u001b[0mplot\u001b[0m\u001b[1;33m(\u001b[0m\u001b[1;33m)\u001b[0m\u001b[1;33m\u001b[0m\u001b[1;33m\u001b[0m\u001b[0m\n\u001b[0m",
      "\u001b[1;32m~\\Anaconda3\\lib\\site-packages\\backtrader\\cerebro.py\u001b[0m in \u001b[0;36mplot\u001b[1;34m(self, plotter, numfigs, iplot, start, end, width, height, dpi, tight, use, **kwargs)\u001b[0m\n\u001b[0;32m    994\u001b[0m                 \u001b[0mfigs\u001b[0m\u001b[1;33m.\u001b[0m\u001b[0mappend\u001b[0m\u001b[1;33m(\u001b[0m\u001b[0mrfig\u001b[0m\u001b[1;33m)\u001b[0m\u001b[1;33m\u001b[0m\u001b[1;33m\u001b[0m\u001b[0m\n\u001b[0;32m    995\u001b[0m \u001b[1;33m\u001b[0m\u001b[0m\n\u001b[1;32m--> 996\u001b[1;33m             \u001b[0mplotter\u001b[0m\u001b[1;33m.\u001b[0m\u001b[0mshow\u001b[0m\u001b[1;33m(\u001b[0m\u001b[1;33m)\u001b[0m\u001b[1;33m\u001b[0m\u001b[1;33m\u001b[0m\u001b[0m\n\u001b[0m\u001b[0;32m    997\u001b[0m \u001b[1;33m\u001b[0m\u001b[0m\n\u001b[0;32m    998\u001b[0m         \u001b[1;32mreturn\u001b[0m \u001b[0mfigs\u001b[0m\u001b[1;33m\u001b[0m\u001b[1;33m\u001b[0m\u001b[0m\n",
      "\u001b[1;32m~\\Anaconda3\\lib\\site-packages\\backtrader\\plot\\plot.py\u001b[0m in \u001b[0;36mshow\u001b[1;34m(self)\u001b[0m\n\u001b[0;32m    812\u001b[0m \u001b[1;33m\u001b[0m\u001b[0m\n\u001b[0;32m    813\u001b[0m     \u001b[1;32mdef\u001b[0m \u001b[0mshow\u001b[0m\u001b[1;33m(\u001b[0m\u001b[0mself\u001b[0m\u001b[1;33m)\u001b[0m\u001b[1;33m:\u001b[0m\u001b[1;33m\u001b[0m\u001b[1;33m\u001b[0m\u001b[0m\n\u001b[1;32m--> 814\u001b[1;33m         \u001b[0mself\u001b[0m\u001b[1;33m.\u001b[0m\u001b[0mmpyplot\u001b[0m\u001b[1;33m.\u001b[0m\u001b[0mshow\u001b[0m\u001b[1;33m(\u001b[0m\u001b[1;33m)\u001b[0m\u001b[1;33m\u001b[0m\u001b[1;33m\u001b[0m\u001b[0m\n\u001b[0m\u001b[0;32m    815\u001b[0m \u001b[1;33m\u001b[0m\u001b[0m\n\u001b[0;32m    816\u001b[0m     \u001b[1;32mdef\u001b[0m \u001b[0msavefig\u001b[0m\u001b[1;33m(\u001b[0m\u001b[0mself\u001b[0m\u001b[1;33m,\u001b[0m \u001b[0mfig\u001b[0m\u001b[1;33m,\u001b[0m \u001b[0mfilename\u001b[0m\u001b[1;33m,\u001b[0m \u001b[0mwidth\u001b[0m\u001b[1;33m=\u001b[0m\u001b[1;36m16\u001b[0m\u001b[1;33m,\u001b[0m \u001b[0mheight\u001b[0m\u001b[1;33m=\u001b[0m\u001b[1;36m9\u001b[0m\u001b[1;33m,\u001b[0m \u001b[0mdpi\u001b[0m\u001b[1;33m=\u001b[0m\u001b[1;36m300\u001b[0m\u001b[1;33m,\u001b[0m \u001b[0mtight\u001b[0m\u001b[1;33m=\u001b[0m\u001b[1;32mTrue\u001b[0m\u001b[1;33m)\u001b[0m\u001b[1;33m:\u001b[0m\u001b[1;33m\u001b[0m\u001b[1;33m\u001b[0m\u001b[0m\n",
      "\u001b[1;31mAttributeError\u001b[0m: 'Plot_OldSync' object has no attribute 'mpyplot'"
     ]
    }
   ],
   "source": [
    "cerebro.run()\n",
    "cerebro.plot()"
   ]
  },
  {
   "cell_type": "code",
   "execution_count": null,
   "metadata": {},
   "outputs": [],
   "source": [
    "#more complex strategy Template skip to avoid confusion of code, this is for backtesting sample only\n",
    "class TestStrategy(bt.Strategy):\n",
    "    params = dict(\n",
    "        smaperiod=5,\n",
    "        trade=False,\n",
    "        stake=10,\n",
    "        exectype=bt.Order.Market,\n",
    "        stopafter=0,\n",
    "        valid=None,\n",
    "        cancel=0,\n",
    "        donotcounter=False,\n",
    "        sell=False,\n",
    "        usebracket=False,\n",
    "    )\n",
    "\n",
    "    def __init__(self):\n",
    "        # To control operation entries\n",
    "        self.orderid = list()\n",
    "        self.order = None\n",
    "\n",
    "        self.counttostop = 0\n",
    "        self.datastatus = 0\n",
    "\n",
    "        self.last_pos = None\n",
    "        self.last_value = 0\n",
    "\n",
    "        # Create SMA on 2nd data\n",
    "        self.sma = bt.indicators.MovAv.SMA(self.data, period=self.p.smaperiod)\n",
    "\n",
    "        print('--------------------------------------------------')\n",
    "        print('Strategy Created')\n",
    "        print('--------------------------------------------------')\n",
    "\n",
    "    def notify_fund(self, cash, value, fundvalue, shares):\n",
    "        if value != self.last_value:\n",
    "            print(cash, value, fundvalue, shares)\n",
    "            self.last_value = value\n",
    "\n",
    "    def notify_data(self, data, status, *args, **kwargs):\n",
    "        print('*' * 5, 'DATA NOTIF:', data._getstatusname(status), *args)\n",
    "        if status == data.LIVE:\n",
    "            self.counttostop = self.p.stopafter\n",
    "            self.datastatus = 1\n",
    "\n",
    "    def notify_store(self, msg, *args, **kwargs):\n",
    "        print('*' * 5, 'STORE NOTIF:', msg)\n",
    "\n",
    "    def notify_order(self, order):\n",
    "        if order.status in [order.Completed, order.Cancelled, order.Rejected]:\n",
    "            self.order = None\n",
    "\n",
    "        print('{}: Order ref: {} / Type {} / Status {}'.format(\n",
    "            self.data.datetime.date(0),\n",
    "            order.ref, 'Buy' * order.isbuy() or 'Sell',\n",
    "            order.getstatusname()))\n",
    "\n",
    "    def notify_trade(self, trade):\n",
    "        print('-' * 50, 'TRADE BEGIN', datetime.datetime.now())\n",
    "        print(trade)\n",
    "        print('-' * 50, 'TRADE END')\n",
    "\n",
    "    def prenext(self):\n",
    "        self.next(frompre=True)\n",
    "\n",
    "    def next(self, frompre=False):\n",
    "        txt = list()\n",
    "        txt.append('Data0')\n",
    "        txt.append('%04d' % len(self.data0))\n",
    "        dtfmt = '%Y-%m-%dT%H:%M:%S.%f'\n",
    "        txt.append('{:f}'.format(self.data.datetime[0]))\n",
    "        txt.append('%s' % self.data.datetime.datetime(0).strftime(dtfmt))\n",
    "        txt.append('{:f}'.format(self.data.open[0]))\n",
    "        txt.append('{:f}'.format(self.data.high[0]))\n",
    "        txt.append('{:f}'.format(self.data.low[0]))\n",
    "        txt.append('{:f}'.format(self.data.close[0]))\n",
    "        txt.append('{:6d}'.format(int(self.data.volume[0])))\n",
    "        txt.append('{:d}'.format(int(self.data.openinterest[0])))\n",
    "        txt.append('{:f}'.format(self.sma[0]))\n",
    "        print(', '.join(txt))\n",
    "\n",
    "        if len(self.datas) > 1 and len(self.data1):\n",
    "            txt = list()\n",
    "            txt.append('Data1')\n",
    "            txt.append('%04d' % len(self.data1))\n",
    "            dtfmt = '%Y-%m-%dT%H:%M:%S.%f'\n",
    "            txt.append('{}'.format(self.data1.datetime[0]))\n",
    "            txt.append('%s' % self.data1.datetime.datetime(0).strftime(dtfmt))\n",
    "            txt.append('{}'.format(self.data1.open[0]))\n",
    "            txt.append('{}'.format(self.data1.high[0]))\n",
    "            txt.append('{}'.format(self.data1.low[0]))\n",
    "            txt.append('{}'.format(self.data1.close[0]))\n",
    "            txt.append('{}'.format(self.data1.volume[0]))\n",
    "            txt.append('{}'.format(self.data1.openinterest[0]))\n",
    "            txt.append('{}'.format(float('NaN')))\n",
    "            print(', '.join(txt))\n",
    "\n",
    "        if self.counttostop:  # stop after x live lines\n",
    "            self.counttostop -= 1\n",
    "            if not self.counttostop:\n",
    "                self.env.runstop()\n",
    "                return\n",
    "\n",
    "        if not self.p.trade:\n",
    "            return\n",
    "\n",
    "        if self.datastatus and not self.position and len(self.orderid) < 1:\n",
    "            if not self.p.usebracket:\n",
    "                if not self.p.sell:\n",
    "                    # price = round(self.data0.close[0] * 0.90, 2)\n",
    "                    price = self.data0.close[0] - 5\n",
    "                    self.order = self.buy(size=self.p.stake,\n",
    "                                          exectype=self.p.exectype,\n",
    "                                          price=price,\n",
    "                                          valid=self.p.valid)\n",
    "                else:\n",
    "                    # price = round(self.data0.close[0] * 1.10, 4)\n",
    "                    price = self.data0.close[0] - 0.05\n",
    "                    self.order = self.sell(size=self.p.stake,\n",
    "                                           exectype=self.p.exectype,\n",
    "                                           price=price,\n",
    "                                           valid=self.p.valid)\n",
    "\n",
    "            else:\n",
    "                print('USING BRACKET')\n",
    "                price = self.data0.close[0] - 0.05\n",
    "                self.order, _, _ = self.buy_bracket(size=self.p.stake,\n",
    "                                                    exectype=bt.Order.Market,\n",
    "                                                    price=price,\n",
    "                                                    stopprice=price - 0.10,\n",
    "                                                    limitprice=price + 0.10,\n",
    "                                                    valid=self.p.valid)\n",
    "\n",
    "            self.orderid.append(self.order)\n",
    "        elif self.position and not self.p.donotcounter:\n",
    "            if self.order is None:\n",
    "                if not self.p.sell:\n",
    "                    self.order = self.sell(size=self.p.stake // 2,\n",
    "                                           exectype=bt.Order.Market,\n",
    "                                           price=self.data0.close[0])\n",
    "                else:\n",
    "                    self.order = self.buy(size=self.p.stake // 2,\n",
    "                                          exectype=bt.Order.Market,\n",
    "                                          price=self.data0.close[0])\n",
    "\n",
    "            self.orderid.append(self.order)\n",
    "\n",
    "        elif self.order is not None and self.p.cancel:\n",
    "            if self.datastatus > self.p.cancel:\n",
    "                self.cancel(self.order)\n",
    "\n",
    "        if self.datastatus:\n",
    "            self.datastatus += 1\n",
    "\n",
    "    def start(self):\n",
    "\n",
    "        header = ['Datetime', 'Open', 'High', 'Low', 'Close', 'Volume',\n",
    "                  'OpenInterest', 'SMA']\n",
    "        print(', '.join(header))\n",
    "\n",
    "        self.done = False\n"
   ]
  }
 ],
 "metadata": {
  "kernelspec": {
   "display_name": "Python 3",
   "language": "python",
   "name": "python3"
  },
  "language_info": {
   "codemirror_mode": {
    "name": "ipython",
    "version": 3
   },
   "file_extension": ".py",
   "mimetype": "text/x-python",
   "name": "python",
   "nbconvert_exporter": "python",
   "pygments_lexer": "ipython3",
   "version": "3.7.3"
  }
 },
 "nbformat": 4,
 "nbformat_minor": 4
}
